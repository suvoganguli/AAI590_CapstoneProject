{
 "cells": [
  {
   "cell_type": "markdown",
   "id": "0d7aa12d",
   "metadata": {},
   "source": [
    "# AAI 590 Capstone Project: Rapid ICU Mortality Prediction"
   ]
  }
 ],
 "metadata": {
  "language_info": {
   "name": "python"
  }
 },
 "nbformat": 4,
 "nbformat_minor": 5
}
