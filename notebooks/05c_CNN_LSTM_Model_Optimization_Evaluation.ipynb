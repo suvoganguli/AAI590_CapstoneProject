{
  "cells": [
    {
      "cell_type": "markdown",
      "id": "0",
      "metadata": {
        "id": "0"
      },
      "source": [
        "# 05c: CNN-LSTM Model Optimization and Evaluation\n",
        "\n",
        "This notebook provides a comprehensive evaluation and interpretability analysis of the trained CNN-LSTM model for ICU mortality prediction, focusing on model performance assessment and clinical insights.\n",
        "\n"
      ]
    },
    {
      "cell_type": "markdown",
      "id": "1",
      "metadata": {
        "id": "1"
      },
      "source": [
        "#### 1. Imports and Configuration\n",
        "\n",
        "Import all necessary libraries for model evaluation and visualization"
      ]
    },
    {
      "cell_type": "code",
      "execution_count": null,
      "id": "2",
      "metadata": {
        "id": "2"
      },
      "outputs": [],
      "source": [
        "# Imports and Configuration\n",
        "import numpy as np\n",
        "import tensorflow as tf\n",
        "from tensorflow.keras.models import load_model\n",
        "from sklearn.metrics import roc_auc_score, average_precision_score, confusion_matrix, classification_report, roc_curve, precision_recall_curve\n",
        "from tensorflow.keras.layers import Input, Conv1D, LSTM, Dense, Dropout, Concatenate\n",
        "from tensorflow.keras.regularizers import l2\n",
        "from tensorflow.keras.models import Model\n",
        "import matplotlib.pyplot as plt\n",
        "import pickle\n",
        "import os\n",
        "import seaborn as sns\n",
        "from sklearn.metrics import precision_recall_fscore_support\n",
        "import shap\n",
        "import numpy as np\n",
        "import tensorflow as tf\n",
        "from tensorflow.keras.models import load_model\n",
        "from sklearn.metrics import roc_curve, auc\n",
        "import matplotlib.pyplot as plt\n",
        "from sklearn.metrics import precision_recall_curve, auc\n",
        "import matplotlib.pyplot as plt\n",
        "\n"
      ]
    },
    {
      "cell_type": "markdown",
      "id": "3",
      "metadata": {
        "id": "3"
      },
      "source": [
        "## 2. Load Trained CNN-LSTM Model\n",
        "This section loads the trained CNN-LSTM model from disk. The model was previously trained on ICU patient data and saved for downstream evaluation and interpretability analysis.\n"
      ]
    },
    {
      "cell_type": "code",
      "execution_count": null,
      "id": "4",
      "metadata": {
        "colab": {
          "base_uri": "https://localhost:8080/"
        },
        "id": "4",
        "outputId": "57f1e380-c515-4d2c-f8f5-dcda9c167d65"
      },
      "outputs": [
        {
          "output_type": "stream",
          "name": "stderr",
          "text": [
            "/usr/local/lib/python3.11/dist-packages/keras/src/saving/saving_lib.py:802: UserWarning: Skipping variable loading for optimizer 'adam', because it has 36 variables whereas the saved optimizer has 2 variables. \n",
            "  saveable.load_own_variables(weights_store.get(inner_path))\n"
          ]
        }
      ],
      "source": [
        "# Define the path to the saved model\n",
        "model_path_to_load = '../data/processed/enhanced_model_36hour.keras'\n",
        "\n",
        "# Load the model\n",
        "loaded_model = load_model(model_path_to_load)\n",
        "\n"
      ]
    },
    {
      "cell_type": "markdown",
      "id": "5",
      "metadata": {
        "id": "5"
      },
      "source": [
        "## 3. Load Test Data for Evaluation\n",
        "This section loads the preprocessed test data required for evaluating the trained CNN-LSTM model. The test data includes time series features, static patient features, and ground truth labels.\n"
      ]
    },
    {
      "cell_type": "code",
      "execution_count": null,
      "id": "6",
      "metadata": {
        "id": "6"
      },
      "outputs": [],
      "source": [
        "class KerasModelWrapper:\n",
        "    def __init__(self, model):\n",
        "        self.model = model\n",
        "    def predict(self, X):\n",
        "        return (self.model.predict(X, verbose=0).flatten() > 0.5).astype(int)\n",
        "    def predict_proba(self, X):\n",
        "        proba = self.model.predict(X, verbose=0).flatten()\n",
        "        return np.vstack([1 - proba, proba]).T  # shape: (n_samples, 2)\n",
        "\n",
        "keras_model = KerasModelWrapper(loaded_model)\n",
        "\n",
        "data = np.load('../data/processed/cnn_lstm_36hour_data.npz', allow_pickle=True)\n",
        "X_test_final = data['X_test']\n",
        "static_test_final = data['static_test']\n",
        "y_test_final = data['y_test']\n",
        "\n",
        "\n"
      ]
    },
    {
      "cell_type": "markdown",
      "id": "7",
      "metadata": {
        "id": "7"
      },
      "source": [
        "# 4. Model Evaluation"
      ]
    },
    {
      "cell_type": "markdown",
      "id": "8",
      "metadata": {
        "id": "8"
      },
      "source": [
        "**Confusion Matrix Results:**\n",
        "\n",
        "- **True Negatives (Top-Left):** 390 cases were correctly predicted as negative (survived).\n",
        "- **False Positives (Top-Right):** 299 cases were incorrectly predicted as positive (died) when they actually survived. This represents Type I errors.\n",
        "- **False Negatives (Bottom-Left):** 19 cases were incorrectly predicted as negative (survived) when they actually died. This represents Type II errors.\n",
        "- **True Positives (Bottom-Right):** 92 cases were correctly predicted as positive (died).\n"
      ]
    },
    {
      "cell_type": "code",
      "execution_count": null,
      "id": "9",
      "metadata": {
        "colab": {
          "base_uri": "https://localhost:8080/",
          "height": 599
        },
        "id": "9",
        "outputId": "dfb7121b-fdd2-4f46-dde4-12c7d5843487"
      },
      "outputs": [
        {
          "output_type": "stream",
          "name": "stdout",
          "text": [
            "Generating Confusion Matrix...\n"
          ]
        },
        {
          "output_type": "display_data",
          "data": {
            "text/plain": [
              "<Figure size 800x600 with 2 Axes>"
            ],
            "image/png": "[encoded data removed]"
          },
          "metadata": {}
        },
        {
          "output_type": "stream",
          "name": "stdout",
          "text": [
            "Confusion matrix generated.\n"
          ]
        }
      ],
      "source": [
        "# Plot Confusion Matrix\n",
        "print(\"Generating Confusion Matrix...\")\n",
        "\n",
        "# Use the wrapped model to get predictions\n",
        "y_pred = keras_model.predict([X_test_final, static_test_final])\n",
        "\n",
        "# Calculate the confusion matrix\n",
        "cm = confusion_matrix(y_test_final, y_pred)\n",
        "\n",
        "# Plot the confusion matrix\n",
        "plt.figure(figsize=(8, 6))\n",
        "sns.heatmap(cm, annot=True, fmt='d', cmap='Blues', xticklabels=['Predicted Negative', 'Predicted Positive'], yticklabels=['Actual Negative', 'Actual Positive'])\n",
        "plt.xlabel('Predicted')\n",
        "plt.ylabel('Actual')\n",
        "plt.title('CNN-LSTM Confusion Matrix')\n",
        "plt.show()\n",
        "\n",
        "print(\"Confusion matrix generated.\")"
      ]
    },
    {
      "cell_type": "markdown",
      "id": "10",
      "metadata": {
        "id": "10"
      },
      "source": [
        "**Precision-Recall Curve:**\n",
        "\n",
        "The Precision-Recall curve shows the trade-off between precision and recall at different probability thresholds.\n",
        "\n",
        "*   **Precision** is the ability of the classifier not to label as positive a sample that is negative.\n",
        "*   **Recall** is the ability of the classifier to find all the positive samples.\n",
        "\n",
        "The **Area Under the Precision-Recall Curve (AUPRC)** is a single number summarizing the curve. A higher AUPRC indicates better performance, especially in imbalanced datasets where the positive class is rare. In this case, the AUPRC of 0.36 suggests that the model's ability to achieve high precision and high recall simultaneously is limited. This aligns with the confusion matrix results which showed a relatively high number of false positives."
      ]
    },
    {
      "cell_type": "code",
      "execution_count": null,
      "id": "11",
      "metadata": {
        "colab": {
          "base_uri": "https://localhost:8080/",
          "height": 599
        },
        "id": "11",
        "outputId": "7a4b7151-db71-4201-96d1-9003a7ff901f"
      },
      "outputs": [
        {
          "output_type": "stream",
          "name": "stdout",
          "text": [
            "Generating Precision-Recall Curve...\n"
          ]
        },
        {
          "output_type": "display_data",
          "data": {
            "text/plain": [
              "<Figure size 800x600 with 1 Axes>"
            ],
            "image/png": "[encoded data removed]"
          },
          "metadata": {}
        },
        {
          "output_type": "stream",
          "name": "stdout",
          "text": [
            "Precision-Recall Curve generated with AUPRC: 0.36\n"
          ]
        }
      ],
      "source": [
        "print(\"Generating Precision-Recall Curve...\")\n",
        "\n",
        "# Get predicted probabilities for the positive class\n",
        "y_proba = keras_model.predict_proba([X_test_final, static_test_final])[:, 1]\n",
        "\n",
        "# Calculate precision and recall\n",
        "precision, recall, _ = precision_recall_curve(y_test_final, y_proba)\n",
        "\n",
        "# Calculate Area Under the Precision-Recall Curve (AUPRC)\n",
        "auprc = auc(recall, precision)\n",
        "\n",
        "# Plot the Precision-Recall Curve\n",
        "plt.figure(figsize=(8, 6))\n",
        "plt.plot(recall, precision, label=f'Precision-Recall Curve (AUPRC = {auprc:.2f})')\n",
        "plt.xlabel('Recall')\n",
        "plt.ylabel('Precision')\n",
        "plt.title('CNN-LSTM - Precision-Recall Curve')\n",
        "plt.legend()\n",
        "plt.grid(True)\n",
        "plt.show()\n",
        "\n",
        "print(f\"Precision-Recall Curve generated with AUPRC: {auprc:.2f}\")"
      ]
    },
    {
      "cell_type": "markdown",
      "id": "12",
      "metadata": {
        "id": "12"
      },
      "source": [
        "**ROC Curve:**\n",
        "\n",
        "The ROC curve shows the model's ability to discriminate between positive and negative classes across various thresholds. The **Area Under the ROC Curve (AUROC)** quantifies this discriminatory power, with a value closer to 1 indicating better performance. In this case, an AUROC of 0.77 suggests that the model has moderate discriminatory ability. The curve being above the random guess line indicates that the model performs better than random chance."
      ]
    },
    {
      "cell_type": "code",
      "execution_count": null,
      "id": "13",
      "metadata": {
        "colab": {
          "base_uri": "https://localhost:8080/",
          "height": 599
        },
        "id": "13",
        "outputId": "14767cc6-dfe1-45f9-fec3-b9091ea06c8e"
      },
      "outputs": [
        {
          "output_type": "stream",
          "name": "stdout",
          "text": [
            "Generating ROC Curve...\n"
          ]
        },
        {
          "output_type": "display_data",
          "data": {
            "text/plain": [
              "<Figure size 800x600 with 1 Axes>"
            ],
            "image/png": "[encoded data removed]"
          },
          "metadata": {}
        },
        {
          "output_type": "stream",
          "name": "stdout",
          "text": [
            "ROC Curve generated with AUROC: 0.77\n"
          ]
        }
      ],
      "source": [
        "\n",
        "print(\"Generating ROC Curve...\")\n",
        "\n",
        "# Get predicted probabilities for the positive class\n",
        "y_proba = keras_model.predict_proba([X_test_final, static_test_final])[:, 1]\n",
        "\n",
        "# Calculate ROC curve points\n",
        "fpr, tpr, thresholds = roc_curve(y_test_final, y_proba)\n",
        "\n",
        "# Calculate Area Under the ROC Curve (AUROC)\n",
        "auroc = auc(fpr, tpr)\n",
        "\n",
        "# Plot the ROC Curve\n",
        "plt.figure(figsize=(8, 6))\n",
        "plt.plot(fpr, tpr, label=f'ROC Curve (AUROC = {auroc:.2f})')\n",
        "plt.plot([0, 1], [0, 1], 'k--', label='Random Guess') # Add random guess line\n",
        "plt.xlabel('False Positive Rate')\n",
        "plt.ylabel('True Positive Rate')\n",
        "plt.title('CNN-LSTM - ROC Curve  ')\n",
        "plt.legend()\n",
        "plt.grid(True)\n",
        "plt.show()\n",
        "\n",
        "print(f\"ROC Curve generated with AUROC: {auroc:.2f}\")"
      ]
    },
    {
      "cell_type": "code",
      "execution_count": null,
      "id": "14",
      "metadata": {
        "id": "14"
      },
      "outputs": [],
      "source": [
        "# Dynamic (time series) features\n",
        "time_series_features = [\n",
        "    'HR', 'SysABP', 'DiasABP', 'MAP', 'NISysABP', 'NIDiasABP', 'NIMAP', 'MechVent',\n",
        "    'RespRate', 'SaO2', 'FiO2', 'PaO2', 'PaCO2',\n",
        "    'Creatinine', 'BUN', 'Urine',\n",
        "    'Na', 'K', 'Glucose', 'Lactate', 'HCO3', 'pH',\n",
        "    'GCS', 'Temp',\n",
        "    # Clinically meaningful combinations of vitals\n",
        "    'Shock Index',          # HR / SysABP\n",
        "    'PaO2/FiO2 ratio',      # PaO₂ / FiO₂\n",
        "    'Pulse Pressure',       # SysABP − DiasABP\n",
        "    'MAP to HR ratio'       # MAP / HR\n",
        "]\n",
        "\n",
        "# Static features\n",
        "static_features = [\n",
        "    'Age', 'Gender', 'Height', 'Weight', 'ICUType', 'SAPS-I', 'SOFA'\n",
        "]\n",
        "\n",
        "target_col = 'In-hospital_death'\n",
        "\n"
      ]
    },
    {
      "cell_type": "code",
      "execution_count": null,
      "id": "15",
      "metadata": {
        "colab": {
          "base_uri": "https://localhost:8080/"
        },
        "id": "15",
        "outputId": "030729ae-ea60-4967-ce8d-8690b6e4dacb"
      },
      "outputs": [
        {
          "output_type": "stream",
          "name": "stdout",
          "text": [
            "Model loaded from /content/sample_data/enhanced_model_36hour.keras\n",
            "Data loaded from /content/sample_data/cnn_lstm_36hour_data.npz\n",
            "  Time series shape: (800, 36, 28)\n",
            "  Static features shape: (800, 7)\n",
            "  Labels shape: (800,)\n",
            "\n",
            " SHAP datasets prepared:\n",
            "  Background samples: 50\n",
            "  Analysis samples: 50\n",
            "  Background concatenated shape: (50, 35)\n",
            "  Sample concatenated shape: (50, 35)\n",
            "Feature names created: 35 features\n"
          ]
        },
        {
          "output_type": "stream",
          "name": "stderr",
          "text": [
            "/usr/local/lib/python3.11/dist-packages/keras/src/saving/saving_lib.py:802: UserWarning: Skipping variable loading for optimizer 'adam', because it has 36 variables whereas the saved optimizer has 2 variables. \n",
            "  saveable.load_own_variables(weights_store.get(inner_path))\n"
          ]
        }
      ],
      "source": [
        "\n",
        "# Load trained model and test data\n",
        "model_path = '../data/processed/enhanced_model_36hour.keras'\n",
        "data_path = '../data/processed/cnn_lstm_36hour_data.npz'\n",
        "\n",
        "try:\n",
        "    # Load trained CNN-LSTM model\n",
        "    model = load_model(model_path)\n",
        "    print(f\"Model loaded from {model_path}\")\n",
        "\n",
        "    # Load preprocessed test data\n",
        "    data = np.load(data_path, allow_pickle=True)\n",
        "    X_test_final = data['X_test']\n",
        "    static_test_final = data['static_test']\n",
        "    y_test_final = data['y_test']\n",
        "\n",
        "    print(f\"Data loaded from {data_path}\")\n",
        "    print(f\"  Time series shape: {X_test_final.shape}\")\n",
        "    print(f\"  Static features shape: {static_test_final.shape}\")\n",
        "    print(f\"  Labels shape: {y_test_final.shape}\")\n",
        "\n",
        "except FileNotFoundError as e:\n",
        "    print(f\"File not found: {e}\")\n",
        "except Exception as e:\n",
        "    print(f\"Error: {e}\")\n",
        "\n",
        "# Prepare data for SHAP analysis\n",
        "background_size = 50\n",
        "sample_size = 50\n",
        "\n",
        "# Load all data splits for comprehensive analysis\n",
        "X_train_final = data['X_train']\n",
        "X_val_final = data['X_val']\n",
        "static_train_final = data['static_train']\n",
        "static_val_final = data['static_val']\n",
        "\n",
        "if X_test_final.shape[0] >= background_size + sample_size:\n",
        "    # Create background and sample sets from test data\n",
        "    X_background = X_test_final[:background_size]\n",
        "    static_background = static_test_final[:background_size]\n",
        "    X_sample = X_test_final[background_size:background_size + sample_size]\n",
        "    static_sample = static_test_final[background_size:background_size + sample_size]\n",
        "\n",
        "    print(f\"\\n SHAP datasets prepared:\")\n",
        "    print(f\"  Background samples: {background_size}\")\n",
        "    print(f\"  Analysis samples: {sample_size}\")\n",
        "\n",
        "    # Average time series over temporal dimension for SHAP\n",
        "    X_background_mean = np.mean(X_background, axis=1)\n",
        "    X_sample_mean = np.mean(X_sample, axis=1)\n",
        "\n",
        "    # Concatenate time series and static features\n",
        "    background_concat = np.concatenate([X_background_mean, static_background], axis=1)\n",
        "    sample_concat = np.concatenate([X_sample_mean, static_sample], axis=1)\n",
        "\n",
        "    print(f\"  Background concatenated shape: {background_concat.shape}\")\n",
        "    print(f\"  Sample concatenated shape: {sample_concat.shape}\")\n",
        "\n",
        "    # Create feature names for interpretability\n",
        "    if 'time_series_features' in locals() and 'static_features' in locals():\n",
        "        feature_names = time_series_features + static_features\n",
        "        if len(feature_names) != sample_concat.shape[1]:\n",
        "            print(f\"Feature mismatch: {len(feature_names)} names vs {sample_concat.shape[1]} features\")\n",
        "            feature_names = [f'feature_{i}' for i in range(sample_concat.shape[1])]\n",
        "    else:\n",
        "        feature_names = [f'feature_{i}' for i in range(sample_concat.shape[1])]\n",
        "        print(\"  Using generic feature names\")\n",
        "\n",
        "    print(f\"Feature names created: {len(feature_names)} features\")\n",
        "\n",
        "else:\n",
        "    print(f\"Insufficient test samples: {X_test_final.shape[0]} available, {background_size + sample_size} needed\")"
      ]
    },
    {
      "cell_type": "code",
      "execution_count": null,
      "id": "17",
      "metadata": {
        "colab": {
          "base_uri": "https://localhost:8080/",
          "height": 257,
          "referenced_widgets": [
            "16e1676575de416da24e1c203b684ffd",
            "d9928e46bb054be8a8639d1ac4331bbf",
            "f62dc97b6fcc44139099a53cdcc8ecf8",
            "1d985f633d4f45b391c5f4c9a7c8137c",
            "4e012d5254c44b6ba655e2be00a103e9",
            "0cdb05229e9f47c8b52f157d638b7601",
            "e44852bc203344dfa06694554d904061",
            "3695972443f2474f9dd7928cfb9e313a",
            "dc49022d23954408a01efaf686b210cd",
            "1cf2868f3708427b8faf3160d2afae29",
            "f99a92016eba4832b5ff73dc2697d085"
          ]
        },
        "id": "17",
        "outputId": "7509b8e1-ac24-4f39-a8f6-754ac8394be2"
      },
      "outputs": [
        {
          "output_type": "stream",
          "name": "stdout",
          "text": [
            "Starting SHAP analysis...\n",
            "Prediction function defined\n",
            "Prediction test successful: shape (2,), values [0.9519842 0.008199 ]\n",
            "\n",
            "Creating SHAP KernelExplainer...\n",
            "Explainer created with 25 background samples\n",
            "\n",
            "Calculating SHAP values for 10 patients...\n",
            "   This may take a few minutes...\n"
          ]
        },
        {
          "output_type": "display_data",
          "data": {
            "text/plain": [
              "  0%|          | 0/10 [00:00<?, ?it/s]"
            ],
            "application/vnd.jupyter.widget-view+json": {
              "version_major": 2,
              "version_minor": 0,
              "model_id": "16e1676575de416da24e1c203b684ffd"
            }
          },
          "metadata": {}
        },
        {
          "output_type": "stream",
          "name": "stdout",
          "text": [
            "SHAP analysis complete!\n",
            "   SHAP values shape: (10, 35)\n",
            "   Sample data shape: (10, 35)\n"
          ]
        }
      ],
      "source": [
        "\n",
        "print(\"Starting SHAP analysis...\")\n",
        "\n",
        "def predict_fn(data):\n",
        "    \"\"\"\n",
        "    Prediction wrapper for multi-input CNN-LSTM model.\n",
        "    Splits concatenated features back into time series and static components.\n",
        "    \"\"\"\n",
        "    n_ts_features = len(time_series_features)\n",
        "\n",
        "    # Split concatenated data\n",
        "    ts_data = data[:, :n_ts_features]\n",
        "    static_data = data[:, n_ts_features:]\n",
        "\n",
        "    # Expand time series to original temporal dimension\n",
        "    timesteps = X_test_final.shape[1]\n",
        "    ts_data_expanded = np.repeat(ts_data[:, np.newaxis, :], timesteps, axis=1)\n",
        "\n",
        "    # Generate predictions\n",
        "    predictions = loaded_model.predict([ts_data_expanded, static_data], verbose=0)\n",
        "    return predictions.flatten()\n",
        "\n",
        "print(\"Prediction function defined\")\n",
        "\n",
        "# Test prediction function\n",
        "try:\n",
        "    test_pred = predict_fn(sample_concat[:2])\n",
        "    print(f\"Prediction test successful: shape {test_pred.shape}, values {test_pred}\")\n",
        "except Exception as e:\n",
        "    print(f\"Prediction test failed: {e}\")\n",
        "    raise\n",
        "\n",
        "# Create SHAP explainer\n",
        "print(\"\\nCreating SHAP KernelExplainer...\")\n",
        "try:\n",
        "    # Use subset for computational efficiency\n",
        "    background_sample = background_concat[:25]\n",
        "    explainer = shap.KernelExplainer(predict_fn, background_sample)\n",
        "    print(f\"Explainer created with {background_sample.shape[0]} background samples\")\n",
        "\n",
        "    # Calculate SHAP values for sample subset\n",
        "    sample_subset = sample_concat[:10]\n",
        "    print(f\"\\nCalculating SHAP values for {sample_subset.shape[0]} patients...\")\n",
        "    print(\"   This may take a few minutes...\")\n",
        "\n",
        "    shap_values = explainer.shap_values(sample_subset, nsamples=100)\n",
        "\n",
        "    # Update sample_concat to match calculated subset\n",
        "    sample_concat = sample_subset\n",
        "\n",
        "    print(f\"SHAP analysis complete!\")\n",
        "    print(f\"   SHAP values shape: {np.array(shap_values).shape}\")\n",
        "    print(f\"   Sample data shape: {sample_concat.shape}\")\n",
        "\n",
        "except Exception as e:\n",
        "    print(f\" SHAP calculation failed: {e}\")\n",
        "    print(\"   Consider reducing background_size or sample_size for memory constraints\")"
      ]
    },
    {
      "cell_type": "code",
      "execution_count": null,
      "id": "18",
      "metadata": {
        "colab": {
          "base_uri": "https://localhost:8080/",
          "height": 257,
          "referenced_widgets": [
            "2c39248ae5024d07a0b6b4a8840184b9",
            "c3b204df704b49b1a8784404cebd64a4",
            "103eb978bb344a379cf387f329bd8912",
            "5df5246f6ea84ad3b08401c15d7f082d",
            "12a40218d3544fc2ad6cd5ef64fe7513",
            "7c2c4e14d0904cb6a0715a084bd83186",
            "fb4d88c8e13f42cfb5f98c4eb12499dc",
            "ab97a7cc192c419fbde6753bbd15a758",
            "6442ac3740df45239133914618f6fb85",
            "ed4835e3f0e348c9932bd49d24f2e8be",
            "27500dcca7b848aabdf9494c5670bc41"
          ]
        },
        "id": "18",
        "outputId": "f7c62e4f-1cd2-422a-f188-a04e2873e792"
      },
      "outputs": [
        {
          "output_type": "stream",
          "name": "stdout",
          "text": [
            "Starting SHAP analysis...\n",
            "Prediction function defined\n",
            "Prediction test successful: shape (2,), values [0.9519842 0.008199 ]\n",
            "\n",
            "Creating SHAP KernelExplainer...\n",
            "Explainer created with 25 background samples\n",
            "\n",
            "Calculating SHAP values for 10 patients...\n",
            "   This may take a few minutes...\n"
          ]
        },
        {
          "output_type": "display_data",
          "data": {
            "text/plain": [
              "  0%|          | 0/10 [00:00<?, ?it/s]"
            ],
            "application/vnd.jupyter.widget-view+json": {
              "version_major": 2,
              "version_minor": 0,
              "model_id": "2c39248ae5024d07a0b6b4a8840184b9"
            }
          },
          "metadata": {}
        },
        {
          "output_type": "stream",
          "name": "stdout",
          "text": [
            "SHAP analysis complete!\n",
            "   SHAP values shape: (10, 35)\n",
            "   Sample data shape: (10, 35)\n"
          ]
        }
      ],
      "source": [
        "print(\"Starting SHAP analysis...\")\n",
        "\n",
        "def predict_fn(data):\n",
        "    \"\"\"\n",
        "    Prediction wrapper for multi-input CNN-LSTM model.\n",
        "    Splits concatenated features back into time series and static components.\n",
        "    \"\"\"\n",
        "    n_ts_features = len(time_series_features)\n",
        "\n",
        "    # Split concatenated data\n",
        "    ts_data = data[:, :n_ts_features]\n",
        "    static_data = data[:, n_ts_features:]\n",
        "\n",
        "    # Expand time series to original temporal dimension\n",
        "    timesteps = X_test_final.shape[1]\n",
        "    ts_data_expanded = np.repeat(ts_data[:, np.newaxis, :], timesteps, axis=1)\n",
        "\n",
        "    # Generate predictions\n",
        "    predictions = loaded_model.predict([ts_data_expanded, static_data], verbose=0)\n",
        "    return predictions.flatten()\n",
        "\n",
        "print(\"Prediction function defined\")\n",
        "\n",
        "# Test prediction function\n",
        "try:\n",
        "    test_pred = predict_fn(sample_concat[:2])\n",
        "    print(f\"Prediction test successful: shape {test_pred.shape}, values {test_pred}\")\n",
        "except Exception as e:\n",
        "    print(f\"Prediction test failed: {e}\")\n",
        "    raise\n",
        "\n",
        "# Create SHAP explainer\n",
        "print(\"\\nCreating SHAP KernelExplainer...\")\n",
        "try:\n",
        "    # Use subset for computational efficiency\n",
        "    background_sample = background_concat[:25]\n",
        "    explainer = shap.KernelExplainer(predict_fn, background_sample)\n",
        "    print(f\"Explainer created with {background_sample.shape[0]} background samples\")\n",
        "\n",
        "    # Calculate SHAP values for sample subset\n",
        "    sample_subset = sample_concat[:10]\n",
        "    print(f\"\\nCalculating SHAP values for {sample_subset.shape[0]} patients...\")\n",
        "    print(\"   This may take a few minutes...\")\n",
        "\n",
        "    shap_values = explainer.shap_values(sample_subset, nsamples=100)\n",
        "\n",
        "    # Update sample_concat to match calculated subset\n",
        "    sample_concat = sample_subset\n",
        "\n",
        "    print(f\"SHAP analysis complete!\")\n",
        "    print(f\"   SHAP values shape: {np.array(shap_values).shape}\")\n",
        "    print(f\"   Sample data shape: {sample_concat.shape}\")\n",
        "\n",
        "except Exception as e:\n",
        "    print(f\" SHAP calculation failed: {e}\")\n",
        "    print(\"   Consider reducing background_size or sample_size for memory constraints\")"
      ]
    },
    {
      "cell_type": "markdown",
      "id": "19",
      "metadata": {
        "id": "19"
      },
      "source": [
        "# SHAP Summary Plot Results\n",
        "\n",
        "*   **Potassium (K) and Heart Rate (HR)** appear to be the most important features, having the largest impact on the model's output.\n",
        "*   For **Potassium**, higher values (red points) tend to be associated with positive SHAP values, pushing the prediction towards a higher risk of mortality.\n",
        "*   For **Heart Rate**, both high and low values seem to have an impact, with high values (red points) generally contributing to higher risk predictions.\n",
        "*   Other important features include **GCS (Glasgow Coma Scale)**, **BUN (Blood Urea Nitrogen)**, **Mechanical Ventilation (MechVent)**, and **SAPS-I**. The impact of these features varies depending on their values. For example, lower GCS scores (blue points) are associated with higher risk.\n",
        "*   Features further down the plot have less overall impact on the model's predictions."
      ]
    },
    {
      "cell_type": "code",
      "execution_count": null,
      "id": "20",
      "metadata": {
        "colab": {
          "base_uri": "https://localhost:8080/",
          "height": 1000
        },
        "id": "20",
        "outputId": "11b1ae0c-6b6a-40b6-c4e9-9d5372846051"
      },
      "outputs": [
        {
          "output_type": "stream",
          "name": "stdout",
          "text": [
            "Generating SHAP summary plot...\n",
            "Using 2D SHAP values. Shape: (10, 35)\n",
            "Feature names: 35, SHAP features: 35\n"
          ]
        },
        {
          "output_type": "display_data",
          "data": {
            "text/plain": [
              "<Figure size 800x950 with 2 Axes>"
            ],
            "image/png": "[encoded data removed]"
          },
          "metadata": {}
        },
        {
          "output_type": "display_data",
          "data": {
            "text/plain": [
              "<Figure size 640x480 with 0 Axes>"
            ]
          },
          "metadata": {}
        }
      ],
      "source": [
        "if 'shap_values' in locals() and 'sample_concat' in locals():\n",
        "    print(\"Generating SHAP summary plot...\")\n",
        "\n",
        "    # Handle 3D SHAP values if necessary\n",
        "    if len(np.shape(shap_values)) == 3:\n",
        "        if np.shape(shap_values)[2] > 1:\n",
        "            shap_values_2d = shap_values[:, :, 1]  # Positive class\n",
        "            print(f\"Using SHAP values for positive class. Shape: {np.shape(shap_values_2d)}\")\n",
        "        else:\n",
        "            shap_values_2d = shap_values[:, :, 0]  # Single output\n",
        "            print(f\"Using SHAP values for single output. Shape: {np.shape(shap_values_2d)}\")\n",
        "    else:\n",
        "        shap_values_2d = shap_values\n",
        "        print(f\"Using 2D SHAP values. Shape: {np.shape(shap_values_2d)}\")\n",
        "\n",
        "    # Ensure feature names are available\n",
        "    if 'feature_names' not in locals():\n",
        "        print(\"Warning: Using generic feature names.\")\n",
        "        feature_names = [f'feature_{i}' for i in range(sample_concat.shape[1])]\n",
        "\n",
        "    # Validate dimensions\n",
        "    print(f\"Feature names: {len(feature_names)}, SHAP features: {np.shape(shap_values_2d)[1]}\")\n",
        "\n",
        "    # Generate summary plot\n",
        "    plt.figure(figsize=(10, 8))\n",
        "    shap.summary_plot(shap_values_2d, sample_concat, feature_names=feature_names)\n",
        "    plt.tight_layout()\n",
        "    plt.show()\n",
        "\n",
        "else:\n",
        "    print(\"Error: SHAP values not found. Run SHAP calculation cell first.\")"
      ]
    },
    {
      "cell_type": "markdown",
      "id": "22",
      "metadata": {
        "id": "22"
      },
      "source": [
        "## Final Conclusion\n",
        "\n",
        "Based on the evaluation of the CNN-LSTM model for 36-hour temporal ICU mortality prediction:\n",
        "\n",
        "**Results Summary:**\n",
        "\n",
        "*   **Overall Performance:** The model demonstrates moderate discriminatory ability with an AUROC of 0.77. The AUPRC of 0.36 suggests limitations in achieving high precision and recall simultaneously, particularly in correctly identifying positive cases without a high number of false positives.\n",
        "*   **Confusion Matrix:** The confusion matrix highlights that while the model correctly identifies a large number of survivors (True Negatives = 390), it also has a significant number of false positives (299), meaning it predicts death for many patients who survive. The number of false negatives (19) is relatively low, indicating the model is less likely to miss a patient who dies.\n",
        "*   **Feature Importance (SHAP):** The SHAP analysis reveals that **Potassium (K)** and **Heart Rate (HR)** are the most influential features in the model's predictions. High Potassium and high Heart Rate values are associated with an increased risk of mortality. Other important features include **GCS**, **BUN**, **Mechanical Ventilation**, and **SAPS-I**, with lower GCS scores contributing to higher risk.\n",
        "*   **Early Prediction Capability:** The current model demonstrates the ability to achieve good accuracy and recall using only the first 36 hours of ICU data. This early prediction capability is crucial for enabling faster clinical interventions and potentially improving patient outcomes by allowing healthcare providers to identify high-risk patients sooner.\n",
        "\n",
        "**Key Points:**\n",
        "\n",
        "*   **Resource Allocation:** The model could help identify patients at high risk of mortality, allowing hospitals to prioritize resources, such as staffing, equipment, and interventions, to improve patient outcomes and potentially reduce costs associated with prolonged ICU stays.\n",
        "*   **Early Intervention:** By predicting mortality risk early (within 36 hours), the model could alert clinicians to patients who may benefit from more aggressive or timely interventions, potentially preventing deterioration and improving survival rates.\n",
        "*   **Clinical Decision Support:** The model's predictions and feature importance insights could serve as a valuable tool for clinicians, providing data-driven support for complex decisions related to patient care, prognostication, and family discussions.\n",
        "*   **Quality Improvement:** Analyzing model performance and common false positives/negatives could help identify areas for improvement in clinical protocols, data collection, and patient management within the ICU.\n",
        "*   **Benchmarking and Performance Monitoring:** The model could be used to benchmark the performance of different ICUs or track changes in mortality rates over time, providing insights for quality improvement initiatives."
      ]
    }
  ],
  "metadata": {
    "colab": {
      "provenance": []
    },
    "kernelspec": {
      "display_name": "base",
      "language": "python",
      "name": "python3"
    },
    "language_info": {
      "codemirror_mode": {
        "name": "ipython",
        "version": 3
      },
      "file_extension": ".py",
      "mimetype": "text/x-python",
      "name": "python",
      "nbconvert_exporter": "python",
      "pygments_lexer": "ipython3",
      "version": "3.11.7"
    },
    "widgets": {
      "application/vnd.jupyter.widget-state+json": {
        "16e1676575de416da24e1c203b684ffd": {
          "model_module": "@jupyter-widgets/controls",
          "model_name": "HBoxModel",
          "model_module_version": "1.5.0",
          "state": {
            "_dom_classes": [],
            "_model_module": "@jupyter-widgets/controls",
            "_model_module_version": "1.5.0",
            "_model_name": "HBoxModel",
            "_view_count": null,
            "_view_module": "@jupyter-widgets/controls",
            "_view_module_version": "1.5.0",
            "_view_name": "HBoxView",
            "box_style": "",
            "children": [
              "IPY_MODEL_d9928e46bb054be8a8639d1ac4331bbf",
              "IPY_MODEL_f62dc97b6fcc44139099a53cdcc8ecf8",
              "IPY_MODEL_1d985f633d4f45b391c5f4c9a7c8137c"
            ],
            "layout": "IPY_MODEL_4e012d5254c44b6ba655e2be00a103e9"
          }
        },
        "d9928e46bb054be8a8639d1ac4331bbf": {
          "model_module": "@jupyter-widgets/controls",
          "model_name": "HTMLModel",
          "model_module_version": "1.5.0",
          "state": {
            "_dom_classes": [],
            "_model_module": "@jupyter-widgets/controls",
            "_model_module_version": "1.5.0",
            "_model_name": "HTMLModel",
            "_view_count": null,
            "_view_module": "@jupyter-widgets/controls",
            "_view_module_version": "1.5.0",
            "_view_name": "HTMLView",
            "description": "",
            "description_tooltip": null,
            "layout": "IPY_MODEL_0cdb05229e9f47c8b52f157d638b7601",
            "placeholder": "​",
            "style": "IPY_MODEL_e44852bc203344dfa06694554d904061",
            "value": "100%"
          }
        },
        "f62dc97b6fcc44139099a53cdcc8ecf8": {
          "model_module": "@jupyter-widgets/controls",
          "model_name": "FloatProgressModel",
          "model_module_version": "1.5.0",
          "state": {
            "_dom_classes": [],
            "_model_module": "@jupyter-widgets/controls",
            "_model_module_version": "1.5.0",
            "_model_name": "FloatProgressModel",
            "_view_count": null,
            "_view_module": "@jupyter-widgets/controls",
            "_view_module_version": "1.5.0",
            "_view_name": "ProgressView",
            "bar_style": "success",
            "description": "",
            "description_tooltip": null,
            "layout": "IPY_MODEL_3695972443f2474f9dd7928cfb9e313a",
            "max": 10,
            "min": 0,
            "orientation": "horizontal",
            "style": "IPY_MODEL_dc49022d23954408a01efaf686b210cd",
            "value": 10
          }
        },
        "1d985f633d4f45b391c5f4c9a7c8137c": {
          "model_module": "@jupyter-widgets/controls",
          "model_name": "HTMLModel",
          "model_module_version": "1.5.0",
          "state": {
            "_dom_classes": [],
            "_model_module": "@jupyter-widgets/controls",
            "_model_module_version": "1.5.0",
            "_model_name": "HTMLModel",
            "_view_count": null,
            "_view_module": "@jupyter-widgets/controls",
            "_view_module_version": "1.5.0",
            "_view_name": "HTMLView",
            "description": "",
            "description_tooltip": null,
            "layout": "IPY_MODEL_1cf2868f3708427b8faf3160d2afae29",
            "placeholder": "​",
            "style": "IPY_MODEL_f99a92016eba4832b5ff73dc2697d085",
            "value": " 10/10 [00:12&lt;00:00,  1.31s/it]"
          }
        },
        "4e012d5254c44b6ba655e2be00a103e9": {
          "model_module": "@jupyter-widgets/base",
          "model_name": "LayoutModel",
          "model_module_version": "1.2.0",
          "state": {
            "_model_module": "@jupyter-widgets/base",
            "_model_module_version": "1.2.0",
            "_model_name": "LayoutModel",
            "_view_count": null,
            "_view_module": "@jupyter-widgets/base",
            "_view_module_version": "1.2.0",
            "_view_name": "LayoutView",
            "align_content": null,
            "align_items": null,
            "align_self": null,
            "border": null,
            "bottom": null,
            "display": null,
            "flex": null,
            "flex_flow": null,
            "grid_area": null,
            "grid_auto_columns": null,
            "grid_auto_flow": null,
            "grid_auto_rows": null,
            "grid_column": null,
            "grid_gap": null,
            "grid_row": null,
            "grid_template_areas": null,
            "grid_template_columns": null,
            "grid_template_rows": null,
            "height": null,
            "justify_content": null,
            "justify_items": null,
            "left": null,
            "margin": null,
            "max_height": null,
            "max_width": null,
            "min_height": null,
            "min_width": null,
            "object_fit": null,
            "object_position": null,
            "order": null,
            "overflow": null,
            "overflow_x": null,
            "overflow_y": null,
            "padding": null,
            "right": null,
            "top": null,
            "visibility": null,
            "width": null
          }
        },
        "0cdb05229e9f47c8b52f157d638b7601": {
          "model_module": "@jupyter-widgets/base",
          "model_name": "LayoutModel",
          "model_module_version": "1.2.0",
          "state": {
            "_model_module": "@jupyter-widgets/base",
            "_model_module_version": "1.2.0",
            "_model_name": "LayoutModel",
            "_view_count": null,
            "_view_module": "@jupyter-widgets/base",
            "_view_module_version": "1.2.0",
            "_view_name": "LayoutView",
            "align_content": null,
            "align_items": null,
            "align_self": null,
            "border": null,
            "bottom": null,
            "display": null,
            "flex": null,
            "flex_flow": null,
            "grid_area": null,
            "grid_auto_columns": null,
            "grid_auto_flow": null,
            "grid_auto_rows": null,
            "grid_column": null,
            "grid_gap": null,
            "grid_row": null,
            "grid_template_areas": null,
            "grid_template_columns": null,
            "grid_template_rows": null,
            "height": null,
            "justify_content": null,
            "justify_items": null,
            "left": null,
            "margin": null,
            "max_height": null,
            "max_width": null,
            "min_height": null,
            "min_width": null,
            "object_fit": null,
            "object_position": null,
            "order": null,
            "overflow": null,
            "overflow_x": null,
            "overflow_y": null,
            "padding": null,
            "right": null,
            "top": null,
            "visibility": null,
            "width": null
          }
        },
        "e44852bc203344dfa06694554d904061": {
          "model_module": "@jupyter-widgets/controls",
          "model_name": "DescriptionStyleModel",
          "model_module_version": "1.5.0",
          "state": {
            "_model_module": "@jupyter-widgets/controls",
            "_model_module_version": "1.5.0",
            "_model_name": "DescriptionStyleModel",
            "_view_count": null,
            "_view_module": "@jupyter-widgets/base",
            "_view_module_version": "1.2.0",
            "_view_name": "StyleView",
            "description_width": ""
          }
        },
        "3695972443f2474f9dd7928cfb9e313a": {
          "model_module": "@jupyter-widgets/base",
          "model_name": "LayoutModel",
          "model_module_version": "1.2.0",
          "state": {
            "_model_module": "@jupyter-widgets/base",
            "_model_module_version": "1.2.0",
            "_model_name": "LayoutModel",
            "_view_count": null,
            "_view_module": "@jupyter-widgets/base",
            "_view_module_version": "1.2.0",
            "_view_name": "LayoutView",
            "align_content": null,
            "align_items": null,
            "align_self": null,
            "border": null,
            "bottom": null,
            "display": null,
            "flex": null,
            "flex_flow": null,
            "grid_area": null,
            "grid_auto_columns": null,
            "grid_auto_flow": null,
            "grid_auto_rows": null,
            "grid_column": null,
            "grid_gap": null,
            "grid_row": null,
            "grid_template_areas": null,
            "grid_template_columns": null,
            "grid_template_rows": null,
            "height": null,
            "justify_content": null,
            "justify_items": null,
            "left": null,
            "margin": null,
            "max_height": null,
            "max_width": null,
            "min_height": null,
            "min_width": null,
            "object_fit": null,
            "object_position": null,
            "order": null,
            "overflow": null,
            "overflow_x": null,
            "overflow_y": null,
            "padding": null,
            "right": null,
            "top": null,
            "visibility": null,
            "width": null
          }
        },
        "dc49022d23954408a01efaf686b210cd": {
          "model_module": "@jupyter-widgets/controls",
          "model_name": "ProgressStyleModel",
          "model_module_version": "1.5.0",
          "state": {
            "_model_module": "@jupyter-widgets/controls",
            "_model_module_version": "1.5.0",
            "_model_name": "ProgressStyleModel",
            "_view_count": null,
            "_view_module": "@jupyter-widgets/base",
            "_view_module_version": "1.2.0",
            "_view_name": "StyleView",
            "bar_color": null,
            "description_width": ""
          }
        },
        "1cf2868f3708427b8faf3160d2afae29": {
          "model_module": "@jupyter-widgets/base",
          "model_name": "LayoutModel",
          "model_module_version": "1.2.0",
          "state": {
            "_model_module": "@jupyter-widgets/base",
            "_model_module_version": "1.2.0",
            "_model_name": "LayoutModel",
            "_view_count": null,
            "_view_module": "@jupyter-widgets/base",
            "_view_module_version": "1.2.0",
            "_view_name": "LayoutView",
            "align_content": null,
            "align_items": null,
            "align_self": null,
            "border": null,
            "bottom": null,
            "display": null,
            "flex": null,
            "flex_flow": null,
            "grid_area": null,
            "grid_auto_columns": null,
            "grid_auto_flow": null,
            "grid_auto_rows": null,
            "grid_column": null,
            "grid_gap": null,
            "grid_row": null,
            "grid_template_areas": null,
            "grid_template_columns": null,
            "grid_template_rows": null,
            "height": null,
            "justify_content": null,
            "justify_items": null,
            "left": null,
            "margin": null,
            "max_height": null,
            "max_width": null,
            "min_height": null,
            "min_width": null,
            "object_fit": null,
            "object_position": null,
            "order": null,
            "overflow": null,
            "overflow_x": null,
            "overflow_y": null,
            "padding": null,
            "right": null,
            "top": null,
            "visibility": null,
            "width": null
          }
        },
        "f99a92016eba4832b5ff73dc2697d085": {
          "model_module": "@jupyter-widgets/controls",
          "model_name": "DescriptionStyleModel",
          "model_module_version": "1.5.0",
          "state": {
            "_model_module": "@jupyter-widgets/controls",
            "_model_module_version": "1.5.0",
            "_model_name": "DescriptionStyleModel",
            "_view_count": null,
            "_view_module": "@jupyter-widgets/base",
            "_view_module_version": "1.2.0",
            "_view_name": "StyleView",
            "description_width": ""
          }
        },
        "2c39248ae5024d07a0b6b4a8840184b9": {
          "model_module": "@jupyter-widgets/controls",
          "model_name": "HBoxModel",
          "model_module_version": "1.5.0",
          "state": {
            "_dom_classes": [],
            "_model_module": "@jupyter-widgets/controls",
            "_model_module_version": "1.5.0",
            "_model_name": "HBoxModel",
            "_view_count": null,
            "_view_module": "@jupyter-widgets/controls",
            "_view_module_version": "1.5.0",
            "_view_name": "HBoxView",
            "box_style": "",
            "children": [
              "IPY_MODEL_c3b204df704b49b1a8784404cebd64a4",
              "IPY_MODEL_103eb978bb344a379cf387f329bd8912",
              "IPY_MODEL_5df5246f6ea84ad3b08401c15d7f082d"
            ],
            "layout": "IPY_MODEL_12a40218d3544fc2ad6cd5ef64fe7513"
          }
        },
        "c3b204df704b49b1a8784404cebd64a4": {
          "model_module": "@jupyter-widgets/controls",
          "model_name": "HTMLModel",
          "model_module_version": "1.5.0",
          "state": {
            "_dom_classes": [],
            "_model_module": "@jupyter-widgets/controls",
            "_model_module_version": "1.5.0",
            "_model_name": "HTMLModel",
            "_view_count": null,
            "_view_module": "@jupyter-widgets/controls",
            "_view_module_version": "1.5.0",
            "_view_name": "HTMLView",
            "description": "",
            "description_tooltip": null,
            "layout": "IPY_MODEL_7c2c4e14d0904cb6a0715a084bd83186",
            "placeholder": "​",
            "style": "IPY_MODEL_fb4d88c8e13f42cfb5f98c4eb12499dc",
            "value": "100%"
          }
        },
        "103eb978bb344a379cf387f329bd8912": {
          "model_module": "@jupyter-widgets/controls",
          "model_name": "FloatProgressModel",
          "model_module_version": "1.5.0",
          "state": {
            "_dom_classes": [],
            "_model_module": "@jupyter-widgets/controls",
            "_model_module_version": "1.5.0",
            "_model_name": "FloatProgressModel",
            "_view_count": null,
            "_view_module": "@jupyter-widgets/controls",
            "_view_module_version": "1.5.0",
            "_view_name": "ProgressView",
            "bar_style": "success",
            "description": "",
            "description_tooltip": null,
            "layout": "IPY_MODEL_ab97a7cc192c419fbde6753bbd15a758",
            "max": 10,
            "min": 0,
            "orientation": "horizontal",
            "style": "IPY_MODEL_6442ac3740df45239133914618f6fb85",
            "value": 10
          }
        },
        "5df5246f6ea84ad3b08401c15d7f082d": {
          "model_module": "@jupyter-widgets/controls",
          "model_name": "HTMLModel",
          "model_module_version": "1.5.0",
          "state": {
            "_dom_classes": [],
            "_model_module": "@jupyter-widgets/controls",
            "_model_module_version": "1.5.0",
            "_model_name": "HTMLModel",
            "_view_count": null,
            "_view_module": "@jupyter-widgets/controls",
            "_view_module_version": "1.5.0",
            "_view_name": "HTMLView",
            "description": "",
            "description_tooltip": null,
            "layout": "IPY_MODEL_ed4835e3f0e348c9932bd49d24f2e8be",
            "placeholder": "​",
            "style": "IPY_MODEL_27500dcca7b848aabdf9494c5670bc41",
            "value": " 10/10 [00:12&lt;00:00,  1.28s/it]"
          }
        },
        "12a40218d3544fc2ad6cd5ef64fe7513": {
          "model_module": "@jupyter-widgets/base",
          "model_name": "LayoutModel",
          "model_module_version": "1.2.0",
          "state": {
            "_model_module": "@jupyter-widgets/base",
            "_model_module_version": "1.2.0",
            "_model_name": "LayoutModel",
            "_view_count": null,
            "_view_module": "@jupyter-widgets/base",
            "_view_module_version": "1.2.0",
            "_view_name": "LayoutView",
            "align_content": null,
            "align_items": null,
            "align_self": null,
            "border": null,
            "bottom": null,
            "display": null,
            "flex": null,
            "flex_flow": null,
            "grid_area": null,
            "grid_auto_columns": null,
            "grid_auto_flow": null,
            "grid_auto_rows": null,
            "grid_column": null,
            "grid_gap": null,
            "grid_row": null,
            "grid_template_areas": null,
            "grid_template_columns": null,
            "grid_template_rows": null,
            "height": null,
            "justify_content": null,
            "justify_items": null,
            "left": null,
            "margin": null,
            "max_height": null,
            "max_width": null,
            "min_height": null,
            "min_width": null,
            "object_fit": null,
            "object_position": null,
            "order": null,
            "overflow": null,
            "overflow_x": null,
            "overflow_y": null,
            "padding": null,
            "right": null,
            "top": null,
            "visibility": null,
            "width": null
          }
        },
        "7c2c4e14d0904cb6a0715a084bd83186": {
          "model_module": "@jupyter-widgets/base",
          "model_name": "LayoutModel",
          "model_module_version": "1.2.0",
          "state": {
            "_model_module": "@jupyter-widgets/base",
            "_model_module_version": "1.2.0",
            "_model_name": "LayoutModel",
            "_view_count": null,
            "_view_module": "@jupyter-widgets/base",
            "_view_module_version": "1.2.0",
            "_view_name": "LayoutView",
            "align_content": null,
            "align_items": null,
            "align_self": null,
            "border": null,
            "bottom": null,
            "display": null,
            "flex": null,
            "flex_flow": null,
            "grid_area": null,
            "grid_auto_columns": null,
            "grid_auto_flow": null,
            "grid_auto_rows": null,
            "grid_column": null,
            "grid_gap": null,
            "grid_row": null,
            "grid_template_areas": null,
            "grid_template_columns": null,
            "grid_template_rows": null,
            "height": null,
            "justify_content": null,
            "justify_items": null,
            "left": null,
            "margin": null,
            "max_height": null,
            "max_width": null,
            "min_height": null,
            "min_width": null,
            "object_fit": null,
            "object_position": null,
            "order": null,
            "overflow": null,
            "overflow_x": null,
            "overflow_y": null,
            "padding": null,
            "right": null,
            "top": null,
            "visibility": null,
            "width": null
          }
        },
        "fb4d88c8e13f42cfb5f98c4eb12499dc": {
          "model_module": "@jupyter-widgets/controls",
          "model_name": "DescriptionStyleModel",
          "model_module_version": "1.5.0",
          "state": {
            "_model_module": "@jupyter-widgets/controls",
            "_model_module_version": "1.5.0",
            "_model_name": "DescriptionStyleModel",
            "_view_count": null,
            "_view_module": "@jupyter-widgets/base",
            "_view_module_version": "1.2.0",
            "_view_name": "StyleView",
            "description_width": ""
          }
        },
        "ab97a7cc192c419fbde6753bbd15a758": {
          "model_module": "@jupyter-widgets/base",
          "model_name": "LayoutModel",
          "model_module_version": "1.2.0",
          "state": {
            "_model_module": "@jupyter-widgets/base",
            "_model_module_version": "1.2.0",
            "_model_name": "LayoutModel",
            "_view_count": null,
            "_view_module": "@jupyter-widgets/base",
            "_view_module_version": "1.2.0",
            "_view_name": "LayoutView",
            "align_content": null,
            "align_items": null,
            "align_self": null,
            "border": null,
            "bottom": null,
            "display": null,
            "flex": null,
            "flex_flow": null,
            "grid_area": null,
            "grid_auto_columns": null,
            "grid_auto_flow": null,
            "grid_auto_rows": null,
            "grid_column": null,
            "grid_gap": null,
            "grid_row": null,
            "grid_template_areas": null,
            "grid_template_columns": null,
            "grid_template_rows": null,
            "height": null,
            "justify_content": null,
            "justify_items": null,
            "left": null,
            "margin": null,
            "max_height": null,
            "max_width": null,
            "min_height": null,
            "min_width": null,
            "object_fit": null,
            "object_position": null,
            "order": null,
            "overflow": null,
            "overflow_x": null,
            "overflow_y": null,
            "padding": null,
            "right": null,
            "top": null,
            "visibility": null,
            "width": null
          }
        },
        "6442ac3740df45239133914618f6fb85": {
          "model_module": "@jupyter-widgets/controls",
          "model_name": "ProgressStyleModel",
          "model_module_version": "1.5.0",
          "state": {
            "_model_module": "@jupyter-widgets/controls",
            "_model_module_version": "1.5.0",
            "_model_name": "ProgressStyleModel",
            "_view_count": null,
            "_view_module": "@jupyter-widgets/base",
            "_view_module_version": "1.2.0",
            "_view_name": "StyleView",
            "bar_color": null,
            "description_width": ""
          }
        },
        "ed4835e3f0e348c9932bd49d24f2e8be": {
          "model_module": "@jupyter-widgets/base",
          "model_name": "LayoutModel",
          "model_module_version": "1.2.0",
          "state": {
            "_model_module": "@jupyter-widgets/base",
            "_model_module_version": "1.2.0",
            "_model_name": "LayoutModel",
            "_view_count": null,
            "_view_module": "@jupyter-widgets/base",
            "_view_module_version": "1.2.0",
            "_view_name": "LayoutView",
            "align_content": null,
            "align_items": null,
            "align_self": null,
            "border": null,
            "bottom": null,
            "display": null,
            "flex": null,
            "flex_flow": null,
            "grid_area": null,
            "grid_auto_columns": null,
            "grid_auto_flow": null,
            "grid_auto_rows": null,
            "grid_column": null,
            "grid_gap": null,
            "grid_row": null,
            "grid_template_areas": null,
            "grid_template_columns": null,
            "grid_template_rows": null,
            "height": null,
            "justify_content": null,
            "justify_items": null,
            "left": null,
            "margin": null,
            "max_height": null,
            "max_width": null,
            "min_height": null,
            "min_width": null,
            "object_fit": null,
            "object_position": null,
            "order": null,
            "overflow": null,
            "overflow_x": null,
            "overflow_y": null,
            "padding": null,
            "right": null,
            "top": null,
            "visibility": null,
            "width": null
          }
        },
        "27500dcca7b848aabdf9494c5670bc41": {
          "model_module": "@jupyter-widgets/controls",
          "model_name": "DescriptionStyleModel",
          "model_module_version": "1.5.0",
          "state": {
            "_model_module": "@jupyter-widgets/controls",
            "_model_module_version": "1.5.0",
            "_model_name": "DescriptionStyleModel",
            "_view_count": null,
            "_view_module": "@jupyter-widgets/base",
            "_view_module_version": "1.2.0",
            "_view_name": "StyleView",
            "description_width": ""
          }
        }
      }
    }
  },
  "nbformat": 4,
  "nbformat_minor": 5
}