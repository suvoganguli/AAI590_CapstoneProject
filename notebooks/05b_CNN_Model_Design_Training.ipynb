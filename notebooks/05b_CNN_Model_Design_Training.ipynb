{
 "cells": [
  {
   "cell_type": "markdown",
   "id": "5ee2d7b9",
   "metadata": {},
   "source": [
    "# 05b: CNN-LSTM Model Design and Training \n",
    "This notebook defines and trains a hybrid CNN-LSTM model for ICU mortality prediction. The workflow includes:\n",
    "\n",
    "- Loading and validating preprocessed data\n",
    "- Defining a robust CNN-LSTM architecture\n",
    "- Using early stopping and model checkpointing\n",
    "- Saving the trained model and training history"
   ]
  },
  {
   "cell_type": "code",
   "execution_count": null,
   "id": "25923e25",
   "metadata": {},
   "outputs": [],
   "source": [
    "# Imports and Configuration\n",
    "import numpy as np\n",
    "import tensorflow as tf\n",
    "from tensorflow.keras.models import Model\n",
    "from tensorflow.keras.layers import Input, Conv1D, LSTM, Dense, Dropout, Concatenate\n",
    "from tensorflow.keras.regularizers import l2\n",
    "from tensorflow.keras.callbacks import EarlyStopping, ModelCheckpoint\n",
    "import pickle\n",
    "\n",
    "np.random.seed(42)\n",
    "tf.random.set_seed(42)"
   ]
  },
  {
   "cell_type": "code",
   "execution_count": null,
   "id": "a688b23c",
   "metadata": {},
   "outputs": [
    {
     "name": "stdout",
     "output_type": "stream",
     "text": [
      "X_train shape: (4406, 202, 24)\n",
      "static_train shape: (4406, 9)\n",
      "y_train shape: (4406,)\n",
      "X_val shape: (640, 202, 24)\n",
      "static_val shape: (640, 9)\n",
      "y_val shape: (640,)\n",
      "X_test shape: (800, 202, 24)\n",
      "static_test shape: (800, 9)\n",
      "y_test shape: (800,)\n"
     ]
    }
   ],
   "source": [
    "# Load prepared data \n",
    "data = np.load('../data/processed/cnn_lstm_data.npz', allow_pickle=True)\n",
    "X_train, y_train = data['X_train'], data['y_train']\n",
    "X_val, y_val = data['X_val'], data['y_val']\n",
    "X_test, y_test = data['X_test'], data['y_test']\n",
    "static_train, static_val, static_test = data['static_train'], data['static_val'], data['static_test']\n",
    "\n",
    "# print shapes to confirm alignment\n",
    "print('X_train shape:', X_train.shape)\n",
    "print('static_train shape:', static_train.shape)\n",
    "print('y_train shape:', y_train.shape)\n",
    "print('X_val shape:', X_val.shape)\n",
    "print('static_val shape:', static_val.shape)\n",
    "print('y_val shape:', y_val.shape)\n",
    "print('X_test shape:', X_test.shape)\n",
    "print('static_test shape:', static_test.shape)\n",
    "print('y_test shape:', y_test.shape)"
   ]
  },
  {
   "cell_type": "markdown",
   "id": "12c2630e",
   "metadata": {},
   "source": [
    "## 1. Model Architecture\n",
    "\n",
    "CNN layers extract local patterns; LSTM layers capture temporal dependencies. Static features can be concatenated before the output layer.\n",
    "\n",
    "## 2. Load Prepared Data\n",
    "\n",
    "Load the processed data arrays from the previous data preparation notebook. Confirm shapes and preview data for sanity check."
   ]
  },
  {
   "cell_type": "code",
   "execution_count": null,
   "id": "37b857f4",
   "metadata": {},
   "outputs": [
    {
     "name": "stdout",
     "output_type": "stream",
     "text": [
      "X_train shape: (4406, 202, 24)\n",
      "static_train shape: (4406, 9)\n",
      "y_train shape: (4406,)\n"
     ]
    },
    {
     "data": {
      "text/html": [
       "<pre style=\"white-space:pre;overflow-x:auto;line-height:normal;font-family:Menlo,'DejaVu Sans Mono',consolas,'Courier New',monospace\"><span style=\"font-weight: bold\">Model: \"functional_4\"</span>\n",
       "</pre>\n"
      ],
      "text/plain": [
       "\u001b[1mModel: \"functional_4\"\u001b[0m\n"
      ]
     },
     "metadata": {},
     "output_type": "display_data"
    },
    {
     "data": {
      "text/html": [
       "<pre style=\"white-space:pre;overflow-x:auto;line-height:normal;font-family:Menlo,'DejaVu Sans Mono',consolas,'Courier New',monospace\">┏━━━━━━━━━━━━━━━━━━━━━┳━━━━━━━━━━━━━━━━━━━┳━━━━━━━━━━━━┳━━━━━━━━━━━━━━━━━━━┓\n",
       "┃<span style=\"font-weight: bold\"> Layer (type)        </span>┃<span style=\"font-weight: bold\"> Output Shape      </span>┃<span style=\"font-weight: bold\">    Param # </span>┃<span style=\"font-weight: bold\"> Connected to      </span>┃\n",
       "┡━━━━━━━━━━━━━━━━━━━━━╇━━━━━━━━━━━━━━━━━━━╇━━━━━━━━━━━━╇━━━━━━━━━━━━━━━━━━━┩\n",
       "│ seq_input           │ (<span style=\"color: #00d7ff; text-decoration-color: #00d7ff\">None</span>, <span style=\"color: #00af00; text-decoration-color: #00af00\">202</span>, <span style=\"color: #00af00; text-decoration-color: #00af00\">24</span>)   │          <span style=\"color: #00af00; text-decoration-color: #00af00\">0</span> │ -                 │\n",
       "│ (<span style=\"color: #0087ff; text-decoration-color: #0087ff\">InputLayer</span>)        │                   │            │                   │\n",
       "├─────────────────────┼───────────────────┼────────────┼───────────────────┤\n",
       "│ conv1d_8 (<span style=\"color: #0087ff; text-decoration-color: #0087ff\">Conv1D</span>)   │ (<span style=\"color: #00d7ff; text-decoration-color: #00d7ff\">None</span>, <span style=\"color: #00af00; text-decoration-color: #00af00\">202</span>, <span style=\"color: #00af00; text-decoration-color: #00af00\">64</span>)   │      <span style=\"color: #00af00; text-decoration-color: #00af00\">4,672</span> │ seq_input[<span style=\"color: #00af00; text-decoration-color: #00af00\">0</span>][<span style=\"color: #00af00; text-decoration-color: #00af00\">0</span>]   │\n",
       "├─────────────────────┼───────────────────┼────────────┼───────────────────┤\n",
       "│ dropout_12          │ (<span style=\"color: #00d7ff; text-decoration-color: #00d7ff\">None</span>, <span style=\"color: #00af00; text-decoration-color: #00af00\">202</span>, <span style=\"color: #00af00; text-decoration-color: #00af00\">64</span>)   │          <span style=\"color: #00af00; text-decoration-color: #00af00\">0</span> │ conv1d_8[<span style=\"color: #00af00; text-decoration-color: #00af00\">0</span>][<span style=\"color: #00af00; text-decoration-color: #00af00\">0</span>]    │\n",
       "│ (<span style=\"color: #0087ff; text-decoration-color: #0087ff\">Dropout</span>)           │                   │            │                   │\n",
       "├─────────────────────┼───────────────────┼────────────┼───────────────────┤\n",
       "│ conv1d_9 (<span style=\"color: #0087ff; text-decoration-color: #0087ff\">Conv1D</span>)   │ (<span style=\"color: #00d7ff; text-decoration-color: #00d7ff\">None</span>, <span style=\"color: #00af00; text-decoration-color: #00af00\">202</span>, <span style=\"color: #00af00; text-decoration-color: #00af00\">64</span>)   │     <span style=\"color: #00af00; text-decoration-color: #00af00\">12,352</span> │ dropout_12[<span style=\"color: #00af00; text-decoration-color: #00af00\">0</span>][<span style=\"color: #00af00; text-decoration-color: #00af00\">0</span>]  │\n",
       "├─────────────────────┼───────────────────┼────────────┼───────────────────┤\n",
       "│ dropout_13          │ (<span style=\"color: #00d7ff; text-decoration-color: #00d7ff\">None</span>, <span style=\"color: #00af00; text-decoration-color: #00af00\">202</span>, <span style=\"color: #00af00; text-decoration-color: #00af00\">64</span>)   │          <span style=\"color: #00af00; text-decoration-color: #00af00\">0</span> │ conv1d_9[<span style=\"color: #00af00; text-decoration-color: #00af00\">0</span>][<span style=\"color: #00af00; text-decoration-color: #00af00\">0</span>]    │\n",
       "│ (<span style=\"color: #0087ff; text-decoration-color: #0087ff\">Dropout</span>)           │                   │            │                   │\n",
       "├─────────────────────┼───────────────────┼────────────┼───────────────────┤\n",
       "│ lstm_4 (<span style=\"color: #0087ff; text-decoration-color: #0087ff\">LSTM</span>)       │ (<span style=\"color: #00d7ff; text-decoration-color: #00d7ff\">None</span>, <span style=\"color: #00af00; text-decoration-color: #00af00\">64</span>)        │     <span style=\"color: #00af00; text-decoration-color: #00af00\">33,024</span> │ dropout_13[<span style=\"color: #00af00; text-decoration-color: #00af00\">0</span>][<span style=\"color: #00af00; text-decoration-color: #00af00\">0</span>]  │\n",
       "├─────────────────────┼───────────────────┼────────────┼───────────────────┤\n",
       "│ dropout_14          │ (<span style=\"color: #00d7ff; text-decoration-color: #00d7ff\">None</span>, <span style=\"color: #00af00; text-decoration-color: #00af00\">64</span>)        │          <span style=\"color: #00af00; text-decoration-color: #00af00\">0</span> │ lstm_4[<span style=\"color: #00af00; text-decoration-color: #00af00\">0</span>][<span style=\"color: #00af00; text-decoration-color: #00af00\">0</span>]      │\n",
       "│ (<span style=\"color: #0087ff; text-decoration-color: #0087ff\">Dropout</span>)           │                   │            │                   │\n",
       "├─────────────────────┼───────────────────┼────────────┼───────────────────┤\n",
       "│ static_input        │ (<span style=\"color: #00d7ff; text-decoration-color: #00d7ff\">None</span>, <span style=\"color: #00af00; text-decoration-color: #00af00\">9</span>)         │          <span style=\"color: #00af00; text-decoration-color: #00af00\">0</span> │ -                 │\n",
       "│ (<span style=\"color: #0087ff; text-decoration-color: #0087ff\">InputLayer</span>)        │                   │            │                   │\n",
       "├─────────────────────┼───────────────────┼────────────┼───────────────────┤\n",
       "│ concatenate_4       │ (<span style=\"color: #00d7ff; text-decoration-color: #00d7ff\">None</span>, <span style=\"color: #00af00; text-decoration-color: #00af00\">73</span>)        │          <span style=\"color: #00af00; text-decoration-color: #00af00\">0</span> │ dropout_14[<span style=\"color: #00af00; text-decoration-color: #00af00\">0</span>][<span style=\"color: #00af00; text-decoration-color: #00af00\">0</span>], │\n",
       "│ (<span style=\"color: #0087ff; text-decoration-color: #0087ff\">Concatenate</span>)       │                   │            │ static_input[<span style=\"color: #00af00; text-decoration-color: #00af00\">0</span>][<span style=\"color: #00af00; text-decoration-color: #00af00\">…</span> │\n",
       "├─────────────────────┼───────────────────┼────────────┼───────────────────┤\n",
       "│ dense_8 (<span style=\"color: #0087ff; text-decoration-color: #0087ff\">Dense</span>)     │ (<span style=\"color: #00d7ff; text-decoration-color: #00d7ff\">None</span>, <span style=\"color: #00af00; text-decoration-color: #00af00\">32</span>)        │      <span style=\"color: #00af00; text-decoration-color: #00af00\">2,368</span> │ concatenate_4[<span style=\"color: #00af00; text-decoration-color: #00af00\">0</span>]… │\n",
       "├─────────────────────┼───────────────────┼────────────┼───────────────────┤\n",
       "│ dense_9 (<span style=\"color: #0087ff; text-decoration-color: #0087ff\">Dense</span>)     │ (<span style=\"color: #00d7ff; text-decoration-color: #00d7ff\">None</span>, <span style=\"color: #00af00; text-decoration-color: #00af00\">1</span>)         │         <span style=\"color: #00af00; text-decoration-color: #00af00\">33</span> │ dense_8[<span style=\"color: #00af00; text-decoration-color: #00af00\">0</span>][<span style=\"color: #00af00; text-decoration-color: #00af00\">0</span>]     │\n",
       "└─────────────────────┴───────────────────┴────────────┴───────────────────┘\n",
       "</pre>\n"
      ],
      "text/plain": [
       "┏━━━━━━━━━━━━━━━━━━━━━┳━━━━━━━━━━━━━━━━━━━┳━━━━━━━━━━━━┳━━━━━━━━━━━━━━━━━━━┓\n",
       "┃\u001b[1m \u001b[0m\u001b[1mLayer (type)       \u001b[0m\u001b[1m \u001b[0m┃\u001b[1m \u001b[0m\u001b[1mOutput Shape     \u001b[0m\u001b[1m \u001b[0m┃\u001b[1m \u001b[0m\u001b[1m   Param #\u001b[0m\u001b[1m \u001b[0m┃\u001b[1m \u001b[0m\u001b[1mConnected to     \u001b[0m\u001b[1m \u001b[0m┃\n",
       "┡━━━━━━━━━━━━━━━━━━━━━╇━━━━━━━━━━━━━━━━━━━╇━━━━━━━━━━━━╇━━━━━━━━━━━━━━━━━━━┩\n",
       "│ seq_input           │ (\u001b[38;5;45mNone\u001b[0m, \u001b[38;5;34m202\u001b[0m, \u001b[38;5;34m24\u001b[0m)   │          \u001b[38;5;34m0\u001b[0m │ -                 │\n",
       "│ (\u001b[38;5;33mInputLayer\u001b[0m)        │                   │            │                   │\n",
       "├─────────────────────┼───────────────────┼────────────┼───────────────────┤\n",
       "│ conv1d_8 (\u001b[38;5;33mConv1D\u001b[0m)   │ (\u001b[38;5;45mNone\u001b[0m, \u001b[38;5;34m202\u001b[0m, \u001b[38;5;34m64\u001b[0m)   │      \u001b[38;5;34m4,672\u001b[0m │ seq_input[\u001b[38;5;34m0\u001b[0m][\u001b[38;5;34m0\u001b[0m]   │\n",
       "├─────────────────────┼───────────────────┼────────────┼───────────────────┤\n",
       "│ dropout_12          │ (\u001b[38;5;45mNone\u001b[0m, \u001b[38;5;34m202\u001b[0m, \u001b[38;5;34m64\u001b[0m)   │          \u001b[38;5;34m0\u001b[0m │ conv1d_8[\u001b[38;5;34m0\u001b[0m][\u001b[38;5;34m0\u001b[0m]    │\n",
       "│ (\u001b[38;5;33mDropout\u001b[0m)           │                   │            │                   │\n",
       "├─────────────────────┼───────────────────┼────────────┼───────────────────┤\n",
       "│ conv1d_9 (\u001b[38;5;33mConv1D\u001b[0m)   │ (\u001b[38;5;45mNone\u001b[0m, \u001b[38;5;34m202\u001b[0m, \u001b[38;5;34m64\u001b[0m)   │     \u001b[38;5;34m12,352\u001b[0m │ dropout_12[\u001b[38;5;34m0\u001b[0m][\u001b[38;5;34m0\u001b[0m]  │\n",
       "├─────────────────────┼───────────────────┼────────────┼───────────────────┤\n",
       "│ dropout_13          │ (\u001b[38;5;45mNone\u001b[0m, \u001b[38;5;34m202\u001b[0m, \u001b[38;5;34m64\u001b[0m)   │          \u001b[38;5;34m0\u001b[0m │ conv1d_9[\u001b[38;5;34m0\u001b[0m][\u001b[38;5;34m0\u001b[0m]    │\n",
       "│ (\u001b[38;5;33mDropout\u001b[0m)           │                   │            │                   │\n",
       "├─────────────────────┼───────────────────┼────────────┼───────────────────┤\n",
       "│ lstm_4 (\u001b[38;5;33mLSTM\u001b[0m)       │ (\u001b[38;5;45mNone\u001b[0m, \u001b[38;5;34m64\u001b[0m)        │     \u001b[38;5;34m33,024\u001b[0m │ dropout_13[\u001b[38;5;34m0\u001b[0m][\u001b[38;5;34m0\u001b[0m]  │\n",
       "├─────────────────────┼───────────────────┼────────────┼───────────────────┤\n",
       "│ dropout_14          │ (\u001b[38;5;45mNone\u001b[0m, \u001b[38;5;34m64\u001b[0m)        │          \u001b[38;5;34m0\u001b[0m │ lstm_4[\u001b[38;5;34m0\u001b[0m][\u001b[38;5;34m0\u001b[0m]      │\n",
       "│ (\u001b[38;5;33mDropout\u001b[0m)           │                   │            │                   │\n",
       "├─────────────────────┼───────────────────┼────────────┼───────────────────┤\n",
       "│ static_input        │ (\u001b[38;5;45mNone\u001b[0m, \u001b[38;5;34m9\u001b[0m)         │          \u001b[38;5;34m0\u001b[0m │ -                 │\n",
       "│ (\u001b[38;5;33mInputLayer\u001b[0m)        │                   │            │                   │\n",
       "├─────────────────────┼───────────────────┼────────────┼───────────────────┤\n",
       "│ concatenate_4       │ (\u001b[38;5;45mNone\u001b[0m, \u001b[38;5;34m73\u001b[0m)        │          \u001b[38;5;34m0\u001b[0m │ dropout_14[\u001b[38;5;34m0\u001b[0m][\u001b[38;5;34m0\u001b[0m], │\n",
       "│ (\u001b[38;5;33mConcatenate\u001b[0m)       │                   │            │ static_input[\u001b[38;5;34m0\u001b[0m][\u001b[38;5;34m…\u001b[0m │\n",
       "├─────────────────────┼───────────────────┼────────────┼───────────────────┤\n",
       "│ dense_8 (\u001b[38;5;33mDense\u001b[0m)     │ (\u001b[38;5;45mNone\u001b[0m, \u001b[38;5;34m32\u001b[0m)        │      \u001b[38;5;34m2,368\u001b[0m │ concatenate_4[\u001b[38;5;34m0\u001b[0m]… │\n",
       "├─────────────────────┼───────────────────┼────────────┼───────────────────┤\n",
       "│ dense_9 (\u001b[38;5;33mDense\u001b[0m)     │ (\u001b[38;5;45mNone\u001b[0m, \u001b[38;5;34m1\u001b[0m)         │         \u001b[38;5;34m33\u001b[0m │ dense_8[\u001b[38;5;34m0\u001b[0m][\u001b[38;5;34m0\u001b[0m]     │\n",
       "└─────────────────────┴───────────────────┴────────────┴───────────────────┘\n"
      ]
     },
     "metadata": {},
     "output_type": "display_data"
    },
    {
     "data": {
      "text/html": [
       "<pre style=\"white-space:pre;overflow-x:auto;line-height:normal;font-family:Menlo,'DejaVu Sans Mono',consolas,'Courier New',monospace\"><span style=\"font-weight: bold\"> Total params: </span><span style=\"color: #00af00; text-decoration-color: #00af00\">52,449</span> (204.88 KB)\n",
       "</pre>\n"
      ],
      "text/plain": [
       "\u001b[1m Total params: \u001b[0m\u001b[38;5;34m52,449\u001b[0m (204.88 KB)\n"
      ]
     },
     "metadata": {},
     "output_type": "display_data"
    },
    {
     "data": {
      "text/html": [
       "<pre style=\"white-space:pre;overflow-x:auto;line-height:normal;font-family:Menlo,'DejaVu Sans Mono',consolas,'Courier New',monospace\"><span style=\"font-weight: bold\"> Trainable params: </span><span style=\"color: #00af00; text-decoration-color: #00af00\">52,449</span> (204.88 KB)\n",
       "</pre>\n"
      ],
      "text/plain": [
       "\u001b[1m Trainable params: \u001b[0m\u001b[38;5;34m52,449\u001b[0m (204.88 KB)\n"
      ]
     },
     "metadata": {},
     "output_type": "display_data"
    },
    {
     "data": {
      "text/html": [
       "<pre style=\"white-space:pre;overflow-x:auto;line-height:normal;font-family:Menlo,'DejaVu Sans Mono',consolas,'Courier New',monospace\"><span style=\"font-weight: bold\"> Non-trainable params: </span><span style=\"color: #00af00; text-decoration-color: #00af00\">0</span> (0.00 B)\n",
       "</pre>\n"
      ],
      "text/plain": [
       "\u001b[1m Non-trainable params: \u001b[0m\u001b[38;5;34m0\u001b[0m (0.00 B)\n"
      ]
     },
     "metadata": {},
     "output_type": "display_data"
    }
   ],
   "source": [
    "# Load prepared data\n",
    "data = np.load('../data/processed/cnn_lstm_data.npz', allow_pickle=True)\n",
    "X_train, y_train = data['X_train'], data['y_train']\n",
    "X_val, y_val = data['X_val'], data['y_val']\n",
    "X_test, y_test = data['X_test'], data['y_test']\n",
    "static_train, static_val, static_test = data['static_train'], data['static_val'], data['static_test']\n",
    "\n",
    "# Sanity check\n",
    "print('X_train shape:', X_train.shape)\n",
    "print('static_train shape:', static_train.shape)\n",
    "print('y_train shape:', y_train.shape)\n",
    "\n",
    "# Model definition\n",
    "seq_input = Input(shape=(X_train.shape[1], X_train.shape[2]), name='seq_input')\n",
    "x = Conv1D(filters=64, kernel_size=3, activation='relu', padding='same', kernel_regularizer=l2(1e-4))(seq_input)\n",
    "x = Dropout(0.3)(x)\n",
    "x = Conv1D(filters=64, kernel_size=3, activation='relu', padding='same', kernel_regularizer=l2(1e-4))(x)\n",
    "x = Dropout(0.3)(x)\n",
    "x = LSTM(64, return_sequences=False, kernel_regularizer=l2(1e-4))(x)\n",
    "x = Dropout(0.3)(x)\n",
    "\n",
    "static_input = Input(shape=(static_train.shape[1],), name='static_input')\n",
    "concat = Concatenate()([x, static_input])\n",
    "dense = Dense(32, activation='relu', kernel_regularizer=l2(1e-4))(concat)\n",
    "output = Dense(1, activation='sigmoid')(dense)\n",
    "\n",
    "model = Model(inputs=[seq_input, static_input], outputs=output)\n",
    "model.compile(optimizer='adam', loss='binary_crossentropy', metrics=['AUC', 'Precision', 'Recall'])\n",
    "model.summary()"
   ]
  },
  {
   "cell_type": "markdown",
   "id": "48b7844d",
   "metadata": {},
   "source": [
    "## 2. Model Training\n",
    "\n",
    "Use early stopping and model checkpointing to prevent overfitting.\n",
    "\n",
    "## 3. Model Architecture: CNN-LSTM Hybrid\n",
    "\n",
    "- **Input 1:** Time series (sequence) features (shape: [batch, timesteps, features])\n",
    "- **Input 2:** Static features (shape: [batch, static_features])\n",
    "- **CNN layers:** Extract local temporal patterns\n",
    "- **LSTM layer:** Capture long-term dependencies\n",
    "- **Dense layers:** Combine sequence and static features\n",
    "- **Output:** Binary mortality prediction (sigmoid)"
   ]
  },
  {
   "cell_type": "code",
   "execution_count": null,
   "id": "739629e5",
   "metadata": {},
   "outputs": [
    {
     "data": {
      "text/html": [
       "<pre style=\"white-space:pre;overflow-x:auto;line-height:normal;font-family:Menlo,'DejaVu Sans Mono',consolas,'Courier New',monospace\"><span style=\"font-weight: bold\">Model: \"functional_5\"</span>\n",
       "</pre>\n"
      ],
      "text/plain": [
       "\u001b[1mModel: \"functional_5\"\u001b[0m\n"
      ]
     },
     "metadata": {},
     "output_type": "display_data"
    },
    {
     "data": {
      "text/html": [
       "<pre style=\"white-space:pre;overflow-x:auto;line-height:normal;font-family:Menlo,'DejaVu Sans Mono',consolas,'Courier New',monospace\">┏━━━━━━━━━━━━━━━━━━━━━┳━━━━━━━━━━━━━━━━━━━┳━━━━━━━━━━━━┳━━━━━━━━━━━━━━━━━━━┓\n",
       "┃<span style=\"font-weight: bold\"> Layer (type)        </span>┃<span style=\"font-weight: bold\"> Output Shape      </span>┃<span style=\"font-weight: bold\">    Param # </span>┃<span style=\"font-weight: bold\"> Connected to      </span>┃\n",
       "┡━━━━━━━━━━━━━━━━━━━━━╇━━━━━━━━━━━━━━━━━━━╇━━━━━━━━━━━━╇━━━━━━━━━━━━━━━━━━━┩\n",
       "│ seq_input           │ (<span style=\"color: #00d7ff; text-decoration-color: #00d7ff\">None</span>, <span style=\"color: #00af00; text-decoration-color: #00af00\">202</span>, <span style=\"color: #00af00; text-decoration-color: #00af00\">24</span>)   │          <span style=\"color: #00af00; text-decoration-color: #00af00\">0</span> │ -                 │\n",
       "│ (<span style=\"color: #0087ff; text-decoration-color: #0087ff\">InputLayer</span>)        │                   │            │                   │\n",
       "├─────────────────────┼───────────────────┼────────────┼───────────────────┤\n",
       "│ conv1d_10 (<span style=\"color: #0087ff; text-decoration-color: #0087ff\">Conv1D</span>)  │ (<span style=\"color: #00d7ff; text-decoration-color: #00d7ff\">None</span>, <span style=\"color: #00af00; text-decoration-color: #00af00\">202</span>, <span style=\"color: #00af00; text-decoration-color: #00af00\">64</span>)   │      <span style=\"color: #00af00; text-decoration-color: #00af00\">4,672</span> │ seq_input[<span style=\"color: #00af00; text-decoration-color: #00af00\">0</span>][<span style=\"color: #00af00; text-decoration-color: #00af00\">0</span>]   │\n",
       "├─────────────────────┼───────────────────┼────────────┼───────────────────┤\n",
       "│ dropout_15          │ (<span style=\"color: #00d7ff; text-decoration-color: #00d7ff\">None</span>, <span style=\"color: #00af00; text-decoration-color: #00af00\">202</span>, <span style=\"color: #00af00; text-decoration-color: #00af00\">64</span>)   │          <span style=\"color: #00af00; text-decoration-color: #00af00\">0</span> │ conv1d_10[<span style=\"color: #00af00; text-decoration-color: #00af00\">0</span>][<span style=\"color: #00af00; text-decoration-color: #00af00\">0</span>]   │\n",
       "│ (<span style=\"color: #0087ff; text-decoration-color: #0087ff\">Dropout</span>)           │                   │            │                   │\n",
       "├─────────────────────┼───────────────────┼────────────┼───────────────────┤\n",
       "│ conv1d_11 (<span style=\"color: #0087ff; text-decoration-color: #0087ff\">Conv1D</span>)  │ (<span style=\"color: #00d7ff; text-decoration-color: #00d7ff\">None</span>, <span style=\"color: #00af00; text-decoration-color: #00af00\">202</span>, <span style=\"color: #00af00; text-decoration-color: #00af00\">64</span>)   │     <span style=\"color: #00af00; text-decoration-color: #00af00\">12,352</span> │ dropout_15[<span style=\"color: #00af00; text-decoration-color: #00af00\">0</span>][<span style=\"color: #00af00; text-decoration-color: #00af00\">0</span>]  │\n",
       "├─────────────────────┼───────────────────┼────────────┼───────────────────┤\n",
       "│ dropout_16          │ (<span style=\"color: #00d7ff; text-decoration-color: #00d7ff\">None</span>, <span style=\"color: #00af00; text-decoration-color: #00af00\">202</span>, <span style=\"color: #00af00; text-decoration-color: #00af00\">64</span>)   │          <span style=\"color: #00af00; text-decoration-color: #00af00\">0</span> │ conv1d_11[<span style=\"color: #00af00; text-decoration-color: #00af00\">0</span>][<span style=\"color: #00af00; text-decoration-color: #00af00\">0</span>]   │\n",
       "│ (<span style=\"color: #0087ff; text-decoration-color: #0087ff\">Dropout</span>)           │                   │            │                   │\n",
       "├─────────────────────┼───────────────────┼────────────┼───────────────────┤\n",
       "│ lstm_5 (<span style=\"color: #0087ff; text-decoration-color: #0087ff\">LSTM</span>)       │ (<span style=\"color: #00d7ff; text-decoration-color: #00d7ff\">None</span>, <span style=\"color: #00af00; text-decoration-color: #00af00\">64</span>)        │     <span style=\"color: #00af00; text-decoration-color: #00af00\">33,024</span> │ dropout_16[<span style=\"color: #00af00; text-decoration-color: #00af00\">0</span>][<span style=\"color: #00af00; text-decoration-color: #00af00\">0</span>]  │\n",
       "├─────────────────────┼───────────────────┼────────────┼───────────────────┤\n",
       "│ dropout_17          │ (<span style=\"color: #00d7ff; text-decoration-color: #00d7ff\">None</span>, <span style=\"color: #00af00; text-decoration-color: #00af00\">64</span>)        │          <span style=\"color: #00af00; text-decoration-color: #00af00\">0</span> │ lstm_5[<span style=\"color: #00af00; text-decoration-color: #00af00\">0</span>][<span style=\"color: #00af00; text-decoration-color: #00af00\">0</span>]      │\n",
       "│ (<span style=\"color: #0087ff; text-decoration-color: #0087ff\">Dropout</span>)           │                   │            │                   │\n",
       "├─────────────────────┼───────────────────┼────────────┼───────────────────┤\n",
       "│ static_input        │ (<span style=\"color: #00d7ff; text-decoration-color: #00d7ff\">None</span>, <span style=\"color: #00af00; text-decoration-color: #00af00\">9</span>)         │          <span style=\"color: #00af00; text-decoration-color: #00af00\">0</span> │ -                 │\n",
       "│ (<span style=\"color: #0087ff; text-decoration-color: #0087ff\">InputLayer</span>)        │                   │            │                   │\n",
       "├─────────────────────┼───────────────────┼────────────┼───────────────────┤\n",
       "│ concatenate_5       │ (<span style=\"color: #00d7ff; text-decoration-color: #00d7ff\">None</span>, <span style=\"color: #00af00; text-decoration-color: #00af00\">73</span>)        │          <span style=\"color: #00af00; text-decoration-color: #00af00\">0</span> │ dropout_17[<span style=\"color: #00af00; text-decoration-color: #00af00\">0</span>][<span style=\"color: #00af00; text-decoration-color: #00af00\">0</span>], │\n",
       "│ (<span style=\"color: #0087ff; text-decoration-color: #0087ff\">Concatenate</span>)       │                   │            │ static_input[<span style=\"color: #00af00; text-decoration-color: #00af00\">0</span>][<span style=\"color: #00af00; text-decoration-color: #00af00\">…</span> │\n",
       "├─────────────────────┼───────────────────┼────────────┼───────────────────┤\n",
       "│ dense_10 (<span style=\"color: #0087ff; text-decoration-color: #0087ff\">Dense</span>)    │ (<span style=\"color: #00d7ff; text-decoration-color: #00d7ff\">None</span>, <span style=\"color: #00af00; text-decoration-color: #00af00\">32</span>)        │      <span style=\"color: #00af00; text-decoration-color: #00af00\">2,368</span> │ concatenate_5[<span style=\"color: #00af00; text-decoration-color: #00af00\">0</span>]… │\n",
       "├─────────────────────┼───────────────────┼────────────┼───────────────────┤\n",
       "│ dense_11 (<span style=\"color: #0087ff; text-decoration-color: #0087ff\">Dense</span>)    │ (<span style=\"color: #00d7ff; text-decoration-color: #00d7ff\">None</span>, <span style=\"color: #00af00; text-decoration-color: #00af00\">1</span>)         │         <span style=\"color: #00af00; text-decoration-color: #00af00\">33</span> │ dense_10[<span style=\"color: #00af00; text-decoration-color: #00af00\">0</span>][<span style=\"color: #00af00; text-decoration-color: #00af00\">0</span>]    │\n",
       "└─────────────────────┴───────────────────┴────────────┴───────────────────┘\n",
       "</pre>\n"
      ],
      "text/plain": [
       "┏━━━━━━━━━━━━━━━━━━━━━┳━━━━━━━━━━━━━━━━━━━┳━━━━━━━━━━━━┳━━━━━━━━━━━━━━━━━━━┓\n",
       "┃\u001b[1m \u001b[0m\u001b[1mLayer (type)       \u001b[0m\u001b[1m \u001b[0m┃\u001b[1m \u001b[0m\u001b[1mOutput Shape     \u001b[0m\u001b[1m \u001b[0m┃\u001b[1m \u001b[0m\u001b[1m   Param #\u001b[0m\u001b[1m \u001b[0m┃\u001b[1m \u001b[0m\u001b[1mConnected to     \u001b[0m\u001b[1m \u001b[0m┃\n",
       "┡━━━━━━━━━━━━━━━━━━━━━╇━━━━━━━━━━━━━━━━━━━╇━━━━━━━━━━━━╇━━━━━━━━━━━━━━━━━━━┩\n",
       "│ seq_input           │ (\u001b[38;5;45mNone\u001b[0m, \u001b[38;5;34m202\u001b[0m, \u001b[38;5;34m24\u001b[0m)   │          \u001b[38;5;34m0\u001b[0m │ -                 │\n",
       "│ (\u001b[38;5;33mInputLayer\u001b[0m)        │                   │            │                   │\n",
       "├─────────────────────┼───────────────────┼────────────┼───────────────────┤\n",
       "│ conv1d_10 (\u001b[38;5;33mConv1D\u001b[0m)  │ (\u001b[38;5;45mNone\u001b[0m, \u001b[38;5;34m202\u001b[0m, \u001b[38;5;34m64\u001b[0m)   │      \u001b[38;5;34m4,672\u001b[0m │ seq_input[\u001b[38;5;34m0\u001b[0m][\u001b[38;5;34m0\u001b[0m]   │\n",
       "├─────────────────────┼───────────────────┼────────────┼───────────────────┤\n",
       "│ dropout_15          │ (\u001b[38;5;45mNone\u001b[0m, \u001b[38;5;34m202\u001b[0m, \u001b[38;5;34m64\u001b[0m)   │          \u001b[38;5;34m0\u001b[0m │ conv1d_10[\u001b[38;5;34m0\u001b[0m][\u001b[38;5;34m0\u001b[0m]   │\n",
       "│ (\u001b[38;5;33mDropout\u001b[0m)           │                   │            │                   │\n",
       "├─────────────────────┼───────────────────┼────────────┼───────────────────┤\n",
       "│ conv1d_11 (\u001b[38;5;33mConv1D\u001b[0m)  │ (\u001b[38;5;45mNone\u001b[0m, \u001b[38;5;34m202\u001b[0m, \u001b[38;5;34m64\u001b[0m)   │     \u001b[38;5;34m12,352\u001b[0m │ dropout_15[\u001b[38;5;34m0\u001b[0m][\u001b[38;5;34m0\u001b[0m]  │\n",
       "├─────────────────────┼───────────────────┼────────────┼───────────────────┤\n",
       "│ dropout_16          │ (\u001b[38;5;45mNone\u001b[0m, \u001b[38;5;34m202\u001b[0m, \u001b[38;5;34m64\u001b[0m)   │          \u001b[38;5;34m0\u001b[0m │ conv1d_11[\u001b[38;5;34m0\u001b[0m][\u001b[38;5;34m0\u001b[0m]   │\n",
       "│ (\u001b[38;5;33mDropout\u001b[0m)           │                   │            │                   │\n",
       "├─────────────────────┼───────────────────┼────────────┼───────────────────┤\n",
       "│ lstm_5 (\u001b[38;5;33mLSTM\u001b[0m)       │ (\u001b[38;5;45mNone\u001b[0m, \u001b[38;5;34m64\u001b[0m)        │     \u001b[38;5;34m33,024\u001b[0m │ dropout_16[\u001b[38;5;34m0\u001b[0m][\u001b[38;5;34m0\u001b[0m]  │\n",
       "├─────────────────────┼───────────────────┼────────────┼───────────────────┤\n",
       "│ dropout_17          │ (\u001b[38;5;45mNone\u001b[0m, \u001b[38;5;34m64\u001b[0m)        │          \u001b[38;5;34m0\u001b[0m │ lstm_5[\u001b[38;5;34m0\u001b[0m][\u001b[38;5;34m0\u001b[0m]      │\n",
       "│ (\u001b[38;5;33mDropout\u001b[0m)           │                   │            │                   │\n",
       "├─────────────────────┼───────────────────┼────────────┼───────────────────┤\n",
       "│ static_input        │ (\u001b[38;5;45mNone\u001b[0m, \u001b[38;5;34m9\u001b[0m)         │          \u001b[38;5;34m0\u001b[0m │ -                 │\n",
       "│ (\u001b[38;5;33mInputLayer\u001b[0m)        │                   │            │                   │\n",
       "├─────────────────────┼───────────────────┼────────────┼───────────────────┤\n",
       "│ concatenate_5       │ (\u001b[38;5;45mNone\u001b[0m, \u001b[38;5;34m73\u001b[0m)        │          \u001b[38;5;34m0\u001b[0m │ dropout_17[\u001b[38;5;34m0\u001b[0m][\u001b[38;5;34m0\u001b[0m], │\n",
       "│ (\u001b[38;5;33mConcatenate\u001b[0m)       │                   │            │ static_input[\u001b[38;5;34m0\u001b[0m][\u001b[38;5;34m…\u001b[0m │\n",
       "├─────────────────────┼───────────────────┼────────────┼───────────────────┤\n",
       "│ dense_10 (\u001b[38;5;33mDense\u001b[0m)    │ (\u001b[38;5;45mNone\u001b[0m, \u001b[38;5;34m32\u001b[0m)        │      \u001b[38;5;34m2,368\u001b[0m │ concatenate_5[\u001b[38;5;34m0\u001b[0m]… │\n",
       "├─────────────────────┼───────────────────┼────────────┼───────────────────┤\n",
       "│ dense_11 (\u001b[38;5;33mDense\u001b[0m)    │ (\u001b[38;5;45mNone\u001b[0m, \u001b[38;5;34m1\u001b[0m)         │         \u001b[38;5;34m33\u001b[0m │ dense_10[\u001b[38;5;34m0\u001b[0m][\u001b[38;5;34m0\u001b[0m]    │\n",
       "└─────────────────────┴───────────────────┴────────────┴───────────────────┘\n"
      ]
     },
     "metadata": {},
     "output_type": "display_data"
    },
    {
     "data": {
      "text/html": [
       "<pre style=\"white-space:pre;overflow-x:auto;line-height:normal;font-family:Menlo,'DejaVu Sans Mono',consolas,'Courier New',monospace\"><span style=\"font-weight: bold\"> Total params: </span><span style=\"color: #00af00; text-decoration-color: #00af00\">52,449</span> (204.88 KB)\n",
       "</pre>\n"
      ],
      "text/plain": [
       "\u001b[1m Total params: \u001b[0m\u001b[38;5;34m52,449\u001b[0m (204.88 KB)\n"
      ]
     },
     "metadata": {},
     "output_type": "display_data"
    },
    {
     "data": {
      "text/html": [
       "<pre style=\"white-space:pre;overflow-x:auto;line-height:normal;font-family:Menlo,'DejaVu Sans Mono',consolas,'Courier New',monospace\"><span style=\"font-weight: bold\"> Trainable params: </span><span style=\"color: #00af00; text-decoration-color: #00af00\">52,449</span> (204.88 KB)\n",
       "</pre>\n"
      ],
      "text/plain": [
       "\u001b[1m Trainable params: \u001b[0m\u001b[38;5;34m52,449\u001b[0m (204.88 KB)\n"
      ]
     },
     "metadata": {},
     "output_type": "display_data"
    },
    {
     "data": {
      "text/html": [
       "<pre style=\"white-space:pre;overflow-x:auto;line-height:normal;font-family:Menlo,'DejaVu Sans Mono',consolas,'Courier New',monospace\"><span style=\"font-weight: bold\"> Non-trainable params: </span><span style=\"color: #00af00; text-decoration-color: #00af00\">0</span> (0.00 B)\n",
       "</pre>\n"
      ],
      "text/plain": [
       "\u001b[1m Non-trainable params: \u001b[0m\u001b[38;5;34m0\u001b[0m (0.00 B)\n"
      ]
     },
     "metadata": {},
     "output_type": "display_data"
    },
    {
     "name": "stdout",
     "output_type": "stream",
     "text": [
      "Epoch 1/100\n",
      "\u001b[1m69/69\u001b[0m \u001b[32m━━━━━━━━━━━━━━━━━━━━\u001b[0m\u001b[37m\u001b[0m \u001b[1m0s\u001b[0m 85ms/step - AUC: 0.4879 - Precision: 0.4920 - Recall: 0.6424 - loss: 2.9549"
     ]
    },
    {
     "name": "stderr",
     "output_type": "stream",
     "text": [
      "WARNING:absl:You are saving your model as an HDF5 file via `model.save()` or `keras.saving.save_model(model)`. This file format is considered legacy. We recommend using instead the native Keras format, e.g. `model.save('my_model.keras')` or `keras.saving.save_model(model, 'my_model.keras')`. \n"
     ]
    },
    {
     "name": "stdout",
     "output_type": "stream",
     "text": [
      "\u001b[1m69/69\u001b[0m \u001b[32m━━━━━━━━━━━━━━━━━━━━\u001b[0m\u001b[37m\u001b[0m \u001b[1m10s\u001b[0m 99ms/step - AUC: 0.4879 - Precision: 0.4920 - Recall: 0.6406 - loss: 2.9381 - val_AUC: 0.4952 - val_Precision: 0.1437 - val_Recall: 0.5393 - val_loss: 1.1899\n",
      "Epoch 2/100\n",
      "Epoch 2/100\n",
      "\u001b[1m69/69\u001b[0m \u001b[32m━━━━━━━━━━━━━━━━━━━━\u001b[0m\u001b[37m\u001b[0m \u001b[1m0s\u001b[0m 87ms/step - AUC: 0.5565 - Precision: 0.5482 - Recall: 0.5958 - loss: 0.9470"
     ]
    },
    {
     "name": "stderr",
     "output_type": "stream",
     "text": [
      "WARNING:absl:You are saving your model as an HDF5 file via `model.save()` or `keras.saving.save_model(model)`. This file format is considered legacy. We recommend using instead the native Keras format, e.g. `model.save('my_model.keras')` or `keras.saving.save_model(model, 'my_model.keras')`. \n"
     ]
    },
    {
     "name": "stdout",
     "output_type": "stream",
     "text": [
      "\u001b[1m69/69\u001b[0m \u001b[32m━━━━━━━━━━━━━━━━━━━━\u001b[0m\u001b[37m\u001b[0m \u001b[1m6s\u001b[0m 94ms/step - AUC: 0.5569 - Precision: 0.5485 - Recall: 0.5956 - loss: 0.9460 - val_AUC: 0.6536 - val_Precision: 0.1851 - val_Recall: 0.7528 - val_loss: 0.9513\n",
      "Epoch 3/100\n",
      "Epoch 3/100\n",
      "\u001b[1m69/69\u001b[0m \u001b[32m━━━━━━━━━━━━━━━━━━━━\u001b[0m\u001b[37m\u001b[0m \u001b[1m0s\u001b[0m 87ms/step - AUC: 0.6860 - Precision: 0.6304 - Recall: 0.6693 - loss: 0.7011"
     ]
    },
    {
     "name": "stderr",
     "output_type": "stream",
     "text": [
      "WARNING:absl:You are saving your model as an HDF5 file via `model.save()` or `keras.saving.save_model(model)`. This file format is considered legacy. We recommend using instead the native Keras format, e.g. `model.save('my_model.keras')` or `keras.saving.save_model(model, 'my_model.keras')`. \n"
     ]
    },
    {
     "name": "stdout",
     "output_type": "stream",
     "text": [
      "\u001b[1m69/69\u001b[0m \u001b[32m━━━━━━━━━━━━━━━━━━━━\u001b[0m\u001b[37m\u001b[0m \u001b[1m6s\u001b[0m 94ms/step - AUC: 0.6864 - Precision: 0.6308 - Recall: 0.6693 - loss: 0.7006 - val_AUC: 0.7843 - val_Precision: 0.2566 - val_Recall: 0.7640 - val_loss: 0.6374\n",
      "Epoch 4/100\n",
      "Epoch 4/100\n",
      "\u001b[1m69/69\u001b[0m \u001b[32m━━━━━━━━━━━━━━━━━━━━\u001b[0m\u001b[37m\u001b[0m \u001b[1m0s\u001b[0m 88ms/step - AUC: 0.7944 - Precision: 0.7267 - Recall: 0.7396 - loss: 0.5667"
     ]
    },
    {
     "name": "stderr",
     "output_type": "stream",
     "text": [
      "WARNING:absl:You are saving your model as an HDF5 file via `model.save()` or `keras.saving.save_model(model)`. This file format is considered legacy. We recommend using instead the native Keras format, e.g. `model.save('my_model.keras')` or `keras.saving.save_model(model, 'my_model.keras')`. \n"
     ]
    },
    {
     "name": "stdout",
     "output_type": "stream",
     "text": [
      "\u001b[1m69/69\u001b[0m \u001b[32m━━━━━━━━━━━━━━━━━━━━\u001b[0m\u001b[37m\u001b[0m \u001b[1m7s\u001b[0m 95ms/step - AUC: 0.7947 - Precision: 0.7268 - Recall: 0.7397 - loss: 0.5664 - val_AUC: 0.8725 - val_Precision: 0.2821 - val_Recall: 0.8876 - val_loss: 0.6004\n",
      "Epoch 5/100\n",
      "Epoch 5/100\n",
      "\u001b[1m69/69\u001b[0m \u001b[32m━━━━━━━━━━━━━━━━━━━━\u001b[0m\u001b[37m\u001b[0m \u001b[1m0s\u001b[0m 87ms/step - AUC: 0.8762 - Precision: 0.7880 - Recall: 0.8140 - loss: 0.4747"
     ]
    },
    {
     "name": "stderr",
     "output_type": "stream",
     "text": [
      "WARNING:absl:You are saving your model as an HDF5 file via `model.save()` or `keras.saving.save_model(model)`. This file format is considered legacy. We recommend using instead the native Keras format, e.g. `model.save('my_model.keras')` or `keras.saving.save_model(model, 'my_model.keras')`. \n"
     ]
    },
    {
     "name": "stdout",
     "output_type": "stream",
     "text": [
      "\u001b[1m69/69\u001b[0m \u001b[32m━━━━━━━━━━━━━━━━━━━━\u001b[0m\u001b[37m\u001b[0m \u001b[1m6s\u001b[0m 93ms/step - AUC: 0.8764 - Precision: 0.7883 - Recall: 0.8140 - loss: 0.4744 - val_AUC: 0.9314 - val_Precision: 0.3333 - val_Recall: 0.9551 - val_loss: 0.5275\n",
      "Epoch 6/100\n",
      "Epoch 6/100\n",
      "\u001b[1m69/69\u001b[0m \u001b[32m━━━━━━━━━━━━━━━━━━━━\u001b[0m\u001b[37m\u001b[0m \u001b[1m0s\u001b[0m 81ms/step - AUC: 0.9274 - Precision: 0.8423 - Recall: 0.8567 - loss: 0.4086"
     ]
    },
    {
     "name": "stderr",
     "output_type": "stream",
     "text": [
      "WARNING:absl:You are saving your model as an HDF5 file via `model.save()` or `keras.saving.save_model(model)`. This file format is considered legacy. We recommend using instead the native Keras format, e.g. `model.save('my_model.keras')` or `keras.saving.save_model(model, 'my_model.keras')`. \n"
     ]
    },
    {
     "name": "stdout",
     "output_type": "stream",
     "text": [
      "\u001b[1m69/69\u001b[0m \u001b[32m━━━━━━━━━━━━━━━━━━━━\u001b[0m\u001b[37m\u001b[0m \u001b[1m6s\u001b[0m 88ms/step - AUC: 0.9276 - Precision: 0.8427 - Recall: 0.8569 - loss: 0.4084 - val_AUC: 0.9625 - val_Precision: 0.4019 - val_Recall: 0.9663 - val_loss: 0.4681\n",
      "Epoch 7/100\n",
      "Epoch 7/100\n",
      "\u001b[1m69/69\u001b[0m \u001b[32m━━━━━━━━━━━━━━━━━━━━\u001b[0m\u001b[37m\u001b[0m \u001b[1m0s\u001b[0m 81ms/step - AUC: 0.9559 - Precision: 0.8937 - Recall: 0.8875 - loss: 0.3594"
     ]
    },
    {
     "name": "stderr",
     "output_type": "stream",
     "text": [
      "WARNING:absl:You are saving your model as an HDF5 file via `model.save()` or `keras.saving.save_model(model)`. This file format is considered legacy. We recommend using instead the native Keras format, e.g. `model.save('my_model.keras')` or `keras.saving.save_model(model, 'my_model.keras')`. \n"
     ]
    },
    {
     "name": "stdout",
     "output_type": "stream",
     "text": [
      "\u001b[1m69/69\u001b[0m \u001b[32m━━━━━━━━━━━━━━━━━━━━\u001b[0m\u001b[37m\u001b[0m \u001b[1m6s\u001b[0m 87ms/step - AUC: 0.9560 - Precision: 0.8940 - Recall: 0.8876 - loss: 0.3592 - val_AUC: 0.9765 - val_Precision: 0.5667 - val_Recall: 0.9551 - val_loss: 0.3848\n",
      "Epoch 8/100\n",
      "Epoch 8/100\n",
      "\u001b[1m69/69\u001b[0m \u001b[32m━━━━━━━━━━━━━━━━━━━━\u001b[0m\u001b[37m\u001b[0m \u001b[1m0s\u001b[0m 82ms/step - AUC: 0.9756 - Precision: 0.9285 - Recall: 0.9145 - loss: 0.3132"
     ]
    },
    {
     "name": "stderr",
     "output_type": "stream",
     "text": [
      "WARNING:absl:You are saving your model as an HDF5 file via `model.save()` or `keras.saving.save_model(model)`. This file format is considered legacy. We recommend using instead the native Keras format, e.g. `model.save('my_model.keras')` or `keras.saving.save_model(model, 'my_model.keras')`. \n"
     ]
    },
    {
     "name": "stdout",
     "output_type": "stream",
     "text": [
      "\u001b[1m69/69\u001b[0m \u001b[32m━━━━━━━━━━━━━━━━━━━━\u001b[0m\u001b[37m\u001b[0m \u001b[1m6s\u001b[0m 88ms/step - AUC: 0.9756 - Precision: 0.9287 - Recall: 0.9146 - loss: 0.3131 - val_AUC: 0.9830 - val_Precision: 0.6641 - val_Recall: 0.9551 - val_loss: 0.3484\n",
      "Epoch 9/100\n",
      "Epoch 9/100\n",
      "\u001b[1m69/69\u001b[0m \u001b[32m━━━━━━━━━━━━━━━━━━━━\u001b[0m\u001b[37m\u001b[0m \u001b[1m0s\u001b[0m 82ms/step - AUC: 0.9823 - Precision: 0.9447 - Recall: 0.9318 - loss: 0.2847"
     ]
    },
    {
     "name": "stderr",
     "output_type": "stream",
     "text": [
      "WARNING:absl:You are saving your model as an HDF5 file via `model.save()` or `keras.saving.save_model(model)`. This file format is considered legacy. We recommend using instead the native Keras format, e.g. `model.save('my_model.keras')` or `keras.saving.save_model(model, 'my_model.keras')`. \n"
     ]
    },
    {
     "name": "stdout",
     "output_type": "stream",
     "text": [
      "\u001b[1m69/69\u001b[0m \u001b[32m━━━━━━━━━━━━━━━━━━━━\u001b[0m\u001b[37m\u001b[0m \u001b[1m6s\u001b[0m 89ms/step - AUC: 0.9823 - Precision: 0.9448 - Recall: 0.9319 - loss: 0.2846 - val_AUC: 0.9863 - val_Precision: 0.7143 - val_Recall: 0.9551 - val_loss: 0.3146\n",
      "Epoch 10/100\n",
      "Epoch 10/100\n",
      "\u001b[1m69/69\u001b[0m \u001b[32m━━━━━━━━━━━━━━━━━━━━\u001b[0m\u001b[37m\u001b[0m \u001b[1m0s\u001b[0m 81ms/step - AUC: 0.9862 - Precision: 0.9573 - Recall: 0.9435 - loss: 0.2596"
     ]
    },
    {
     "name": "stderr",
     "output_type": "stream",
     "text": [
      "WARNING:absl:You are saving your model as an HDF5 file via `model.save()` or `keras.saving.save_model(model)`. This file format is considered legacy. We recommend using instead the native Keras format, e.g. `model.save('my_model.keras')` or `keras.saving.save_model(model, 'my_model.keras')`. \n"
     ]
    },
    {
     "name": "stdout",
     "output_type": "stream",
     "text": [
      "\u001b[1m69/69\u001b[0m \u001b[32m━━━━━━━━━━━━━━━━━━━━\u001b[0m\u001b[37m\u001b[0m \u001b[1m6s\u001b[0m 88ms/step - AUC: 0.9862 - Precision: 0.9573 - Recall: 0.9435 - loss: 0.2595 - val_AUC: 0.9883 - val_Precision: 0.7611 - val_Recall: 0.9663 - val_loss: 0.2898\n",
      "Epoch 11/100\n",
      "Epoch 11/100\n",
      "\u001b[1m69/69\u001b[0m \u001b[32m━━━━━━━━━━━━━━━━━━━━\u001b[0m\u001b[37m\u001b[0m \u001b[1m0s\u001b[0m 81ms/step - AUC: 0.9884 - Precision: 0.9615 - Recall: 0.9535 - loss: 0.2371"
     ]
    },
    {
     "name": "stderr",
     "output_type": "stream",
     "text": [
      "WARNING:absl:You are saving your model as an HDF5 file via `model.save()` or `keras.saving.save_model(model)`. This file format is considered legacy. We recommend using instead the native Keras format, e.g. `model.save('my_model.keras')` or `keras.saving.save_model(model, 'my_model.keras')`. \n"
     ]
    },
    {
     "name": "stdout",
     "output_type": "stream",
     "text": [
      "\u001b[1m69/69\u001b[0m \u001b[32m━━━━━━━━━━━━━━━━━━━━\u001b[0m\u001b[37m\u001b[0m \u001b[1m6s\u001b[0m 87ms/step - AUC: 0.9884 - Precision: 0.9616 - Recall: 0.9535 - loss: 0.2370 - val_AUC: 0.9891 - val_Precision: 0.7768 - val_Recall: 0.9775 - val_loss: 0.2666\n",
      "Epoch 12/100\n",
      "Epoch 12/100\n",
      "\u001b[1m69/69\u001b[0m \u001b[32m━━━━━━━━━━━━━━━━━━━━\u001b[0m\u001b[37m\u001b[0m \u001b[1m0s\u001b[0m 83ms/step - AUC: 0.9895 - Precision: 0.9657 - Recall: 0.9631 - loss: 0.2185"
     ]
    },
    {
     "name": "stderr",
     "output_type": "stream",
     "text": [
      "WARNING:absl:You are saving your model as an HDF5 file via `model.save()` or `keras.saving.save_model(model)`. This file format is considered legacy. We recommend using instead the native Keras format, e.g. `model.save('my_model.keras')` or `keras.saving.save_model(model, 'my_model.keras')`. \n"
     ]
    },
    {
     "name": "stdout",
     "output_type": "stream",
     "text": [
      "\u001b[1m69/69\u001b[0m \u001b[32m━━━━━━━━━━━━━━━━━━━━\u001b[0m\u001b[37m\u001b[0m \u001b[1m6s\u001b[0m 89ms/step - AUC: 0.9894 - Precision: 0.9657 - Recall: 0.9631 - loss: 0.2185 - val_AUC: 0.9898 - val_Precision: 0.7909 - val_Recall: 0.9775 - val_loss: 0.2513\n",
      "Epoch 13/100\n",
      "Epoch 13/100\n",
      "\u001b[1m69/69\u001b[0m \u001b[32m━━━━━━━━━━━━━━━━━━━━\u001b[0m\u001b[37m\u001b[0m \u001b[1m0s\u001b[0m 82ms/step - AUC: 0.9904 - Precision: 0.9668 - Recall: 0.9678 - loss: 0.2033"
     ]
    },
    {
     "name": "stderr",
     "output_type": "stream",
     "text": [
      "WARNING:absl:You are saving your model as an HDF5 file via `model.save()` or `keras.saving.save_model(model)`. This file format is considered legacy. We recommend using instead the native Keras format, e.g. `model.save('my_model.keras')` or `keras.saving.save_model(model, 'my_model.keras')`. \n"
     ]
    },
    {
     "name": "stdout",
     "output_type": "stream",
     "text": [
      "\u001b[1m69/69\u001b[0m \u001b[32m━━━━━━━━━━━━━━━━━━━━\u001b[0m\u001b[37m\u001b[0m \u001b[1m6s\u001b[0m 88ms/step - AUC: 0.9904 - Precision: 0.9668 - Recall: 0.9678 - loss: 0.2032 - val_AUC: 0.9908 - val_Precision: 0.7909 - val_Recall: 0.9775 - val_loss: 0.2252\n",
      "Epoch 14/100\n",
      "Epoch 14/100\n",
      "\u001b[1m69/69\u001b[0m \u001b[32m━━━━━━━━━━━━━━━━━━━━\u001b[0m\u001b[37m\u001b[0m \u001b[1m0s\u001b[0m 80ms/step - AUC: 0.9909 - Precision: 0.9688 - Recall: 0.9723 - loss: 0.1897"
     ]
    },
    {
     "name": "stderr",
     "output_type": "stream",
     "text": [
      "WARNING:absl:You are saving your model as an HDF5 file via `model.save()` or `keras.saving.save_model(model)`. This file format is considered legacy. We recommend using instead the native Keras format, e.g. `model.save('my_model.keras')` or `keras.saving.save_model(model, 'my_model.keras')`. \n"
     ]
    },
    {
     "name": "stdout",
     "output_type": "stream",
     "text": [
      "\u001b[1m69/69\u001b[0m \u001b[32m━━━━━━━━━━━━━━━━━━━━\u001b[0m\u001b[37m\u001b[0m \u001b[1m6s\u001b[0m 86ms/step - AUC: 0.9909 - Precision: 0.9689 - Recall: 0.9723 - loss: 0.1896 - val_AUC: 0.9911 - val_Precision: 0.7909 - val_Recall: 0.9775 - val_loss: 0.2124\n",
      "Epoch 15/100\n",
      "Epoch 15/100\n",
      "\u001b[1m69/69\u001b[0m \u001b[32m━━━━━━━━━━━━━━━━━━━━\u001b[0m\u001b[37m\u001b[0m \u001b[1m0s\u001b[0m 83ms/step - AUC: 0.9914 - Precision: 0.9691 - Recall: 0.9705 - loss: 0.1772"
     ]
    },
    {
     "name": "stderr",
     "output_type": "stream",
     "text": [
      "WARNING:absl:You are saving your model as an HDF5 file via `model.save()` or `keras.saving.save_model(model)`. This file format is considered legacy. We recommend using instead the native Keras format, e.g. `model.save('my_model.keras')` or `keras.saving.save_model(model, 'my_model.keras')`. \n"
     ]
    },
    {
     "name": "stdout",
     "output_type": "stream",
     "text": [
      "\u001b[1m69/69\u001b[0m \u001b[32m━━━━━━━━━━━━━━━━━━━━\u001b[0m\u001b[37m\u001b[0m \u001b[1m6s\u001b[0m 88ms/step - AUC: 0.9914 - Precision: 0.9691 - Recall: 0.9706 - loss: 0.1772 - val_AUC: 0.9914 - val_Precision: 0.7857 - val_Recall: 0.9888 - val_loss: 0.2034\n",
      "Epoch 16/100\n",
      "Epoch 16/100\n",
      "\u001b[1m69/69\u001b[0m \u001b[32m━━━━━━━━━━━━━━━━━━━━\u001b[0m\u001b[37m\u001b[0m \u001b[1m0s\u001b[0m 82ms/step - AUC: 0.9921 - Precision: 0.9673 - Recall: 0.9759 - loss: 0.1660"
     ]
    },
    {
     "name": "stderr",
     "output_type": "stream",
     "text": [
      "WARNING:absl:You are saving your model as an HDF5 file via `model.save()` or `keras.saving.save_model(model)`. This file format is considered legacy. We recommend using instead the native Keras format, e.g. `model.save('my_model.keras')` or `keras.saving.save_model(model, 'my_model.keras')`. \n"
     ]
    },
    {
     "name": "stdout",
     "output_type": "stream",
     "text": [
      "\u001b[1m69/69\u001b[0m \u001b[32m━━━━━━━━━━━━━━━━━━━━\u001b[0m\u001b[37m\u001b[0m \u001b[1m6s\u001b[0m 87ms/step - AUC: 0.9920 - Precision: 0.9674 - Recall: 0.9759 - loss: 0.1660 - val_AUC: 0.9916 - val_Precision: 0.7857 - val_Recall: 0.9888 - val_loss: 0.1967\n",
      "Epoch 17/100\n",
      "Epoch 17/100\n",
      "\u001b[1m69/69\u001b[0m \u001b[32m━━━━━━━━━━━━━━━━━━━━\u001b[0m\u001b[37m\u001b[0m \u001b[1m0s\u001b[0m 82ms/step - AUC: 0.9925 - Precision: 0.9684 - Recall: 0.9756 - loss: 0.1570"
     ]
    },
    {
     "name": "stderr",
     "output_type": "stream",
     "text": [
      "WARNING:absl:You are saving your model as an HDF5 file via `model.save()` or `keras.saving.save_model(model)`. This file format is considered legacy. We recommend using instead the native Keras format, e.g. `model.save('my_model.keras')` or `keras.saving.save_model(model, 'my_model.keras')`. \n"
     ]
    },
    {
     "name": "stdout",
     "output_type": "stream",
     "text": [
      "\u001b[1m69/69\u001b[0m \u001b[32m━━━━━━━━━━━━━━━━━━━━\u001b[0m\u001b[37m\u001b[0m \u001b[1m6s\u001b[0m 88ms/step - AUC: 0.9924 - Precision: 0.9684 - Recall: 0.9756 - loss: 0.1570 - val_AUC: 0.9919 - val_Precision: 0.7857 - val_Recall: 0.9888 - val_loss: 0.1813\n",
      "Epoch 18/100\n",
      "Epoch 18/100\n",
      "\u001b[1m69/69\u001b[0m \u001b[32m━━━━━━━━━━━━━━━━━━━━\u001b[0m\u001b[37m\u001b[0m \u001b[1m0s\u001b[0m 84ms/step - AUC: 0.9928 - Precision: 0.9685 - Recall: 0.9790 - loss: 0.1477"
     ]
    },
    {
     "name": "stderr",
     "output_type": "stream",
     "text": [
      "WARNING:absl:You are saving your model as an HDF5 file via `model.save()` or `keras.saving.save_model(model)`. This file format is considered legacy. We recommend using instead the native Keras format, e.g. `model.save('my_model.keras')` or `keras.saving.save_model(model, 'my_model.keras')`. \n"
     ]
    },
    {
     "name": "stdout",
     "output_type": "stream",
     "text": [
      "\u001b[1m69/69\u001b[0m \u001b[32m━━━━━━━━━━━━━━━━━━━━\u001b[0m\u001b[37m\u001b[0m \u001b[1m6s\u001b[0m 90ms/step - AUC: 0.9928 - Precision: 0.9686 - Recall: 0.9790 - loss: 0.1477 - val_AUC: 0.9923 - val_Precision: 0.7857 - val_Recall: 0.9888 - val_loss: 0.1775\n",
      "Epoch 19/100\n",
      "Epoch 19/100\n",
      "\u001b[1m69/69\u001b[0m \u001b[32m━━━━━━━━━━━━━━━━━━━━\u001b[0m\u001b[37m\u001b[0m \u001b[1m0s\u001b[0m 82ms/step - AUC: 0.9931 - Precision: 0.9686 - Recall: 0.9798 - loss: 0.1401"
     ]
    },
    {
     "name": "stderr",
     "output_type": "stream",
     "text": [
      "WARNING:absl:You are saving your model as an HDF5 file via `model.save()` or `keras.saving.save_model(model)`. This file format is considered legacy. We recommend using instead the native Keras format, e.g. `model.save('my_model.keras')` or `keras.saving.save_model(model, 'my_model.keras')`. \n"
     ]
    },
    {
     "name": "stdout",
     "output_type": "stream",
     "text": [
      "\u001b[1m69/69\u001b[0m \u001b[32m━━━━━━━━━━━━━━━━━━━━\u001b[0m\u001b[37m\u001b[0m \u001b[1m6s\u001b[0m 88ms/step - AUC: 0.9930 - Precision: 0.9686 - Recall: 0.9799 - loss: 0.1401 - val_AUC: 0.9927 - val_Precision: 0.7928 - val_Recall: 0.9888 - val_loss: 0.1663\n",
      "Epoch 20/100\n",
      "Epoch 20/100\n",
      "\u001b[1m69/69\u001b[0m \u001b[32m━━━━━━━━━━━━━━━━━━━━\u001b[0m\u001b[37m\u001b[0m \u001b[1m0s\u001b[0m 81ms/step - AUC: 0.9933 - Precision: 0.9681 - Recall: 0.9803 - loss: 0.1343"
     ]
    },
    {
     "name": "stderr",
     "output_type": "stream",
     "text": [
      "WARNING:absl:You are saving your model as an HDF5 file via `model.save()` or `keras.saving.save_model(model)`. This file format is considered legacy. We recommend using instead the native Keras format, e.g. `model.save('my_model.keras')` or `keras.saving.save_model(model, 'my_model.keras')`. \n"
     ]
    },
    {
     "name": "stdout",
     "output_type": "stream",
     "text": [
      "\u001b[1m69/69\u001b[0m \u001b[32m━━━━━━━━━━━━━━━━━━━━\u001b[0m\u001b[37m\u001b[0m \u001b[1m6s\u001b[0m 86ms/step - AUC: 0.9933 - Precision: 0.9682 - Recall: 0.9804 - loss: 0.1343 - val_AUC: 0.9929 - val_Precision: 0.7928 - val_Recall: 0.9888 - val_loss: 0.1632\n",
      "Epoch 21/100\n",
      "Epoch 21/100\n",
      "\u001b[1m69/69\u001b[0m \u001b[32m━━━━━━━━━━━━━━━━━━━━\u001b[0m\u001b[37m\u001b[0m \u001b[1m0s\u001b[0m 80ms/step - AUC: 0.9936 - Precision: 0.9695 - Recall: 0.9825 - loss: 0.1275"
     ]
    },
    {
     "name": "stderr",
     "output_type": "stream",
     "text": [
      "WARNING:absl:You are saving your model as an HDF5 file via `model.save()` or `keras.saving.save_model(model)`. This file format is considered legacy. We recommend using instead the native Keras format, e.g. `model.save('my_model.keras')` or `keras.saving.save_model(model, 'my_model.keras')`. \n"
     ]
    },
    {
     "name": "stdout",
     "output_type": "stream",
     "text": [
      "\u001b[1m69/69\u001b[0m \u001b[32m━━━━━━━━━━━━━━━━━━━━\u001b[0m\u001b[37m\u001b[0m \u001b[1m6s\u001b[0m 86ms/step - AUC: 0.9936 - Precision: 0.9695 - Recall: 0.9825 - loss: 0.1275 - val_AUC: 0.9931 - val_Precision: 0.7928 - val_Recall: 0.9888 - val_loss: 0.1551\n",
      "Epoch 22/100\n",
      "Epoch 22/100\n",
      "\u001b[1m69/69\u001b[0m \u001b[32m━━━━━━━━━━━━━━━━━━━━\u001b[0m\u001b[37m\u001b[0m \u001b[1m0s\u001b[0m 81ms/step - AUC: 0.9940 - Precision: 0.9685 - Recall: 0.9834 - loss: 0.1217"
     ]
    },
    {
     "name": "stderr",
     "output_type": "stream",
     "text": [
      "WARNING:absl:You are saving your model as an HDF5 file via `model.save()` or `keras.saving.save_model(model)`. This file format is considered legacy. We recommend using instead the native Keras format, e.g. `model.save('my_model.keras')` or `keras.saving.save_model(model, 'my_model.keras')`. \n"
     ]
    },
    {
     "name": "stdout",
     "output_type": "stream",
     "text": [
      "\u001b[1m69/69\u001b[0m \u001b[32m━━━━━━━━━━━━━━━━━━━━\u001b[0m\u001b[37m\u001b[0m \u001b[1m6s\u001b[0m 87ms/step - AUC: 0.9940 - Precision: 0.9686 - Recall: 0.9834 - loss: 0.1217 - val_AUC: 0.9934 - val_Precision: 0.7928 - val_Recall: 0.9888 - val_loss: 0.1505\n",
      "Epoch 23/100\n",
      "Epoch 23/100\n",
      "\u001b[1m69/69\u001b[0m \u001b[32m━━━━━━━━━━━━━━━━━━━━\u001b[0m\u001b[37m\u001b[0m \u001b[1m0s\u001b[0m 81ms/step - AUC: 0.9941 - Precision: 0.9698 - Recall: 0.9862 - loss: 0.1173"
     ]
    },
    {
     "name": "stderr",
     "output_type": "stream",
     "text": [
      "WARNING:absl:You are saving your model as an HDF5 file via `model.save()` or `keras.saving.save_model(model)`. This file format is considered legacy. We recommend using instead the native Keras format, e.g. `model.save('my_model.keras')` or `keras.saving.save_model(model, 'my_model.keras')`. \n"
     ]
    },
    {
     "name": "stdout",
     "output_type": "stream",
     "text": [
      "\u001b[1m69/69\u001b[0m \u001b[32m━━━━━━━━━━━━━━━━━━━━\u001b[0m\u001b[37m\u001b[0m \u001b[1m6s\u001b[0m 87ms/step - AUC: 0.9941 - Precision: 0.9698 - Recall: 0.9862 - loss: 0.1173 - val_AUC: 0.9936 - val_Precision: 0.7928 - val_Recall: 0.9888 - val_loss: 0.1449\n",
      "Epoch 24/100\n",
      "Epoch 24/100\n",
      "\u001b[1m69/69\u001b[0m \u001b[32m━━━━━━━━━━━━━━━━━━━━\u001b[0m\u001b[37m\u001b[0m \u001b[1m0s\u001b[0m 81ms/step - AUC: 0.9943 - Precision: 0.9669 - Recall: 0.9860 - loss: 0.1126"
     ]
    },
    {
     "name": "stderr",
     "output_type": "stream",
     "text": [
      "WARNING:absl:You are saving your model as an HDF5 file via `model.save()` or `keras.saving.save_model(model)`. This file format is considered legacy. We recommend using instead the native Keras format, e.g. `model.save('my_model.keras')` or `keras.saving.save_model(model, 'my_model.keras')`. \n"
     ]
    },
    {
     "name": "stdout",
     "output_type": "stream",
     "text": [
      "\u001b[1m69/69\u001b[0m \u001b[32m━━━━━━━━━━━━━━━━━━━━\u001b[0m\u001b[37m\u001b[0m \u001b[1m6s\u001b[0m 87ms/step - AUC: 0.9943 - Precision: 0.9670 - Recall: 0.9860 - loss: 0.1126 - val_AUC: 0.9941 - val_Precision: 0.8000 - val_Recall: 0.9888 - val_loss: 0.1401\n",
      "Epoch 25/100\n",
      "Epoch 25/100\n",
      "\u001b[1m69/69\u001b[0m \u001b[32m━━━━━━━━━━━━━━━━━━━━\u001b[0m\u001b[37m\u001b[0m \u001b[1m0s\u001b[0m 82ms/step - AUC: 0.9945 - Precision: 0.9677 - Recall: 0.9902 - loss: 0.1091"
     ]
    },
    {
     "name": "stderr",
     "output_type": "stream",
     "text": [
      "WARNING:absl:You are saving your model as an HDF5 file via `model.save()` or `keras.saving.save_model(model)`. This file format is considered legacy. We recommend using instead the native Keras format, e.g. `model.save('my_model.keras')` or `keras.saving.save_model(model, 'my_model.keras')`. \n"
     ]
    },
    {
     "name": "stdout",
     "output_type": "stream",
     "text": [
      "\u001b[1m69/69\u001b[0m \u001b[32m━━━━━━━━━━━━━━━━━━━━\u001b[0m\u001b[37m\u001b[0m \u001b[1m6s\u001b[0m 88ms/step - AUC: 0.9944 - Precision: 0.9677 - Recall: 0.9902 - loss: 0.1092 - val_AUC: 0.9940 - val_Precision: 0.8000 - val_Recall: 0.9888 - val_loss: 0.1352\n",
      "Epoch 26/100\n",
      "Epoch 26/100\n",
      "\u001b[1m69/69\u001b[0m \u001b[32m━━━━━━━━━━━━━━━━━━━━\u001b[0m\u001b[37m\u001b[0m \u001b[1m0s\u001b[0m 80ms/step - AUC: 0.9947 - Precision: 0.9708 - Recall: 0.9907 - loss: 0.1048"
     ]
    },
    {
     "name": "stderr",
     "output_type": "stream",
     "text": [
      "WARNING:absl:You are saving your model as an HDF5 file via `model.save()` or `keras.saving.save_model(model)`. This file format is considered legacy. We recommend using instead the native Keras format, e.g. `model.save('my_model.keras')` or `keras.saving.save_model(model, 'my_model.keras')`. \n"
     ]
    },
    {
     "name": "stdout",
     "output_type": "stream",
     "text": [
      "\u001b[1m69/69\u001b[0m \u001b[32m━━━━━━━━━━━━━━━━━━━━\u001b[0m\u001b[37m\u001b[0m \u001b[1m6s\u001b[0m 86ms/step - AUC: 0.9947 - Precision: 0.9708 - Recall: 0.9907 - loss: 0.1048 - val_AUC: 0.9942 - val_Precision: 0.8018 - val_Recall: 1.0000 - val_loss: 0.1314\n",
      "Epoch 27/100\n",
      "Epoch 27/100\n",
      "\u001b[1m69/69\u001b[0m \u001b[32m━━━━━━━━━━━━━━━━━━━━\u001b[0m\u001b[37m\u001b[0m \u001b[1m0s\u001b[0m 81ms/step - AUC: 0.9949 - Precision: 0.9710 - Recall: 0.9907 - loss: 0.1013"
     ]
    },
    {
     "name": "stderr",
     "output_type": "stream",
     "text": [
      "WARNING:absl:You are saving your model as an HDF5 file via `model.save()` or `keras.saving.save_model(model)`. This file format is considered legacy. We recommend using instead the native Keras format, e.g. `model.save('my_model.keras')` or `keras.saving.save_model(model, 'my_model.keras')`. \n"
     ]
    },
    {
     "name": "stdout",
     "output_type": "stream",
     "text": [
      "\u001b[1m69/69\u001b[0m \u001b[32m━━━━━━━━━━━━━━━━━━━━\u001b[0m\u001b[37m\u001b[0m \u001b[1m6s\u001b[0m 87ms/step - AUC: 0.9949 - Precision: 0.9710 - Recall: 0.9907 - loss: 0.1013 - val_AUC: 0.9943 - val_Precision: 0.8091 - val_Recall: 1.0000 - val_loss: 0.1258\n",
      "Epoch 28/100\n",
      "Epoch 28/100\n",
      "\u001b[1m69/69\u001b[0m \u001b[32m━━━━━━━━━━━━━━━━━━━━\u001b[0m\u001b[37m\u001b[0m \u001b[1m0s\u001b[0m 81ms/step - AUC: 0.9948 - Precision: 0.9729 - Recall: 0.9906 - loss: 0.0992"
     ]
    },
    {
     "name": "stderr",
     "output_type": "stream",
     "text": [
      "WARNING:absl:You are saving your model as an HDF5 file via `model.save()` or `keras.saving.save_model(model)`. This file format is considered legacy. We recommend using instead the native Keras format, e.g. `model.save('my_model.keras')` or `keras.saving.save_model(model, 'my_model.keras')`. \n"
     ]
    },
    {
     "name": "stdout",
     "output_type": "stream",
     "text": [
      "\u001b[1m69/69\u001b[0m \u001b[32m━━━━━━━━━━━━━━━━━━━━\u001b[0m\u001b[37m\u001b[0m \u001b[1m6s\u001b[0m 87ms/step - AUC: 0.9948 - Precision: 0.9728 - Recall: 0.9906 - loss: 0.0992 - val_AUC: 0.9944 - val_Precision: 0.8091 - val_Recall: 1.0000 - val_loss: 0.1229\n",
      "Epoch 29/100\n",
      "Epoch 29/100\n",
      "\u001b[1m69/69\u001b[0m \u001b[32m━━━━━━━━━━━━━━━━━━━━\u001b[0m\u001b[37m\u001b[0m \u001b[1m0s\u001b[0m 81ms/step - AUC: 0.9950 - Precision: 0.9685 - Recall: 0.9924 - loss: 0.0957"
     ]
    },
    {
     "name": "stderr",
     "output_type": "stream",
     "text": [
      "WARNING:absl:You are saving your model as an HDF5 file via `model.save()` or `keras.saving.save_model(model)`. This file format is considered legacy. We recommend using instead the native Keras format, e.g. `model.save('my_model.keras')` or `keras.saving.save_model(model, 'my_model.keras')`. \n"
     ]
    },
    {
     "name": "stdout",
     "output_type": "stream",
     "text": [
      "\u001b[1m69/69\u001b[0m \u001b[32m━━━━━━━━━━━━━━━━━━━━\u001b[0m\u001b[37m\u001b[0m \u001b[1m6s\u001b[0m 87ms/step - AUC: 0.9950 - Precision: 0.9685 - Recall: 0.9924 - loss: 0.0958 - val_AUC: 0.9946 - val_Precision: 0.8091 - val_Recall: 1.0000 - val_loss: 0.1186\n",
      "Epoch 30/100\n",
      "Epoch 30/100\n",
      "\u001b[1m69/69\u001b[0m \u001b[32m━━━━━━━━━━━━━━━━━━━━\u001b[0m\u001b[37m\u001b[0m \u001b[1m0s\u001b[0m 80ms/step - AUC: 0.9952 - Precision: 0.9682 - Recall: 0.9924 - loss: 0.0932"
     ]
    },
    {
     "name": "stderr",
     "output_type": "stream",
     "text": [
      "WARNING:absl:You are saving your model as an HDF5 file via `model.save()` or `keras.saving.save_model(model)`. This file format is considered legacy. We recommend using instead the native Keras format, e.g. `model.save('my_model.keras')` or `keras.saving.save_model(model, 'my_model.keras')`. \n"
     ]
    },
    {
     "name": "stdout",
     "output_type": "stream",
     "text": [
      "\u001b[1m69/69\u001b[0m \u001b[32m━━━━━━━━━━━━━━━━━━━━\u001b[0m\u001b[37m\u001b[0m \u001b[1m6s\u001b[0m 86ms/step - AUC: 0.9952 - Precision: 0.9682 - Recall: 0.9924 - loss: 0.0932 - val_AUC: 0.9949 - val_Precision: 0.8165 - val_Recall: 1.0000 - val_loss: 0.1164\n",
      "Epoch 31/100\n",
      "Epoch 31/100\n",
      "\u001b[1m69/69\u001b[0m \u001b[32m━━━━━━━━━━━━━━━━━━━━\u001b[0m\u001b[37m\u001b[0m \u001b[1m6s\u001b[0m 85ms/step - AUC: 0.9953 - Precision: 0.9705 - Recall: 0.9917 - loss: 0.0913 - val_AUC: 0.9951 - val_Precision: 0.8165 - val_Recall: 1.0000 - val_loss: 0.1172\n",
      "Epoch 32/100\n",
      "\u001b[1m69/69\u001b[0m \u001b[32m━━━━━━━━━━━━━━━━━━━━\u001b[0m\u001b[37m\u001b[0m \u001b[1m6s\u001b[0m 85ms/step - AUC: 0.9953 - Precision: 0.9705 - Recall: 0.9917 - loss: 0.0913 - val_AUC: 0.9951 - val_Precision: 0.8165 - val_Recall: 1.0000 - val_loss: 0.1172\n",
      "Epoch 32/100\n",
      "\u001b[1m69/69\u001b[0m \u001b[32m━━━━━━━━━━━━━━━━━━━━\u001b[0m\u001b[37m\u001b[0m \u001b[1m0s\u001b[0m 81ms/step - AUC: 0.9954 - Precision: 0.9682 - Recall: 0.9946 - loss: 0.0892"
     ]
    },
    {
     "name": "stderr",
     "output_type": "stream",
     "text": [
      "WARNING:absl:You are saving your model as an HDF5 file via `model.save()` or `keras.saving.save_model(model)`. This file format is considered legacy. We recommend using instead the native Keras format, e.g. `model.save('my_model.keras')` or `keras.saving.save_model(model, 'my_model.keras')`. \n"
     ]
    },
    {
     "name": "stdout",
     "output_type": "stream",
     "text": [
      "\u001b[1m69/69\u001b[0m \u001b[32m━━━━━━━━━━━━━━━━━━━━\u001b[0m\u001b[37m\u001b[0m \u001b[1m6s\u001b[0m 87ms/step - AUC: 0.9954 - Precision: 0.9682 - Recall: 0.9945 - loss: 0.0892 - val_AUC: 0.9952 - val_Precision: 0.8241 - val_Recall: 1.0000 - val_loss: 0.1094\n",
      "Epoch 33/100\n",
      "Epoch 33/100\n",
      "\u001b[1m69/69\u001b[0m \u001b[32m━━━━━━━━━━━━━━━━━━━━\u001b[0m\u001b[37m\u001b[0m \u001b[1m6s\u001b[0m 86ms/step - AUC: 0.9955 - Precision: 0.9701 - Recall: 0.9927 - loss: 0.0871 - val_AUC: 0.9953 - val_Precision: 0.8241 - val_Recall: 1.0000 - val_loss: 0.1104\n",
      "Epoch 34/100\n",
      "\u001b[1m69/69\u001b[0m \u001b[32m━━━━━━━━━━━━━━━━━━━━\u001b[0m\u001b[37m\u001b[0m \u001b[1m6s\u001b[0m 86ms/step - AUC: 0.9955 - Precision: 0.9701 - Recall: 0.9927 - loss: 0.0871 - val_AUC: 0.9953 - val_Precision: 0.8241 - val_Recall: 1.0000 - val_loss: 0.1104\n",
      "Epoch 34/100\n",
      "\u001b[1m69/69\u001b[0m \u001b[32m━━━━━━━━━━━━━━━━━━━━\u001b[0m\u001b[37m\u001b[0m \u001b[1m0s\u001b[0m 80ms/step - AUC: 0.9956 - Precision: 0.9705 - Recall: 0.9943 - loss: 0.0852"
     ]
    },
    {
     "name": "stderr",
     "output_type": "stream",
     "text": [
      "WARNING:absl:You are saving your model as an HDF5 file via `model.save()` or `keras.saving.save_model(model)`. This file format is considered legacy. We recommend using instead the native Keras format, e.g. `model.save('my_model.keras')` or `keras.saving.save_model(model, 'my_model.keras')`. \n"
     ]
    },
    {
     "name": "stdout",
     "output_type": "stream",
     "text": [
      "\u001b[1m69/69\u001b[0m \u001b[32m━━━━━━━━━━━━━━━━━━━━\u001b[0m\u001b[37m\u001b[0m \u001b[1m6s\u001b[0m 86ms/step - AUC: 0.9955 - Precision: 0.9705 - Recall: 0.9942 - loss: 0.0852 - val_AUC: 0.9956 - val_Precision: 0.8318 - val_Recall: 1.0000 - val_loss: 0.1045\n",
      "Epoch 35/100\n",
      "Epoch 35/100\n",
      "\u001b[1m69/69\u001b[0m \u001b[32m━━━━━━━━━━━━━━━━━━━━\u001b[0m\u001b[37m\u001b[0m \u001b[1m0s\u001b[0m 81ms/step - AUC: 0.9956 - Precision: 0.9694 - Recall: 0.9948 - loss: 0.0838"
     ]
    },
    {
     "name": "stderr",
     "output_type": "stream",
     "text": [
      "WARNING:absl:You are saving your model as an HDF5 file via `model.save()` or `keras.saving.save_model(model)`. This file format is considered legacy. We recommend using instead the native Keras format, e.g. `model.save('my_model.keras')` or `keras.saving.save_model(model, 'my_model.keras')`. \n"
     ]
    },
    {
     "name": "stdout",
     "output_type": "stream",
     "text": [
      "\u001b[1m69/69\u001b[0m \u001b[32m━━━━━━━━━━━━━━━━━━━━\u001b[0m\u001b[37m\u001b[0m \u001b[1m6s\u001b[0m 87ms/step - AUC: 0.9956 - Precision: 0.9694 - Recall: 0.9948 - loss: 0.0839 - val_AUC: 0.9956 - val_Precision: 0.8318 - val_Recall: 1.0000 - val_loss: 0.1034\n",
      "Epoch 36/100\n",
      "Epoch 36/100\n",
      "\u001b[1m69/69\u001b[0m \u001b[32m━━━━━━━━━━━━━━━━━━━━\u001b[0m\u001b[37m\u001b[0m \u001b[1m6s\u001b[0m 87ms/step - AUC: 0.9958 - Precision: 0.9734 - Recall: 0.9960 - loss: 0.0812 - val_AUC: 0.9957 - val_Precision: 0.8318 - val_Recall: 1.0000 - val_loss: 0.1046\n",
      "Epoch 37/100\n",
      "\u001b[1m69/69\u001b[0m \u001b[32m━━━━━━━━━━━━━━━━━━━━\u001b[0m\u001b[37m\u001b[0m \u001b[1m6s\u001b[0m 87ms/step - AUC: 0.9958 - Precision: 0.9734 - Recall: 0.9960 - loss: 0.0812 - val_AUC: 0.9957 - val_Precision: 0.8318 - val_Recall: 1.0000 - val_loss: 0.1046\n",
      "Epoch 37/100\n",
      "\u001b[1m69/69\u001b[0m \u001b[32m━━━━━━━━━━━━━━━━━━━━\u001b[0m\u001b[37m\u001b[0m \u001b[1m0s\u001b[0m 81ms/step - AUC: 0.9959 - Precision: 0.9698 - Recall: 0.9963 - loss: 0.0801"
     ]
    },
    {
     "name": "stderr",
     "output_type": "stream",
     "text": [
      "WARNING:absl:You are saving your model as an HDF5 file via `model.save()` or `keras.saving.save_model(model)`. This file format is considered legacy. We recommend using instead the native Keras format, e.g. `model.save('my_model.keras')` or `keras.saving.save_model(model, 'my_model.keras')`. \n"
     ]
    },
    {
     "name": "stdout",
     "output_type": "stream",
     "text": [
      "\u001b[1m69/69\u001b[0m \u001b[32m━━━━━━━━━━━━━━━━━━━━\u001b[0m\u001b[37m\u001b[0m \u001b[1m6s\u001b[0m 87ms/step - AUC: 0.9959 - Precision: 0.9698 - Recall: 0.9963 - loss: 0.0801 - val_AUC: 0.9959 - val_Precision: 0.8396 - val_Recall: 1.0000 - val_loss: 0.0986\n",
      "Epoch 38/100\n",
      "Epoch 38/100\n",
      "\u001b[1m69/69\u001b[0m \u001b[32m━━━━━━━━━━━━━━━━━━━━\u001b[0m\u001b[37m\u001b[0m \u001b[1m6s\u001b[0m 87ms/step - AUC: 0.9959 - Precision: 0.9687 - Recall: 0.9966 - loss: 0.0790 - val_AUC: 0.9960 - val_Precision: 0.8396 - val_Recall: 1.0000 - val_loss: 0.1001\n",
      "Epoch 39/100\n",
      "\u001b[1m69/69\u001b[0m \u001b[32m━━━━━━━━━━━━━━━━━━━━\u001b[0m\u001b[37m\u001b[0m \u001b[1m6s\u001b[0m 87ms/step - AUC: 0.9959 - Precision: 0.9687 - Recall: 0.9966 - loss: 0.0790 - val_AUC: 0.9960 - val_Precision: 0.8396 - val_Recall: 1.0000 - val_loss: 0.1001\n",
      "Epoch 39/100\n",
      "\u001b[1m69/69\u001b[0m \u001b[32m━━━━━━━━━━━━━━━━━━━━\u001b[0m\u001b[37m\u001b[0m \u001b[1m0s\u001b[0m 81ms/step - AUC: 0.9961 - Precision: 0.9685 - Recall: 0.9975 - loss: 0.0769"
     ]
    },
    {
     "name": "stderr",
     "output_type": "stream",
     "text": [
      "WARNING:absl:You are saving your model as an HDF5 file via `model.save()` or `keras.saving.save_model(model)`. This file format is considered legacy. We recommend using instead the native Keras format, e.g. `model.save('my_model.keras')` or `keras.saving.save_model(model, 'my_model.keras')`. \n"
     ]
    },
    {
     "name": "stdout",
     "output_type": "stream",
     "text": [
      "\u001b[1m69/69\u001b[0m \u001b[32m━━━━━━━━━━━━━━━━━━━━\u001b[0m\u001b[37m\u001b[0m \u001b[1m6s\u001b[0m 87ms/step - AUC: 0.9961 - Precision: 0.9685 - Recall: 0.9974 - loss: 0.0769 - val_AUC: 0.9961 - val_Precision: 0.8396 - val_Recall: 1.0000 - val_loss: 0.0966\n",
      "Epoch 40/100\n",
      "Epoch 40/100\n",
      "\u001b[1m69/69\u001b[0m \u001b[32m━━━━━━━━━━━━━━━━━━━━\u001b[0m\u001b[37m\u001b[0m \u001b[1m0s\u001b[0m 81ms/step - AUC: 0.9961 - Precision: 0.9678 - Recall: 0.9966 - loss: 0.0759"
     ]
    },
    {
     "name": "stderr",
     "output_type": "stream",
     "text": [
      "WARNING:absl:You are saving your model as an HDF5 file via `model.save()` or `keras.saving.save_model(model)`. This file format is considered legacy. We recommend using instead the native Keras format, e.g. `model.save('my_model.keras')` or `keras.saving.save_model(model, 'my_model.keras')`. \n"
     ]
    },
    {
     "name": "stdout",
     "output_type": "stream",
     "text": [
      "\u001b[1m69/69\u001b[0m \u001b[32m━━━━━━━━━━━━━━━━━━━━\u001b[0m\u001b[37m\u001b[0m \u001b[1m6s\u001b[0m 87ms/step - AUC: 0.9961 - Precision: 0.9679 - Recall: 0.9965 - loss: 0.0760 - val_AUC: 0.9962 - val_Precision: 0.8318 - val_Recall: 1.0000 - val_loss: 0.0960\n",
      "Epoch 41/100\n",
      "Epoch 41/100\n",
      "\u001b[1m69/69\u001b[0m \u001b[32m━━━━━━━━━━━━━━━━━━━━\u001b[0m\u001b[37m\u001b[0m \u001b[1m0s\u001b[0m 81ms/step - AUC: 0.9962 - Precision: 0.9713 - Recall: 0.9975 - loss: 0.0748"
     ]
    },
    {
     "name": "stderr",
     "output_type": "stream",
     "text": [
      "WARNING:absl:You are saving your model as an HDF5 file via `model.save()` or `keras.saving.save_model(model)`. This file format is considered legacy. We recommend using instead the native Keras format, e.g. `model.save('my_model.keras')` or `keras.saving.save_model(model, 'my_model.keras')`. \n"
     ]
    },
    {
     "name": "stdout",
     "output_type": "stream",
     "text": [
      "\u001b[1m69/69\u001b[0m \u001b[32m━━━━━━━━━━━━━━━━━━━━\u001b[0m\u001b[37m\u001b[0m \u001b[1m6s\u001b[0m 87ms/step - AUC: 0.9962 - Precision: 0.9713 - Recall: 0.9975 - loss: 0.0748 - val_AUC: 0.9963 - val_Precision: 0.8318 - val_Recall: 1.0000 - val_loss: 0.0959\n",
      "Epoch 42/100\n",
      "Epoch 42/100\n",
      "\u001b[1m69/69\u001b[0m \u001b[32m━━━━━━━━━━━━━━━━━━━━\u001b[0m\u001b[37m\u001b[0m \u001b[1m0s\u001b[0m 81ms/step - AUC: 0.9962 - Precision: 0.9707 - Recall: 0.9975 - loss: 0.0739"
     ]
    },
    {
     "name": "stderr",
     "output_type": "stream",
     "text": [
      "WARNING:absl:You are saving your model as an HDF5 file via `model.save()` or `keras.saving.save_model(model)`. This file format is considered legacy. We recommend using instead the native Keras format, e.g. `model.save('my_model.keras')` or `keras.saving.save_model(model, 'my_model.keras')`. \n"
     ]
    },
    {
     "name": "stdout",
     "output_type": "stream",
     "text": [
      "\u001b[1m69/69\u001b[0m \u001b[32m━━━━━━━━━━━━━━━━━━━━\u001b[0m\u001b[37m\u001b[0m \u001b[1m6s\u001b[0m 87ms/step - AUC: 0.9962 - Precision: 0.9707 - Recall: 0.9975 - loss: 0.0740 - val_AUC: 0.9964 - val_Precision: 0.8396 - val_Recall: 1.0000 - val_loss: 0.0910\n",
      "Epoch 43/100\n",
      "Epoch 43/100\n",
      "\u001b[1m69/69\u001b[0m \u001b[32m━━━━━━━━━━━━━━━━━━━━\u001b[0m\u001b[37m\u001b[0m \u001b[1m0s\u001b[0m 82ms/step - AUC: 0.9962 - Precision: 0.9714 - Recall: 0.9975 - loss: 0.0730"
     ]
    },
    {
     "name": "stderr",
     "output_type": "stream",
     "text": [
      "WARNING:absl:You are saving your model as an HDF5 file via `model.save()` or `keras.saving.save_model(model)`. This file format is considered legacy. We recommend using instead the native Keras format, e.g. `model.save('my_model.keras')` or `keras.saving.save_model(model, 'my_model.keras')`. \n"
     ]
    },
    {
     "name": "stdout",
     "output_type": "stream",
     "text": [
      "\u001b[1m69/69\u001b[0m \u001b[32m━━━━━━━━━━━━━━━━━━━━\u001b[0m\u001b[37m\u001b[0m \u001b[1m6s\u001b[0m 88ms/step - AUC: 0.9962 - Precision: 0.9714 - Recall: 0.9975 - loss: 0.0730 - val_AUC: 0.9965 - val_Precision: 0.8318 - val_Recall: 1.0000 - val_loss: 0.0906\n",
      "Epoch 44/100\n",
      "Epoch 44/100\n",
      "\u001b[1m69/69\u001b[0m \u001b[32m━━━━━━━━━━━━━━━━━━━━\u001b[0m\u001b[37m\u001b[0m \u001b[1m6s\u001b[0m 85ms/step - AUC: 0.9963 - Precision: 0.9702 - Recall: 0.9975 - loss: 0.0721 - val_AUC: 0.9965 - val_Precision: 0.8241 - val_Recall: 1.0000 - val_loss: 0.0929\n",
      "Epoch 45/100\n",
      "\u001b[1m69/69\u001b[0m \u001b[32m━━━━━━━━━━━━━━━━━━━━\u001b[0m\u001b[37m\u001b[0m \u001b[1m6s\u001b[0m 85ms/step - AUC: 0.9963 - Precision: 0.9702 - Recall: 0.9975 - loss: 0.0721 - val_AUC: 0.9965 - val_Precision: 0.8241 - val_Recall: 1.0000 - val_loss: 0.0929\n",
      "Epoch 45/100\n",
      "\u001b[1m69/69\u001b[0m \u001b[32m━━━━━━━━━━━━━━━━━━━━\u001b[0m\u001b[37m\u001b[0m \u001b[1m6s\u001b[0m 90ms/step - AUC: 0.9964 - Precision: 0.9673 - Recall: 0.9974 - loss: 0.0709 - val_AUC: 0.9967 - val_Precision: 0.8241 - val_Recall: 1.0000 - val_loss: 0.0915\n",
      "Epoch 46/100\n",
      "\u001b[1m69/69\u001b[0m \u001b[32m━━━━━━━━━━━━━━━━━━━━\u001b[0m\u001b[37m\u001b[0m \u001b[1m6s\u001b[0m 90ms/step - AUC: 0.9964 - Precision: 0.9673 - Recall: 0.9974 - loss: 0.0709 - val_AUC: 0.9967 - val_Precision: 0.8241 - val_Recall: 1.0000 - val_loss: 0.0915\n",
      "Epoch 46/100\n",
      "\u001b[1m69/69\u001b[0m \u001b[32m━━━━━━━━━━━━━━━━━━━━\u001b[0m\u001b[37m\u001b[0m \u001b[1m6s\u001b[0m 88ms/step - AUC: 0.9964 - Precision: 0.9686 - Recall: 0.9975 - loss: 0.0701 - val_AUC: 0.9969 - val_Precision: 0.8241 - val_Recall: 1.0000 - val_loss: 0.0908\n",
      "Epoch 47/100\n",
      "\u001b[1m69/69\u001b[0m \u001b[32m━━━━━━━━━━━━━━━━━━━━\u001b[0m\u001b[37m\u001b[0m \u001b[1m6s\u001b[0m 88ms/step - AUC: 0.9964 - Precision: 0.9686 - Recall: 0.9975 - loss: 0.0701 - val_AUC: 0.9969 - val_Precision: 0.8241 - val_Recall: 1.0000 - val_loss: 0.0908\n",
      "Epoch 47/100\n",
      "\u001b[1m69/69\u001b[0m \u001b[32m━━━━━━━━━━━━━━━━━━━━\u001b[0m\u001b[37m\u001b[0m \u001b[1m0s\u001b[0m 83ms/step - AUC: 0.9966 - Precision: 0.9678 - Recall: 0.9972 - loss: 0.0686"
     ]
    },
    {
     "name": "stderr",
     "output_type": "stream",
     "text": [
      "WARNING:absl:You are saving your model as an HDF5 file via `model.save()` or `keras.saving.save_model(model)`. This file format is considered legacy. We recommend using instead the native Keras format, e.g. `model.save('my_model.keras')` or `keras.saving.save_model(model, 'my_model.keras')`. \n"
     ]
    },
    {
     "name": "stdout",
     "output_type": "stream",
     "text": [
      "\u001b[1m69/69\u001b[0m \u001b[32m━━━━━━━━━━━━━━━━━━━━\u001b[0m\u001b[37m\u001b[0m \u001b[1m6s\u001b[0m 89ms/step - AUC: 0.9966 - Precision: 0.9678 - Recall: 0.9971 - loss: 0.0687 - val_AUC: 0.9970 - val_Precision: 0.8318 - val_Recall: 1.0000 - val_loss: 0.0880\n",
      "Epoch 48/100\n",
      "Epoch 48/100\n",
      "\u001b[1m69/69\u001b[0m \u001b[32m━━━━━━━━━━━━━━━━━━━━\u001b[0m\u001b[37m\u001b[0m \u001b[1m0s\u001b[0m 84ms/step - AUC: 0.9967 - Precision: 0.9677 - Recall: 0.9975 - loss: 0.0683"
     ]
    },
    {
     "name": "stderr",
     "output_type": "stream",
     "text": [
      "WARNING:absl:You are saving your model as an HDF5 file via `model.save()` or `keras.saving.save_model(model)`. This file format is considered legacy. We recommend using instead the native Keras format, e.g. `model.save('my_model.keras')` or `keras.saving.save_model(model, 'my_model.keras')`. \n"
     ]
    },
    {
     "name": "stdout",
     "output_type": "stream",
     "text": [
      "\u001b[1m69/69\u001b[0m \u001b[32m━━━━━━━━━━━━━━━━━━━━\u001b[0m\u001b[37m\u001b[0m \u001b[1m6s\u001b[0m 91ms/step - AUC: 0.9967 - Precision: 0.9677 - Recall: 0.9974 - loss: 0.0683 - val_AUC: 0.9971 - val_Precision: 0.8318 - val_Recall: 1.0000 - val_loss: 0.0867\n",
      "Epoch 49/100\n",
      "Epoch 49/100\n",
      "\u001b[1m69/69\u001b[0m \u001b[32m━━━━━━━━━━━━━━━━━━━━\u001b[0m\u001b[37m\u001b[0m \u001b[1m0s\u001b[0m 80ms/step - AUC: 0.9967 - Precision: 0.9709 - Recall: 0.9976 - loss: 0.0665"
     ]
    },
    {
     "name": "stderr",
     "output_type": "stream",
     "text": [
      "WARNING:absl:You are saving your model as an HDF5 file via `model.save()` or `keras.saving.save_model(model)`. This file format is considered legacy. We recommend using instead the native Keras format, e.g. `model.save('my_model.keras')` or `keras.saving.save_model(model, 'my_model.keras')`. \n"
     ]
    },
    {
     "name": "stdout",
     "output_type": "stream",
     "text": [
      "\u001b[1m69/69\u001b[0m \u001b[32m━━━━━━━━━━━━━━━━━━━━\u001b[0m\u001b[37m\u001b[0m \u001b[1m6s\u001b[0m 86ms/step - AUC: 0.9967 - Precision: 0.9709 - Recall: 0.9976 - loss: 0.0666 - val_AUC: 0.9972 - val_Precision: 0.8318 - val_Recall: 1.0000 - val_loss: 0.0832\n",
      "Epoch 50/100\n",
      "Epoch 50/100\n",
      "\u001b[1m69/69\u001b[0m \u001b[32m━━━━━━━━━━━━━━━━━━━━\u001b[0m\u001b[37m\u001b[0m \u001b[1m6s\u001b[0m 86ms/step - AUC: 0.9966 - Precision: 0.9693 - Recall: 0.9978 - loss: 0.0668 - val_AUC: 0.9972 - val_Precision: 0.8318 - val_Recall: 1.0000 - val_loss: 0.0834\n",
      "Epoch 51/100\n",
      "\u001b[1m69/69\u001b[0m \u001b[32m━━━━━━━━━━━━━━━━━━━━\u001b[0m\u001b[37m\u001b[0m \u001b[1m6s\u001b[0m 86ms/step - AUC: 0.9966 - Precision: 0.9693 - Recall: 0.9978 - loss: 0.0668 - val_AUC: 0.9972 - val_Precision: 0.8318 - val_Recall: 1.0000 - val_loss: 0.0834\n",
      "Epoch 51/100\n",
      "\u001b[1m69/69\u001b[0m \u001b[32m━━━━━━━━━━━━━━━━━━━━\u001b[0m\u001b[37m\u001b[0m \u001b[1m0s\u001b[0m 83ms/step - AUC: 0.9967 - Precision: 0.9701 - Recall: 0.9982 - loss: 0.0655"
     ]
    },
    {
     "name": "stderr",
     "output_type": "stream",
     "text": [
      "WARNING:absl:You are saving your model as an HDF5 file via `model.save()` or `keras.saving.save_model(model)`. This file format is considered legacy. We recommend using instead the native Keras format, e.g. `model.save('my_model.keras')` or `keras.saving.save_model(model, 'my_model.keras')`. \n"
     ]
    },
    {
     "name": "stdout",
     "output_type": "stream",
     "text": [
      "\u001b[1m69/69\u001b[0m \u001b[32m━━━━━━━━━━━━━━━━━━━━\u001b[0m\u001b[37m\u001b[0m \u001b[1m6s\u001b[0m 88ms/step - AUC: 0.9967 - Precision: 0.9701 - Recall: 0.9982 - loss: 0.0655 - val_AUC: 0.9974 - val_Precision: 0.8318 - val_Recall: 1.0000 - val_loss: 0.0791\n",
      "Epoch 52/100\n",
      "Epoch 52/100\n",
      "\u001b[1m69/69\u001b[0m \u001b[32m━━━━━━━━━━━━━━━━━━━━\u001b[0m\u001b[37m\u001b[0m \u001b[1m6s\u001b[0m 89ms/step - AUC: 0.9966 - Precision: 0.9701 - Recall: 0.9980 - loss: 0.0657 - val_AUC: 0.9974 - val_Precision: 0.8318 - val_Recall: 1.0000 - val_loss: 0.0832\n",
      "Epoch 53/100\n",
      "\u001b[1m69/69\u001b[0m \u001b[32m━━━━━━━━━━━━━━━━━━━━\u001b[0m\u001b[37m\u001b[0m \u001b[1m6s\u001b[0m 89ms/step - AUC: 0.9966 - Precision: 0.9701 - Recall: 0.9980 - loss: 0.0657 - val_AUC: 0.9974 - val_Precision: 0.8318 - val_Recall: 1.0000 - val_loss: 0.0832\n",
      "Epoch 53/100\n",
      "\u001b[1m69/69\u001b[0m \u001b[32m━━━━━━━━━━━━━━━━━━━━\u001b[0m\u001b[37m\u001b[0m \u001b[1m6s\u001b[0m 87ms/step - AUC: 0.9968 - Precision: 0.9691 - Recall: 0.9976 - loss: 0.0647 - val_AUC: 0.9974 - val_Precision: 0.8318 - val_Recall: 1.0000 - val_loss: 0.0836\n",
      "Epoch 54/100\n",
      "\u001b[1m69/69\u001b[0m \u001b[32m━━━━━━━━━━━━━━━━━━━━\u001b[0m\u001b[37m\u001b[0m \u001b[1m6s\u001b[0m 87ms/step - AUC: 0.9968 - Precision: 0.9691 - Recall: 0.9976 - loss: 0.0647 - val_AUC: 0.9974 - val_Precision: 0.8318 - val_Recall: 1.0000 - val_loss: 0.0836\n",
      "Epoch 54/100\n",
      "\u001b[1m69/69\u001b[0m \u001b[32m━━━━━━━━━━━━━━━━━━━━\u001b[0m\u001b[37m\u001b[0m \u001b[1m0s\u001b[0m 85ms/step - AUC: 0.9968 - Precision: 0.9718 - Recall: 0.9980 - loss: 0.0639"
     ]
    },
    {
     "name": "stderr",
     "output_type": "stream",
     "text": [
      "WARNING:absl:You are saving your model as an HDF5 file via `model.save()` or `keras.saving.save_model(model)`. This file format is considered legacy. We recommend using instead the native Keras format, e.g. `model.save('my_model.keras')` or `keras.saving.save_model(model, 'my_model.keras')`. \n"
     ]
    },
    {
     "name": "stdout",
     "output_type": "stream",
     "text": [
      "\u001b[1m69/69\u001b[0m \u001b[32m━━━━━━━━━━━━━━━━━━━━\u001b[0m\u001b[37m\u001b[0m \u001b[1m6s\u001b[0m 91ms/step - AUC: 0.9968 - Precision: 0.9718 - Recall: 0.9980 - loss: 0.0640 - val_AUC: 0.9974 - val_Precision: 0.8318 - val_Recall: 1.0000 - val_loss: 0.0778\n",
      "Epoch 55/100\n",
      "Epoch 55/100\n",
      "\u001b[1m69/69\u001b[0m \u001b[32m━━━━━━━━━━━━━━━━━━━━\u001b[0m\u001b[37m\u001b[0m \u001b[1m6s\u001b[0m 88ms/step - AUC: 0.9967 - Precision: 0.9701 - Recall: 0.9980 - loss: 0.0636 - val_AUC: 0.9975 - val_Precision: 0.8318 - val_Recall: 1.0000 - val_loss: 0.0811\n",
      "Epoch 56/100\n",
      "\u001b[1m69/69\u001b[0m \u001b[32m━━━━━━━━━━━━━━━━━━━━\u001b[0m\u001b[37m\u001b[0m \u001b[1m6s\u001b[0m 88ms/step - AUC: 0.9967 - Precision: 0.9701 - Recall: 0.9980 - loss: 0.0636 - val_AUC: 0.9975 - val_Precision: 0.8318 - val_Recall: 1.0000 - val_loss: 0.0811\n",
      "Epoch 56/100\n",
      "\u001b[1m69/69\u001b[0m \u001b[32m━━━━━━━━━━━━━━━━━━━━\u001b[0m\u001b[37m\u001b[0m \u001b[1m6s\u001b[0m 86ms/step - AUC: 0.9969 - Precision: 0.9713 - Recall: 0.9977 - loss: 0.0627 - val_AUC: 0.9975 - val_Precision: 0.8318 - val_Recall: 1.0000 - val_loss: 0.0784\n",
      "Epoch 57/100\n",
      "\u001b[1m69/69\u001b[0m \u001b[32m━━━━━━━━━━━━━━━━━━━━\u001b[0m\u001b[37m\u001b[0m \u001b[1m6s\u001b[0m 86ms/step - AUC: 0.9969 - Precision: 0.9713 - Recall: 0.9977 - loss: 0.0627 - val_AUC: 0.9975 - val_Precision: 0.8318 - val_Recall: 1.0000 - val_loss: 0.0784\n",
      "Epoch 57/100\n",
      "\u001b[1m69/69\u001b[0m \u001b[32m━━━━━━━━━━━━━━━━━━━━\u001b[0m\u001b[37m\u001b[0m \u001b[1m0s\u001b[0m 81ms/step - AUC: 0.9968 - Precision: 0.9711 - Recall: 0.9977 - loss: 0.0619"
     ]
    },
    {
     "name": "stderr",
     "output_type": "stream",
     "text": [
      "WARNING:absl:You are saving your model as an HDF5 file via `model.save()` or `keras.saving.save_model(model)`. This file format is considered legacy. We recommend using instead the native Keras format, e.g. `model.save('my_model.keras')` or `keras.saving.save_model(model, 'my_model.keras')`. \n"
     ]
    },
    {
     "name": "stdout",
     "output_type": "stream",
     "text": [
      "\u001b[1m69/69\u001b[0m \u001b[32m━━━━━━━━━━━━━━━━━━━━\u001b[0m\u001b[37m\u001b[0m \u001b[1m6s\u001b[0m 88ms/step - AUC: 0.9968 - Precision: 0.9711 - Recall: 0.9977 - loss: 0.0620 - val_AUC: 0.9975 - val_Precision: 0.8318 - val_Recall: 1.0000 - val_loss: 0.0765\n",
      "Epoch 58/100\n",
      "Epoch 58/100\n",
      "\u001b[1m69/69\u001b[0m \u001b[32m━━━━━━━━━━━━━━━━━━━━\u001b[0m\u001b[37m\u001b[0m \u001b[1m6s\u001b[0m 87ms/step - AUC: 0.9969 - Precision: 0.9726 - Recall: 0.9982 - loss: 0.0610 - val_AUC: 0.9976 - val_Precision: 0.8318 - val_Recall: 1.0000 - val_loss: 0.0777\n",
      "Epoch 59/100\n",
      "\u001b[1m69/69\u001b[0m \u001b[32m━━━━━━━━━━━━━━━━━━━━\u001b[0m\u001b[37m\u001b[0m \u001b[1m6s\u001b[0m 87ms/step - AUC: 0.9969 - Precision: 0.9726 - Recall: 0.9982 - loss: 0.0610 - val_AUC: 0.9976 - val_Precision: 0.8318 - val_Recall: 1.0000 - val_loss: 0.0777\n",
      "Epoch 59/100\n",
      "\u001b[1m69/69\u001b[0m \u001b[32m━━━━━━━━━━━━━━━━━━━━\u001b[0m\u001b[37m\u001b[0m \u001b[1m6s\u001b[0m 87ms/step - AUC: 0.9969 - Precision: 0.9708 - Recall: 0.9984 - loss: 0.0607 - val_AUC: 0.9976 - val_Precision: 0.8318 - val_Recall: 1.0000 - val_loss: 0.0776\n",
      "Epoch 60/100\n",
      "\u001b[1m69/69\u001b[0m \u001b[32m━━━━━━━━━━━━━━━━━━━━\u001b[0m\u001b[37m\u001b[0m \u001b[1m6s\u001b[0m 87ms/step - AUC: 0.9969 - Precision: 0.9708 - Recall: 0.9984 - loss: 0.0607 - val_AUC: 0.9976 - val_Precision: 0.8318 - val_Recall: 1.0000 - val_loss: 0.0776\n",
      "Epoch 60/100\n",
      "\u001b[1m69/69\u001b[0m \u001b[32m━━━━━━━━━━━━━━━━━━━━\u001b[0m\u001b[37m\u001b[0m \u001b[1m6s\u001b[0m 85ms/step - AUC: 0.9969 - Precision: 0.9698 - Recall: 0.9983 - loss: 0.0609 - val_AUC: 0.9976 - val_Precision: 0.8318 - val_Recall: 1.0000 - val_loss: 0.0783\n",
      "Epoch 61/100\n",
      "\u001b[1m69/69\u001b[0m \u001b[32m━━━━━━━━━━━━━━━━━━━━\u001b[0m\u001b[37m\u001b[0m \u001b[1m6s\u001b[0m 85ms/step - AUC: 0.9969 - Precision: 0.9698 - Recall: 0.9983 - loss: 0.0609 - val_AUC: 0.9976 - val_Precision: 0.8318 - val_Recall: 1.0000 - val_loss: 0.0783\n",
      "Epoch 61/100\n",
      "\u001b[1m69/69\u001b[0m \u001b[32m━━━━━━━━━━━━━━━━━━━━\u001b[0m\u001b[37m\u001b[0m \u001b[1m0s\u001b[0m 82ms/step - AUC: 0.9970 - Precision: 0.9721 - Recall: 0.9981 - loss: 0.0594"
     ]
    },
    {
     "name": "stderr",
     "output_type": "stream",
     "text": [
      "WARNING:absl:You are saving your model as an HDF5 file via `model.save()` or `keras.saving.save_model(model)`. This file format is considered legacy. We recommend using instead the native Keras format, e.g. `model.save('my_model.keras')` or `keras.saving.save_model(model, 'my_model.keras')`. \n"
     ]
    },
    {
     "name": "stdout",
     "output_type": "stream",
     "text": [
      "\u001b[1m69/69\u001b[0m \u001b[32m━━━━━━━━━━━━━━━━━━━━\u001b[0m\u001b[37m\u001b[0m \u001b[1m6s\u001b[0m 90ms/step - AUC: 0.9970 - Precision: 0.9721 - Recall: 0.9981 - loss: 0.0595 - val_AUC: 0.9977 - val_Precision: 0.8318 - val_Recall: 1.0000 - val_loss: 0.0761\n",
      "Epoch 62/100\n",
      "Epoch 62/100\n",
      "\u001b[1m69/69\u001b[0m \u001b[32m━━━━━━━━━━━━━━━━━━━━\u001b[0m\u001b[37m\u001b[0m \u001b[1m0s\u001b[0m 80ms/step - AUC: 0.9970 - Precision: 0.9732 - Recall: 0.9979 - loss: 0.0594"
     ]
    },
    {
     "name": "stderr",
     "output_type": "stream",
     "text": [
      "WARNING:absl:You are saving your model as an HDF5 file via `model.save()` or `keras.saving.save_model(model)`. This file format is considered legacy. We recommend using instead the native Keras format, e.g. `model.save('my_model.keras')` or `keras.saving.save_model(model, 'my_model.keras')`. \n"
     ]
    },
    {
     "name": "stdout",
     "output_type": "stream",
     "text": [
      "\u001b[1m69/69\u001b[0m \u001b[32m━━━━━━━━━━━━━━━━━━━━\u001b[0m\u001b[37m\u001b[0m \u001b[1m6s\u001b[0m 86ms/step - AUC: 0.9970 - Precision: 0.9732 - Recall: 0.9979 - loss: 0.0594 - val_AUC: 0.9977 - val_Precision: 0.8318 - val_Recall: 1.0000 - val_loss: 0.0750\n",
      "Epoch 63/100\n",
      "Epoch 63/100\n",
      "\u001b[1m69/69\u001b[0m \u001b[32m━━━━━━━━━━━━━━━━━━━━\u001b[0m\u001b[37m\u001b[0m \u001b[1m0s\u001b[0m 80ms/step - AUC: 0.9969 - Precision: 0.9728 - Recall: 0.9983 - loss: 0.0589"
     ]
    },
    {
     "name": "stderr",
     "output_type": "stream",
     "text": [
      "WARNING:absl:You are saving your model as an HDF5 file via `model.save()` or `keras.saving.save_model(model)`. This file format is considered legacy. We recommend using instead the native Keras format, e.g. `model.save('my_model.keras')` or `keras.saving.save_model(model, 'my_model.keras')`. \n"
     ]
    },
    {
     "name": "stdout",
     "output_type": "stream",
     "text": [
      "\u001b[1m69/69\u001b[0m \u001b[32m━━━━━━━━━━━━━━━━━━━━\u001b[0m\u001b[37m\u001b[0m \u001b[1m6s\u001b[0m 86ms/step - AUC: 0.9969 - Precision: 0.9728 - Recall: 0.9983 - loss: 0.0590 - val_AUC: 0.9977 - val_Precision: 0.8318 - val_Recall: 1.0000 - val_loss: 0.0745\n",
      "Epoch 64/100\n",
      "Epoch 64/100\n",
      "\u001b[1m69/69\u001b[0m \u001b[32m━━━━━━━━━━━━━━━━━━━━\u001b[0m\u001b[37m\u001b[0m \u001b[1m6s\u001b[0m 86ms/step - AUC: 0.9971 - Precision: 0.9734 - Recall: 0.9984 - loss: 0.0579 - val_AUC: 0.9977 - val_Precision: 0.8318 - val_Recall: 1.0000 - val_loss: 0.0756\n",
      "Epoch 65/100\n",
      "\u001b[1m69/69\u001b[0m \u001b[32m━━━━━━━━━━━━━━━━━━━━\u001b[0m\u001b[37m\u001b[0m \u001b[1m6s\u001b[0m 86ms/step - AUC: 0.9971 - Precision: 0.9734 - Recall: 0.9984 - loss: 0.0579 - val_AUC: 0.9977 - val_Precision: 0.8318 - val_Recall: 1.0000 - val_loss: 0.0756\n",
      "Epoch 65/100\n",
      "\u001b[1m69/69\u001b[0m \u001b[32m━━━━━━━━━━━━━━━━━━━━\u001b[0m\u001b[37m\u001b[0m \u001b[1m0s\u001b[0m 84ms/step - AUC: 0.9972 - Precision: 0.9723 - Recall: 0.9986 - loss: 0.0574"
     ]
    },
    {
     "name": "stderr",
     "output_type": "stream",
     "text": [
      "WARNING:absl:You are saving your model as an HDF5 file via `model.save()` or `keras.saving.save_model(model)`. This file format is considered legacy. We recommend using instead the native Keras format, e.g. `model.save('my_model.keras')` or `keras.saving.save_model(model, 'my_model.keras')`. \n"
     ]
    },
    {
     "name": "stdout",
     "output_type": "stream",
     "text": [
      "\u001b[1m69/69\u001b[0m \u001b[32m━━━━━━━━━━━━━━━━━━━━\u001b[0m\u001b[37m\u001b[0m \u001b[1m6s\u001b[0m 89ms/step - AUC: 0.9972 - Precision: 0.9723 - Recall: 0.9986 - loss: 0.0575 - val_AUC: 0.9978 - val_Precision: 0.8318 - val_Recall: 1.0000 - val_loss: 0.0741\n",
      "Epoch 66/100\n",
      "Epoch 66/100\n",
      "\u001b[1m69/69\u001b[0m \u001b[32m━━━━━━━━━━━━━━━━━━━━\u001b[0m\u001b[37m\u001b[0m \u001b[1m6s\u001b[0m 87ms/step - AUC: 0.9971 - Precision: 0.9730 - Recall: 0.9986 - loss: 0.0573 - val_AUC: 0.9978 - val_Precision: 0.8318 - val_Recall: 1.0000 - val_loss: 0.0757\n",
      "Epoch 67/100\n",
      "\u001b[1m69/69\u001b[0m \u001b[32m━━━━━━━━━━━━━━━━━━━━\u001b[0m\u001b[37m\u001b[0m \u001b[1m6s\u001b[0m 87ms/step - AUC: 0.9971 - Precision: 0.9730 - Recall: 0.9986 - loss: 0.0573 - val_AUC: 0.9978 - val_Precision: 0.8318 - val_Recall: 1.0000 - val_loss: 0.0757\n",
      "Epoch 67/100\n",
      "\u001b[1m69/69\u001b[0m \u001b[32m━━━━━━━━━━━━━━━━━━━━\u001b[0m\u001b[37m\u001b[0m \u001b[1m0s\u001b[0m 80ms/step - AUC: 0.9971 - Precision: 0.9767 - Recall: 0.9987 - loss: 0.0567"
     ]
    },
    {
     "name": "stderr",
     "output_type": "stream",
     "text": [
      "WARNING:absl:You are saving your model as an HDF5 file via `model.save()` or `keras.saving.save_model(model)`. This file format is considered legacy. We recommend using instead the native Keras format, e.g. `model.save('my_model.keras')` or `keras.saving.save_model(model, 'my_model.keras')`. \n"
     ]
    },
    {
     "name": "stdout",
     "output_type": "stream",
     "text": [
      "\u001b[1m69/69\u001b[0m \u001b[32m━━━━━━━━━━━━━━━━━━━━\u001b[0m\u001b[37m\u001b[0m \u001b[1m6s\u001b[0m 86ms/step - AUC: 0.9971 - Precision: 0.9767 - Recall: 0.9987 - loss: 0.0568 - val_AUC: 0.9978 - val_Precision: 0.8318 - val_Recall: 1.0000 - val_loss: 0.0720\n",
      "Epoch 68/100\n",
      "Epoch 68/100\n",
      "\u001b[1m69/69\u001b[0m \u001b[32m━━━━━━━━━━━━━━━━━━━━\u001b[0m\u001b[37m\u001b[0m \u001b[1m6s\u001b[0m 85ms/step - AUC: 0.9972 - Precision: 0.9730 - Recall: 0.9987 - loss: 0.0566 - val_AUC: 0.9978 - val_Precision: 0.8318 - val_Recall: 1.0000 - val_loss: 0.0733\n",
      "Epoch 69/100\n",
      "\u001b[1m69/69\u001b[0m \u001b[32m━━━━━━━━━━━━━━━━━━━━\u001b[0m\u001b[37m\u001b[0m \u001b[1m6s\u001b[0m 85ms/step - AUC: 0.9972 - Precision: 0.9730 - Recall: 0.9987 - loss: 0.0566 - val_AUC: 0.9978 - val_Precision: 0.8318 - val_Recall: 1.0000 - val_loss: 0.0733\n",
      "Epoch 69/100\n",
      "\u001b[1m69/69\u001b[0m \u001b[32m━━━━━━━━━━━━━━━━━━━━\u001b[0m\u001b[37m\u001b[0m \u001b[1m6s\u001b[0m 84ms/step - AUC: 0.9972 - Precision: 0.9734 - Recall: 0.9992 - loss: 0.0559 - val_AUC: 0.9979 - val_Precision: 0.8241 - val_Recall: 1.0000 - val_loss: 0.0749\n",
      "Epoch 70/100\n",
      "\u001b[1m69/69\u001b[0m \u001b[32m━━━━━━━━━━━━━━━━━━━━\u001b[0m\u001b[37m\u001b[0m \u001b[1m6s\u001b[0m 84ms/step - AUC: 0.9972 - Precision: 0.9734 - Recall: 0.9992 - loss: 0.0559 - val_AUC: 0.9979 - val_Precision: 0.8241 - val_Recall: 1.0000 - val_loss: 0.0749\n",
      "Epoch 70/100\n",
      "\u001b[1m69/69\u001b[0m \u001b[32m━━━━━━━━━━━━━━━━━━━━\u001b[0m\u001b[37m\u001b[0m \u001b[1m6s\u001b[0m 84ms/step - AUC: 0.9972 - Precision: 0.9729 - Recall: 0.9987 - loss: 0.0553 - val_AUC: 0.9979 - val_Precision: 0.8241 - val_Recall: 1.0000 - val_loss: 0.0740\n",
      "Epoch 71/100\n",
      "\u001b[1m69/69\u001b[0m \u001b[32m━━━━━━━━━━━━━━━━━━━━\u001b[0m\u001b[37m\u001b[0m \u001b[1m6s\u001b[0m 84ms/step - AUC: 0.9972 - Precision: 0.9729 - Recall: 0.9987 - loss: 0.0553 - val_AUC: 0.9979 - val_Precision: 0.8241 - val_Recall: 1.0000 - val_loss: 0.0740\n",
      "Epoch 71/100\n",
      "\u001b[1m69/69\u001b[0m \u001b[32m━━━━━━━━━━━━━━━━━━━━\u001b[0m\u001b[37m\u001b[0m \u001b[1m6s\u001b[0m 84ms/step - AUC: 0.9972 - Precision: 0.9748 - Recall: 0.9987 - loss: 0.0551 - val_AUC: 0.9979 - val_Precision: 0.8165 - val_Recall: 1.0000 - val_loss: 0.0778\n",
      "Epoch 72/100\n",
      "\u001b[1m69/69\u001b[0m \u001b[32m━━━━━━━━━━━━━━━━━━━━\u001b[0m\u001b[37m\u001b[0m \u001b[1m6s\u001b[0m 84ms/step - AUC: 0.9972 - Precision: 0.9748 - Recall: 0.9987 - loss: 0.0551 - val_AUC: 0.9979 - val_Precision: 0.8165 - val_Recall: 1.0000 - val_loss: 0.0778\n",
      "Epoch 72/100\n",
      "\u001b[1m69/69\u001b[0m \u001b[32m━━━━━━━━━━━━━━━━━━━━\u001b[0m\u001b[37m\u001b[0m \u001b[1m0s\u001b[0m 81ms/step - AUC: 0.9974 - Precision: 0.9713 - Recall: 0.9989 - loss: 0.0542"
     ]
    },
    {
     "name": "stderr",
     "output_type": "stream",
     "text": [
      "WARNING:absl:You are saving your model as an HDF5 file via `model.save()` or `keras.saving.save_model(model)`. This file format is considered legacy. We recommend using instead the native Keras format, e.g. `model.save('my_model.keras')` or `keras.saving.save_model(model, 'my_model.keras')`. \n"
     ]
    },
    {
     "name": "stdout",
     "output_type": "stream",
     "text": [
      "\u001b[1m69/69\u001b[0m \u001b[32m━━━━━━━━━━━━━━━━━━━━\u001b[0m\u001b[37m\u001b[0m \u001b[1m6s\u001b[0m 88ms/step - AUC: 0.9974 - Precision: 0.9714 - Recall: 0.9989 - loss: 0.0543 - val_AUC: 0.9979 - val_Precision: 0.8396 - val_Recall: 1.0000 - val_loss: 0.0703\n",
      "Epoch 73/100\n",
      "Epoch 73/100\n",
      "\u001b[1m69/69\u001b[0m \u001b[32m━━━━━━━━━━━━━━━━━━━━\u001b[0m\u001b[37m\u001b[0m \u001b[1m6s\u001b[0m 87ms/step - AUC: 0.9972 - Precision: 0.9741 - Recall: 0.9978 - loss: 0.0548 - val_AUC: 0.9979 - val_Precision: 0.8318 - val_Recall: 1.0000 - val_loss: 0.0723\n",
      "Epoch 74/100\n",
      "\u001b[1m69/69\u001b[0m \u001b[32m━━━━━━━━━━━━━━━━━━━━\u001b[0m\u001b[37m\u001b[0m \u001b[1m6s\u001b[0m 87ms/step - AUC: 0.9972 - Precision: 0.9741 - Recall: 0.9978 - loss: 0.0548 - val_AUC: 0.9979 - val_Precision: 0.8318 - val_Recall: 1.0000 - val_loss: 0.0723\n",
      "Epoch 74/100\n",
      "\u001b[1m69/69\u001b[0m \u001b[32m━━━━━━━━━━━━━━━━━━━━\u001b[0m\u001b[37m\u001b[0m \u001b[1m6s\u001b[0m 87ms/step - AUC: 0.9971 - Precision: 0.9768 - Recall: 0.9986 - loss: 0.0550 - val_AUC: 0.9980 - val_Precision: 0.8165 - val_Recall: 1.0000 - val_loss: 0.0736\n",
      "Epoch 75/100\n",
      "\u001b[1m69/69\u001b[0m \u001b[32m━━━━━━━━━━━━━━━━━━━━\u001b[0m\u001b[37m\u001b[0m \u001b[1m6s\u001b[0m 87ms/step - AUC: 0.9971 - Precision: 0.9768 - Recall: 0.9986 - loss: 0.0550 - val_AUC: 0.9980 - val_Precision: 0.8165 - val_Recall: 1.0000 - val_loss: 0.0736\n",
      "Epoch 75/100\n",
      "\u001b[1m69/69\u001b[0m \u001b[32m━━━━━━━━━━━━━━━━━━━━\u001b[0m\u001b[37m\u001b[0m \u001b[1m0s\u001b[0m 82ms/step - AUC: 0.9972 - Precision: 0.9718 - Recall: 0.9982 - loss: 0.0543"
     ]
    },
    {
     "name": "stderr",
     "output_type": "stream",
     "text": [
      "WARNING:absl:You are saving your model as an HDF5 file via `model.save()` or `keras.saving.save_model(model)`. This file format is considered legacy. We recommend using instead the native Keras format, e.g. `model.save('my_model.keras')` or `keras.saving.save_model(model, 'my_model.keras')`. \n"
     ]
    },
    {
     "name": "stdout",
     "output_type": "stream",
     "text": [
      "\u001b[1m69/69\u001b[0m \u001b[32m━━━━━━━━━━━━━━━━━━━━\u001b[0m\u001b[37m\u001b[0m \u001b[1m6s\u001b[0m 89ms/step - AUC: 0.9972 - Precision: 0.9718 - Recall: 0.9982 - loss: 0.0544 - val_AUC: 0.9980 - val_Precision: 0.8396 - val_Recall: 1.0000 - val_loss: 0.0693\n",
      "Epoch 76/100\n",
      "Epoch 76/100\n",
      "\u001b[1m69/69\u001b[0m \u001b[32m━━━━━━━━━━━━━━━━━━━━\u001b[0m\u001b[37m\u001b[0m \u001b[1m6s\u001b[0m 86ms/step - AUC: 0.9972 - Precision: 0.9748 - Recall: 0.9986 - loss: 0.0536 - val_AUC: 0.9980 - val_Precision: 0.8165 - val_Recall: 1.0000 - val_loss: 0.0726\n",
      "Epoch 77/100\n",
      "\u001b[1m69/69\u001b[0m \u001b[32m━━━━━━━━━━━━━━━━━━━━\u001b[0m\u001b[37m\u001b[0m \u001b[1m6s\u001b[0m 86ms/step - AUC: 0.9972 - Precision: 0.9748 - Recall: 0.9986 - loss: 0.0536 - val_AUC: 0.9980 - val_Precision: 0.8165 - val_Recall: 1.0000 - val_loss: 0.0726\n",
      "Epoch 77/100\n",
      "\u001b[1m69/69\u001b[0m \u001b[32m━━━━━━━━━━━━━━━━━━━━\u001b[0m\u001b[37m\u001b[0m \u001b[1m6s\u001b[0m 86ms/step - AUC: 0.9972 - Precision: 0.9763 - Recall: 0.9989 - loss: 0.0534 - val_AUC: 0.9980 - val_Precision: 0.8318 - val_Recall: 1.0000 - val_loss: 0.0711\n",
      "Epoch 78/100\n",
      "\u001b[1m69/69\u001b[0m \u001b[32m━━━━━━━━━━━━━━━━━━━━\u001b[0m\u001b[37m\u001b[0m \u001b[1m6s\u001b[0m 86ms/step - AUC: 0.9972 - Precision: 0.9763 - Recall: 0.9989 - loss: 0.0534 - val_AUC: 0.9980 - val_Precision: 0.8318 - val_Recall: 1.0000 - val_loss: 0.0711\n",
      "Epoch 78/100\n",
      "\u001b[1m69/69\u001b[0m \u001b[32m━━━━━━━━━━━━━━━━━━━━\u001b[0m\u001b[37m\u001b[0m \u001b[1m6s\u001b[0m 86ms/step - AUC: 0.9973 - Precision: 0.9752 - Recall: 0.9988 - loss: 0.0528 - val_AUC: 0.9980 - val_Precision: 0.8165 - val_Recall: 1.0000 - val_loss: 0.0718\n",
      "Epoch 79/100\n",
      "\u001b[1m69/69\u001b[0m \u001b[32m━━━━━━━━━━━━━━━━━━━━\u001b[0m\u001b[37m\u001b[0m \u001b[1m6s\u001b[0m 86ms/step - AUC: 0.9973 - Precision: 0.9752 - Recall: 0.9988 - loss: 0.0528 - val_AUC: 0.9980 - val_Precision: 0.8165 - val_Recall: 1.0000 - val_loss: 0.0718\n",
      "Epoch 79/100\n",
      "\u001b[1m69/69\u001b[0m \u001b[32m━━━━━━━━━━━━━━━━━━━━\u001b[0m\u001b[37m\u001b[0m \u001b[1m6s\u001b[0m 86ms/step - AUC: 0.9972 - Precision: 0.9743 - Recall: 0.9991 - loss: 0.0530 - val_AUC: 0.9980 - val_Precision: 0.8165 - val_Recall: 1.0000 - val_loss: 0.0729\n",
      "Epoch 80/100\n",
      "\u001b[1m69/69\u001b[0m \u001b[32m━━━━━━━━━━━━━━━━━━━━\u001b[0m\u001b[37m\u001b[0m \u001b[1m6s\u001b[0m 86ms/step - AUC: 0.9972 - Precision: 0.9743 - Recall: 0.9991 - loss: 0.0530 - val_AUC: 0.9980 - val_Precision: 0.8165 - val_Recall: 1.0000 - val_loss: 0.0729\n",
      "Epoch 80/100\n",
      "\u001b[1m69/69\u001b[0m \u001b[32m━━━━━━━━━━━━━━━━━━━━\u001b[0m\u001b[37m\u001b[0m \u001b[1m0s\u001b[0m 81ms/step - AUC: 0.9973 - Precision: 0.9748 - Recall: 0.9984 - loss: 0.0525"
     ]
    },
    {
     "name": "stderr",
     "output_type": "stream",
     "text": [
      "WARNING:absl:You are saving your model as an HDF5 file via `model.save()` or `keras.saving.save_model(model)`. This file format is considered legacy. We recommend using instead the native Keras format, e.g. `model.save('my_model.keras')` or `keras.saving.save_model(model, 'my_model.keras')`. \n"
     ]
    },
    {
     "name": "stdout",
     "output_type": "stream",
     "text": [
      "\u001b[1m69/69\u001b[0m \u001b[32m━━━━━━━━━━━━━━━━━━━━\u001b[0m\u001b[37m\u001b[0m \u001b[1m6s\u001b[0m 88ms/step - AUC: 0.9973 - Precision: 0.9748 - Recall: 0.9984 - loss: 0.0526 - val_AUC: 0.9980 - val_Precision: 0.8396 - val_Recall: 1.0000 - val_loss: 0.0690\n",
      "Epoch 81/100\n",
      "Epoch 81/100\n",
      "\u001b[1m69/69\u001b[0m \u001b[32m━━━━━━━━━━━━━━━━━━━━\u001b[0m\u001b[37m\u001b[0m \u001b[1m6s\u001b[0m 85ms/step - AUC: 0.9973 - Precision: 0.9748 - Recall: 0.9987 - loss: 0.0522 - val_AUC: 0.9980 - val_Precision: 0.8165 - val_Recall: 1.0000 - val_loss: 0.0739\n",
      "Epoch 82/100\n",
      "\u001b[1m69/69\u001b[0m \u001b[32m━━━━━━━━━━━━━━━━━━━━\u001b[0m\u001b[37m\u001b[0m \u001b[1m6s\u001b[0m 85ms/step - AUC: 0.9973 - Precision: 0.9748 - Recall: 0.9987 - loss: 0.0522 - val_AUC: 0.9980 - val_Precision: 0.8165 - val_Recall: 1.0000 - val_loss: 0.0739\n",
      "Epoch 82/100\n",
      "\u001b[1m69/69\u001b[0m \u001b[32m━━━━━━━━━━━━━━━━━━━━\u001b[0m\u001b[37m\u001b[0m \u001b[1m6s\u001b[0m 84ms/step - AUC: 0.9973 - Precision: 0.9752 - Recall: 0.9989 - loss: 0.0518 - val_AUC: 0.9980 - val_Precision: 0.8165 - val_Recall: 1.0000 - val_loss: 0.0712\n",
      "Epoch 83/100\n",
      "\u001b[1m69/69\u001b[0m \u001b[32m━━━━━━━━━━━━━━━━━━━━\u001b[0m\u001b[37m\u001b[0m \u001b[1m6s\u001b[0m 84ms/step - AUC: 0.9973 - Precision: 0.9752 - Recall: 0.9989 - loss: 0.0518 - val_AUC: 0.9980 - val_Precision: 0.8165 - val_Recall: 1.0000 - val_loss: 0.0712\n",
      "Epoch 83/100\n",
      "\u001b[1m69/69\u001b[0m \u001b[32m━━━━━━━━━━━━━━━━━━━━\u001b[0m\u001b[37m\u001b[0m \u001b[1m6s\u001b[0m 85ms/step - AUC: 0.9974 - Precision: 0.9744 - Recall: 0.9992 - loss: 0.0512 - val_AUC: 0.9980 - val_Precision: 0.8165 - val_Recall: 1.0000 - val_loss: 0.0699\n",
      "Epoch 84/100\n",
      "\u001b[1m69/69\u001b[0m \u001b[32m━━━━━━━━━━━━━━━━━━━━\u001b[0m\u001b[37m\u001b[0m \u001b[1m6s\u001b[0m 85ms/step - AUC: 0.9974 - Precision: 0.9744 - Recall: 0.9992 - loss: 0.0512 - val_AUC: 0.9980 - val_Precision: 0.8165 - val_Recall: 1.0000 - val_loss: 0.0699\n",
      "Epoch 84/100\n",
      "\u001b[1m69/69\u001b[0m \u001b[32m━━━━━━━━━━━━━━━━━━━━\u001b[0m\u001b[37m\u001b[0m \u001b[1m6s\u001b[0m 85ms/step - AUC: 0.9974 - Precision: 0.9750 - Recall: 0.9992 - loss: 0.0504 - val_AUC: 0.9981 - val_Precision: 0.8165 - val_Recall: 1.0000 - val_loss: 0.0705\n",
      "Epoch 85/100\n",
      "\u001b[1m69/69\u001b[0m \u001b[32m━━━━━━━━━━━━━━━━━━━━\u001b[0m\u001b[37m\u001b[0m \u001b[1m6s\u001b[0m 85ms/step - AUC: 0.9974 - Precision: 0.9750 - Recall: 0.9992 - loss: 0.0504 - val_AUC: 0.9981 - val_Precision: 0.8165 - val_Recall: 1.0000 - val_loss: 0.0705\n",
      "Epoch 85/100\n",
      "\u001b[1m69/69\u001b[0m \u001b[32m━━━━━━━━━━━━━━━━━━━━\u001b[0m\u001b[37m\u001b[0m \u001b[1m6s\u001b[0m 86ms/step - AUC: 0.9974 - Precision: 0.9758 - Recall: 0.9987 - loss: 0.0502 - val_AUC: 0.9981 - val_Precision: 0.8165 - val_Recall: 1.0000 - val_loss: 0.0725\n",
      "Epoch 86/100\n",
      "\u001b[1m69/69\u001b[0m \u001b[32m━━━━━━━━━━━━━━━━━━━━\u001b[0m\u001b[37m\u001b[0m \u001b[1m6s\u001b[0m 86ms/step - AUC: 0.9974 - Precision: 0.9758 - Recall: 0.9987 - loss: 0.0502 - val_AUC: 0.9981 - val_Precision: 0.8165 - val_Recall: 1.0000 - val_loss: 0.0725\n",
      "Epoch 86/100\n",
      "\u001b[1m69/69\u001b[0m \u001b[32m━━━━━━━━━━━━━━━━━━━━\u001b[0m\u001b[37m\u001b[0m \u001b[1m6s\u001b[0m 84ms/step - AUC: 0.9974 - Precision: 0.9732 - Recall: 0.9992 - loss: 0.0501 - val_AUC: 0.9980 - val_Precision: 0.8318 - val_Recall: 1.0000 - val_loss: 0.0692\n",
      "Epoch 87/100\n",
      "\u001b[1m69/69\u001b[0m \u001b[32m━━━━━━━━━━━━━━━━━━━━\u001b[0m\u001b[37m\u001b[0m \u001b[1m6s\u001b[0m 84ms/step - AUC: 0.9974 - Precision: 0.9732 - Recall: 0.9992 - loss: 0.0501 - val_AUC: 0.9980 - val_Precision: 0.8318 - val_Recall: 1.0000 - val_loss: 0.0692\n",
      "Epoch 87/100\n",
      "\u001b[1m69/69\u001b[0m \u001b[32m━━━━━━━━━━━━━━━━━━━━\u001b[0m\u001b[37m\u001b[0m \u001b[1m6s\u001b[0m 85ms/step - AUC: 0.9973 - Precision: 0.9771 - Recall: 0.9989 - loss: 0.0500 - val_AUC: 0.9980 - val_Precision: 0.8241 - val_Recall: 1.0000 - val_loss: 0.0705\n",
      "Epoch 88/100\n",
      "\u001b[1m69/69\u001b[0m \u001b[32m━━━━━━━━━━━━━━━━━━━━\u001b[0m\u001b[37m\u001b[0m \u001b[1m6s\u001b[0m 85ms/step - AUC: 0.9973 - Precision: 0.9771 - Recall: 0.9989 - loss: 0.0500 - val_AUC: 0.9980 - val_Precision: 0.8241 - val_Recall: 1.0000 - val_loss: 0.0705\n",
      "Epoch 88/100\n",
      "\u001b[1m69/69\u001b[0m \u001b[32m━━━━━━━━━━━━━━━━━━━━\u001b[0m\u001b[37m\u001b[0m \u001b[1m6s\u001b[0m 87ms/step - AUC: 0.9974 - Precision: 0.9763 - Recall: 0.9989 - loss: 0.0495 - val_AUC: 0.9980 - val_Precision: 0.8165 - val_Recall: 1.0000 - val_loss: 0.0700\n",
      "Epoch 89/100\n",
      "\u001b[1m69/69\u001b[0m \u001b[32m━━━━━━━━━━━━━━━━━━━━\u001b[0m\u001b[37m\u001b[0m \u001b[1m6s\u001b[0m 87ms/step - AUC: 0.9974 - Precision: 0.9763 - Recall: 0.9989 - loss: 0.0495 - val_AUC: 0.9980 - val_Precision: 0.8165 - val_Recall: 1.0000 - val_loss: 0.0700\n",
      "Epoch 89/100\n",
      "\u001b[1m69/69\u001b[0m \u001b[32m━━━━━━━━━━━━━━━━━━━━\u001b[0m\u001b[37m\u001b[0m \u001b[1m6s\u001b[0m 86ms/step - AUC: 0.9973 - Precision: 0.9752 - Recall: 0.9987 - loss: 0.0496 - val_AUC: 0.9981 - val_Precision: 0.8165 - val_Recall: 1.0000 - val_loss: 0.0730\n",
      "Epoch 90/100\n",
      "\u001b[1m69/69\u001b[0m \u001b[32m━━━━━━━━━━━━━━━━━━━━\u001b[0m\u001b[37m\u001b[0m \u001b[1m6s\u001b[0m 86ms/step - AUC: 0.9973 - Precision: 0.9752 - Recall: 0.9987 - loss: 0.0496 - val_AUC: 0.9981 - val_Precision: 0.8165 - val_Recall: 1.0000 - val_loss: 0.0730\n",
      "Epoch 90/100\n",
      "\u001b[1m69/69\u001b[0m \u001b[32m━━━━━━━━━━━━━━━━━━━━\u001b[0m\u001b[37m\u001b[0m \u001b[1m6s\u001b[0m 87ms/step - AUC: 0.9973 - Precision: 0.9754 - Recall: 0.9987 - loss: 0.0495 - val_AUC: 0.9981 - val_Precision: 0.8165 - val_Recall: 1.0000 - val_loss: 0.0706\n",
      "\u001b[1m69/69\u001b[0m \u001b[32m━━━━━━━━━━━━━━━━━━━━\u001b[0m\u001b[37m\u001b[0m \u001b[1m6s\u001b[0m 87ms/step - AUC: 0.9973 - Precision: 0.9754 - Recall: 0.9987 - loss: 0.0495 - val_AUC: 0.9981 - val_Precision: 0.8165 - val_Recall: 1.0000 - val_loss: 0.0706\n"
     ]
    }
   ],
   "source": [
    "callbacks = [\n",
    "    EarlyStopping(monitor='val_loss', patience=10, restore_best_weights=True),\n",
    "    ModelCheckpoint('cnn_lstm_best_model.h5', save_best_only=True)\n",
    "]\n",
    "\n",
    "history = model.fit(\n",
    "    [X_train, static_train], y_train,\n",
    "    validation_data=([X_val, static_val], y_val),\n",
    "    epochs=100,\n",
    "    batch_size=64,\n",
    "    callbacks=callbacks\n",
    ")"
   ]
  },
  {
   "cell_type": "markdown",
   "id": "9079c191",
   "metadata": {},
   "source": [
    "## 4. Model Training\n",
    "\n",
    "Use early stopping and model checkpointing to prevent overfitting. Monitor validation loss and AUC."
   ]
  },
  {
   "cell_type": "code",
   "execution_count": null,
   "id": "b0d43677",
   "metadata": {},
   "outputs": [
    {
     "name": "stdout",
     "output_type": "stream",
     "text": [
      "Epoch 1/100\n",
      "\u001b[1m69/69\u001b[0m \u001b[32m━━━━━━━━━━━━━━━━━━━━\u001b[0m\u001b[37m\u001b[0m \u001b[1m0s\u001b[0m 80ms/step - AUC: 0.9973 - Precision: 0.9781 - Recall: 0.9989 - loss: 0.0509"
     ]
    },
    {
     "name": "stderr",
     "output_type": "stream",
     "text": [
      "WARNING:absl:You are saving your model as an HDF5 file via `model.save()` or `keras.saving.save_model(model)`. This file format is considered legacy. We recommend using instead the native Keras format, e.g. `model.save('my_model.keras')` or `keras.saving.save_model(model, 'my_model.keras')`. \n"
     ]
    },
    {
     "name": "stdout",
     "output_type": "stream",
     "text": [
      "\u001b[1m69/69\u001b[0m \u001b[32m━━━━━━━━━━━━━━━━━━━━\u001b[0m\u001b[37m\u001b[0m \u001b[1m6s\u001b[0m 87ms/step - AUC: 0.9973 - Precision: 0.9781 - Recall: 0.9989 - loss: 0.0510 - val_AUC: 0.9980 - val_Precision: 0.8396 - val_Recall: 1.0000 - val_loss: 0.0689\n",
      "Epoch 2/100\n",
      "Epoch 2/100\n",
      "\u001b[1m69/69\u001b[0m \u001b[32m━━━━━━━━━━━━━━━━━━━━\u001b[0m\u001b[37m\u001b[0m \u001b[1m6s\u001b[0m 86ms/step - AUC: 0.9973 - Precision: 0.9771 - Recall: 0.9991 - loss: 0.0511 - val_AUC: 0.9980 - val_Precision: 0.8318 - val_Recall: 1.0000 - val_loss: 0.0692\n",
      "Epoch 3/100\n",
      "\u001b[1m69/69\u001b[0m \u001b[32m━━━━━━━━━━━━━━━━━━━━\u001b[0m\u001b[37m\u001b[0m \u001b[1m6s\u001b[0m 86ms/step - AUC: 0.9973 - Precision: 0.9771 - Recall: 0.9991 - loss: 0.0511 - val_AUC: 0.9980 - val_Precision: 0.8318 - val_Recall: 1.0000 - val_loss: 0.0692\n",
      "Epoch 3/100\n",
      "\u001b[1m69/69\u001b[0m \u001b[32m━━━━━━━━━━━━━━━━━━━━\u001b[0m\u001b[37m\u001b[0m \u001b[1m0s\u001b[0m 81ms/step - AUC: 0.9973 - Precision: 0.9758 - Recall: 0.9982 - loss: 0.0509"
     ]
    },
    {
     "name": "stderr",
     "output_type": "stream",
     "text": [
      "WARNING:absl:You are saving your model as an HDF5 file via `model.save()` or `keras.saving.save_model(model)`. This file format is considered legacy. We recommend using instead the native Keras format, e.g. `model.save('my_model.keras')` or `keras.saving.save_model(model, 'my_model.keras')`. \n"
     ]
    },
    {
     "name": "stdout",
     "output_type": "stream",
     "text": [
      "\u001b[1m69/69\u001b[0m \u001b[32m━━━━━━━━━━━━━━━━━━━━\u001b[0m\u001b[37m\u001b[0m \u001b[1m6s\u001b[0m 87ms/step - AUC: 0.9973 - Precision: 0.9758 - Recall: 0.9982 - loss: 0.0509 - val_AUC: 0.9980 - val_Precision: 0.8476 - val_Recall: 1.0000 - val_loss: 0.0679\n",
      "Epoch 4/100\n",
      "Epoch 4/100\n",
      "\u001b[1m69/69\u001b[0m \u001b[32m━━━━━━━━━━━━━━━━━━━━\u001b[0m\u001b[37m\u001b[0m \u001b[1m6s\u001b[0m 84ms/step - AUC: 0.9973 - Precision: 0.9771 - Recall: 0.9984 - loss: 0.0509 - val_AUC: 0.9980 - val_Precision: 0.8318 - val_Recall: 1.0000 - val_loss: 0.0694\n",
      "Epoch 5/100\n",
      "\u001b[1m69/69\u001b[0m \u001b[32m━━━━━━━━━━━━━━━━━━━━\u001b[0m\u001b[37m\u001b[0m \u001b[1m6s\u001b[0m 84ms/step - AUC: 0.9973 - Precision: 0.9771 - Recall: 0.9984 - loss: 0.0509 - val_AUC: 0.9980 - val_Precision: 0.8318 - val_Recall: 1.0000 - val_loss: 0.0694\n",
      "Epoch 5/100\n",
      "\u001b[1m69/69\u001b[0m \u001b[32m━━━━━━━━━━━━━━━━━━━━\u001b[0m\u001b[37m\u001b[0m \u001b[1m6s\u001b[0m 86ms/step - AUC: 0.9974 - Precision: 0.9797 - Recall: 0.9992 - loss: 0.0503 - val_AUC: 0.9980 - val_Precision: 0.8165 - val_Recall: 1.0000 - val_loss: 0.0704\n",
      "Epoch 6/100\n",
      "\u001b[1m69/69\u001b[0m \u001b[32m━━━━━━━━━━━━━━━━━━━━\u001b[0m\u001b[37m\u001b[0m \u001b[1m6s\u001b[0m 86ms/step - AUC: 0.9974 - Precision: 0.9797 - Recall: 0.9992 - loss: 0.0503 - val_AUC: 0.9980 - val_Precision: 0.8165 - val_Recall: 1.0000 - val_loss: 0.0704\n",
      "Epoch 6/100\n",
      "\u001b[1m69/69\u001b[0m \u001b[32m━━━━━━━━━━━━━━━━━━━━\u001b[0m\u001b[37m\u001b[0m \u001b[1m6s\u001b[0m 84ms/step - AUC: 0.9974 - Precision: 0.9771 - Recall: 0.9987 - loss: 0.0497 - val_AUC: 0.9980 - val_Precision: 0.8318 - val_Recall: 1.0000 - val_loss: 0.0685\n",
      "Epoch 7/100\n",
      "\u001b[1m69/69\u001b[0m \u001b[32m━━━━━━━━━━━━━━━━━━━━\u001b[0m\u001b[37m\u001b[0m \u001b[1m6s\u001b[0m 84ms/step - AUC: 0.9974 - Precision: 0.9771 - Recall: 0.9987 - loss: 0.0497 - val_AUC: 0.9980 - val_Precision: 0.8318 - val_Recall: 1.0000 - val_loss: 0.0685\n",
      "Epoch 7/100\n",
      "\u001b[1m69/69\u001b[0m \u001b[32m━━━━━━━━━━━━━━━━━━━━\u001b[0m\u001b[37m\u001b[0m \u001b[1m6s\u001b[0m 85ms/step - AUC: 0.9973 - Precision: 0.9751 - Recall: 0.9987 - loss: 0.0499 - val_AUC: 0.9981 - val_Precision: 0.8165 - val_Recall: 1.0000 - val_loss: 0.0701\n",
      "Epoch 8/100\n",
      "\u001b[1m69/69\u001b[0m \u001b[32m━━━━━━━━━━━━━━━━━━━━\u001b[0m\u001b[37m\u001b[0m \u001b[1m6s\u001b[0m 85ms/step - AUC: 0.9973 - Precision: 0.9751 - Recall: 0.9987 - loss: 0.0499 - val_AUC: 0.9981 - val_Precision: 0.8165 - val_Recall: 1.0000 - val_loss: 0.0701\n",
      "Epoch 8/100\n",
      "\u001b[1m69/69\u001b[0m \u001b[32m━━━━━━━━━━━━━━━━━━━━\u001b[0m\u001b[37m\u001b[0m \u001b[1m6s\u001b[0m 81ms/step - AUC: 0.9974 - Precision: 0.9732 - Recall: 0.9989 - loss: 0.0495 - val_AUC: 0.9981 - val_Precision: 0.8396 - val_Recall: 1.0000 - val_loss: 0.0687\n",
      "Epoch 9/100\n",
      "\u001b[1m69/69\u001b[0m \u001b[32m━━━━━━━━━━━━━━━━━━━━\u001b[0m\u001b[37m\u001b[0m \u001b[1m6s\u001b[0m 81ms/step - AUC: 0.9974 - Precision: 0.9732 - Recall: 0.9989 - loss: 0.0495 - val_AUC: 0.9981 - val_Precision: 0.8396 - val_Recall: 1.0000 - val_loss: 0.0687\n",
      "Epoch 9/100\n",
      "\u001b[1m69/69\u001b[0m \u001b[32m━━━━━━━━━━━━━━━━━━━━\u001b[0m\u001b[37m\u001b[0m \u001b[1m0s\u001b[0m 76ms/step - AUC: 0.9974 - Precision: 0.9765 - Recall: 0.9989 - loss: 0.0495"
     ]
    },
    {
     "name": "stderr",
     "output_type": "stream",
     "text": [
      "WARNING:absl:You are saving your model as an HDF5 file via `model.save()` or `keras.saving.save_model(model)`. This file format is considered legacy. We recommend using instead the native Keras format, e.g. `model.save('my_model.keras')` or `keras.saving.save_model(model, 'my_model.keras')`. \n"
     ]
    },
    {
     "name": "stdout",
     "output_type": "stream",
     "text": [
      "\u001b[1m69/69\u001b[0m \u001b[32m━━━━━━━━━━━━━━━━━━━━\u001b[0m\u001b[37m\u001b[0m \u001b[1m6s\u001b[0m 82ms/step - AUC: 0.9974 - Precision: 0.9765 - Recall: 0.9989 - loss: 0.0496 - val_AUC: 0.9981 - val_Precision: 0.8476 - val_Recall: 1.0000 - val_loss: 0.0658\n",
      "Epoch 10/100\n",
      "Epoch 10/100\n",
      "\u001b[1m69/69\u001b[0m \u001b[32m━━━━━━━━━━━━━━━━━━━━\u001b[0m\u001b[37m\u001b[0m \u001b[1m8s\u001b[0m 109ms/step - AUC: 0.9974 - Precision: 0.9761 - Recall: 0.9989 - loss: 0.0489 - val_AUC: 0.9981 - val_Precision: 0.8476 - val_Recall: 1.0000 - val_loss: 0.0671\n",
      "Epoch 11/100\n",
      "\u001b[1m69/69\u001b[0m \u001b[32m━━━━━━━━━━━━━━━━━━━━\u001b[0m\u001b[37m\u001b[0m \u001b[1m8s\u001b[0m 109ms/step - AUC: 0.9974 - Precision: 0.9761 - Recall: 0.9989 - loss: 0.0489 - val_AUC: 0.9981 - val_Precision: 0.8476 - val_Recall: 1.0000 - val_loss: 0.0671\n",
      "Epoch 11/100\n",
      "\u001b[1m69/69\u001b[0m \u001b[32m━━━━━━━━━━━━━━━━━━━━\u001b[0m\u001b[37m\u001b[0m \u001b[1m8s\u001b[0m 106ms/step - AUC: 0.9974 - Precision: 0.9782 - Recall: 0.9989 - loss: 0.0479 - val_AUC: 0.9981 - val_Precision: 0.8318 - val_Recall: 1.0000 - val_loss: 0.0682\n",
      "Epoch 12/100\n",
      "\u001b[1m69/69\u001b[0m \u001b[32m━━━━━━━━━━━━━━━━━━━━\u001b[0m\u001b[37m\u001b[0m \u001b[1m8s\u001b[0m 106ms/step - AUC: 0.9974 - Precision: 0.9782 - Recall: 0.9989 - loss: 0.0479 - val_AUC: 0.9981 - val_Precision: 0.8318 - val_Recall: 1.0000 - val_loss: 0.0682\n",
      "Epoch 12/100\n",
      "\u001b[1m69/69\u001b[0m \u001b[32m━━━━━━━━━━━━━━━━━━━━\u001b[0m\u001b[37m\u001b[0m \u001b[1m6s\u001b[0m 90ms/step - AUC: 0.9973 - Precision: 0.9753 - Recall: 0.9987 - loss: 0.0483 - val_AUC: 0.9981 - val_Precision: 0.8165 - val_Recall: 1.0000 - val_loss: 0.0732\n",
      "Epoch 13/100\n",
      "\u001b[1m69/69\u001b[0m \u001b[32m━━━━━━━━━━━━━━━━━━━━\u001b[0m\u001b[37m\u001b[0m \u001b[1m6s\u001b[0m 90ms/step - AUC: 0.9973 - Precision: 0.9753 - Recall: 0.9987 - loss: 0.0483 - val_AUC: 0.9981 - val_Precision: 0.8165 - val_Recall: 1.0000 - val_loss: 0.0732\n",
      "Epoch 13/100\n",
      "\u001b[1m69/69\u001b[0m \u001b[32m━━━━━━━━━━━━━━━━━━━━\u001b[0m\u001b[37m\u001b[0m \u001b[1m6s\u001b[0m 85ms/step - AUC: 0.9974 - Precision: 0.9777 - Recall: 0.9989 - loss: 0.0478 - val_AUC: 0.9981 - val_Precision: 0.8165 - val_Recall: 1.0000 - val_loss: 0.0703\n",
      "Epoch 14/100\n",
      "\u001b[1m69/69\u001b[0m \u001b[32m━━━━━━━━━━━━━━━━━━━━\u001b[0m\u001b[37m\u001b[0m \u001b[1m6s\u001b[0m 85ms/step - AUC: 0.9974 - Precision: 0.9777 - Recall: 0.9989 - loss: 0.0478 - val_AUC: 0.9981 - val_Precision: 0.8165 - val_Recall: 1.0000 - val_loss: 0.0703\n",
      "Epoch 14/100\n",
      "\u001b[1m69/69\u001b[0m \u001b[32m━━━━━━━━━━━━━━━━━━━━\u001b[0m\u001b[37m\u001b[0m \u001b[1m6s\u001b[0m 91ms/step - AUC: 0.9975 - Precision: 0.9769 - Recall: 0.9986 - loss: 0.0480 - val_AUC: 0.9982 - val_Precision: 0.8318 - val_Recall: 1.0000 - val_loss: 0.0694\n",
      "Epoch 15/100\n",
      "\u001b[1m69/69\u001b[0m \u001b[32m━━━━━━━━━━━━━━━━━━━━\u001b[0m\u001b[37m\u001b[0m \u001b[1m6s\u001b[0m 91ms/step - AUC: 0.9975 - Precision: 0.9769 - Recall: 0.9986 - loss: 0.0480 - val_AUC: 0.9982 - val_Precision: 0.8318 - val_Recall: 1.0000 - val_loss: 0.0694\n",
      "Epoch 15/100\n",
      "\u001b[1m69/69\u001b[0m \u001b[32m━━━━━━━━━━━━━━━━━━━━\u001b[0m\u001b[37m\u001b[0m \u001b[1m6s\u001b[0m 88ms/step - AUC: 0.9975 - Precision: 0.9771 - Recall: 0.9987 - loss: 0.0472 - val_AUC: 0.9982 - val_Precision: 0.8165 - val_Recall: 1.0000 - val_loss: 0.0723\n",
      "Epoch 16/100\n",
      "\u001b[1m69/69\u001b[0m \u001b[32m━━━━━━━━━━━━━━━━━━━━\u001b[0m\u001b[37m\u001b[0m \u001b[1m6s\u001b[0m 88ms/step - AUC: 0.9975 - Precision: 0.9771 - Recall: 0.9987 - loss: 0.0472 - val_AUC: 0.9982 - val_Precision: 0.8165 - val_Recall: 1.0000 - val_loss: 0.0723\n",
      "Epoch 16/100\n",
      "\u001b[1m69/69\u001b[0m \u001b[32m━━━━━━━━━━━━━━━━━━━━\u001b[0m\u001b[37m\u001b[0m \u001b[1m6s\u001b[0m 86ms/step - AUC: 0.9975 - Precision: 0.9771 - Recall: 0.9986 - loss: 0.0471 - val_AUC: 0.9982 - val_Precision: 0.8318 - val_Recall: 1.0000 - val_loss: 0.0701\n",
      "Epoch 17/100\n",
      "\u001b[1m69/69\u001b[0m \u001b[32m━━━━━━━━━━━━━━━━━━━━\u001b[0m\u001b[37m\u001b[0m \u001b[1m6s\u001b[0m 86ms/step - AUC: 0.9975 - Precision: 0.9771 - Recall: 0.9986 - loss: 0.0471 - val_AUC: 0.9982 - val_Precision: 0.8318 - val_Recall: 1.0000 - val_loss: 0.0701\n",
      "Epoch 17/100\n",
      "\u001b[1m69/69\u001b[0m \u001b[32m━━━━━━━━━━━━━━━━━━━━\u001b[0m\u001b[37m\u001b[0m \u001b[1m6s\u001b[0m 84ms/step - AUC: 0.9975 - Precision: 0.9761 - Recall: 0.9987 - loss: 0.0469 - val_AUC: 0.9982 - val_Precision: 0.8165 - val_Recall: 1.0000 - val_loss: 0.0726\n",
      "Epoch 18/100\n",
      "\u001b[1m69/69\u001b[0m \u001b[32m━━━━━━━━━━━━━━━━━━━━\u001b[0m\u001b[37m\u001b[0m \u001b[1m6s\u001b[0m 84ms/step - AUC: 0.9975 - Precision: 0.9761 - Recall: 0.9987 - loss: 0.0469 - val_AUC: 0.9982 - val_Precision: 0.8165 - val_Recall: 1.0000 - val_loss: 0.0726\n",
      "Epoch 18/100\n",
      "\u001b[1m69/69\u001b[0m \u001b[32m━━━━━━━━━━━━━━━━━━━━\u001b[0m\u001b[37m\u001b[0m \u001b[1m6s\u001b[0m 87ms/step - AUC: 0.9975 - Precision: 0.9763 - Recall: 0.9989 - loss: 0.0470 - val_AUC: 0.9982 - val_Precision: 0.8165 - val_Recall: 1.0000 - val_loss: 0.0707\n",
      "Epoch 19/100\n",
      "\u001b[1m69/69\u001b[0m \u001b[32m━━━━━━━━━━━━━━━━━━━━\u001b[0m\u001b[37m\u001b[0m \u001b[1m6s\u001b[0m 87ms/step - AUC: 0.9975 - Precision: 0.9763 - Recall: 0.9989 - loss: 0.0470 - val_AUC: 0.9982 - val_Precision: 0.8165 - val_Recall: 1.0000 - val_loss: 0.0707\n",
      "Epoch 19/100\n",
      "\u001b[1m69/69\u001b[0m \u001b[32m━━━━━━━━━━━━━━━━━━━━\u001b[0m\u001b[37m\u001b[0m \u001b[1m6s\u001b[0m 86ms/step - AUC: 0.9975 - Precision: 0.9791 - Recall: 0.9984 - loss: 0.0467 - val_AUC: 0.9982 - val_Precision: 0.8165 - val_Recall: 1.0000 - val_loss: 0.0715\n",
      "\u001b[1m69/69\u001b[0m \u001b[32m━━━━━━━━━━━━━━━━━━━━\u001b[0m\u001b[37m\u001b[0m \u001b[1m6s\u001b[0m 86ms/step - AUC: 0.9975 - Precision: 0.9791 - Recall: 0.9984 - loss: 0.0467 - val_AUC: 0.9982 - val_Precision: 0.8165 - val_Recall: 1.0000 - val_loss: 0.0715\n"
     ]
    },
    {
     "name": "stderr",
     "output_type": "stream",
     "text": [
      "WARNING:absl:You are saving your model as an HDF5 file via `model.save()` or `keras.saving.save_model(model)`. This file format is considered legacy. We recommend using instead the native Keras format, e.g. `model.save('my_model.keras')` or `keras.saving.save_model(model, 'my_model.keras')`. \n"
     ]
    },
    {
     "name": "stdout",
     "output_type": "stream",
     "text": [
      "Model and training history saved.\n"
     ]
    }
   ],
   "source": [
    "# Save model and training history\n",
    "model.save('cnn_lstm_final_model.h5')\n",
    "with open('cnn_lstm_training_history.pkl', 'wb') as f:\n",
    "    pickle.dump(history.history, f)\n",
    "print(\"Model and training history saved.\")"
   ]
  }
 ],
 "metadata": {
  "kernelspec": {
   "display_name": "venv",
   "language": "python",
   "name": "python3"
  },
  "language_info": {
   "codemirror_mode": {
    "name": "ipython",
    "version": 3
   },
   "file_extension": ".py",
   "mimetype": "text/x-python",
   "name": "python",
   "nbconvert_exporter": "python",
   "pygments_lexer": "ipython3",
   "version": "3.12.10"
  }
 },
 "nbformat": 4,
 "nbformat_minor": 5
}
