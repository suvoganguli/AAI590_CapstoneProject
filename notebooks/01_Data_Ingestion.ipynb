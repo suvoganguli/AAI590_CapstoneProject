{
 "cells": [
  {
   "cell_type": "markdown",
   "id": "0d7aa12d",
   "metadata": {},
   "source": [
    "# Data Ingestion"
   ]
  }
 ],
 "metadata": {
  "language_info": {
   "name": "python"
  }
 },
 "nbformat": 4,
 "nbformat_minor": 5
}
