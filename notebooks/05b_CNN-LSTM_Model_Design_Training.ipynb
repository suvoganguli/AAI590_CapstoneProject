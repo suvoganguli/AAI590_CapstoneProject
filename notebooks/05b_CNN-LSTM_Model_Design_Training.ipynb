{
  "cells": [
    {
      "cell_type": "markdown",
      "id": "5ee2d7b9",
      "metadata": {
        "id": "5ee2d7b9"
      },
      "source": [
        "# 05b: CNN-LSTM Model Design and Training\n",
        "\n",
        "This notebook provides a comprehensive workflow for designing, training, and evaluating a hybrid CNN-LSTM model for ICU mortality prediction using preprocessed time series and static patient data.\n"
      ]
    },
    {
      "cell_type": "markdown",
      "id": "8bd3075b",
      "metadata": {
        "id": "8bd3075b"
      },
      "source": [
        "## Workflow Overview\n",
        "\n",
        "This notebook implements a complete CNN-LSTM model development pipeline for ICU mortality prediction. The workflow includes:\n",
        "\n",
        "**Key Features:**\n"
      ]
    },
    {
      "cell_type": "markdown",
      "id": "322b32ec",
      "metadata": {
        "id": "322b32ec"
      },
      "source": [
        "## 1. Imports and Configuration\n",
        "\n",
        "Import all necessary libraries for deep learning model development, training, and evaluation.\n"
      ]
    },
    {
      "cell_type": "code",
      "execution_count": 5,
      "id": "25923e25",
      "metadata": {
        "id": "25923e25"
      },
      "outputs": [],
      "source": [
        "# Imports and Configuration\n",
        "import numpy as np\n",
        "import tensorflow as tf\n",
        "from tensorflow.keras.models import Model\n",
        "from tensorflow.keras.layers import Input, Conv1D, LSTM, Dense, Dropout, Concatenate\n",
        "from tensorflow.keras.regularizers import l2\n",
        "from tensorflow.keras.callbacks import EarlyStopping, ModelCheckpoint\n",
        "import pickle\n",
        "import matplotlib.pyplot as plt\n",
        "import shap\n",
        "import pandas as pd\n",
        "from tensorflow.keras.layers import Input, Conv1D, MaxPooling1D, LSTM, Dense, Concatenate, Dropout\n",
        "import os\n",
        "from sklearn.metrics import classification_report, roc_curve, auc, confusion_matrix\n",
        "import matplotlib.pyplot as plt\n",
        "import numpy as np\n",
        "import seaborn as sns\n",
        "from sklearn.model_selection import StratifiedKFold\n",
        "from sklearn.metrics import classification_report, confusion_matrix\n",
        "\n",
        "np.random.seed(42)\n",
        "tf.random.set_seed(42)"
      ]
    },
    {
      "cell_type": "markdown",
      "id": "7a58df4c",
      "metadata": {
        "id": "7a58df4c"
      },
      "source": [
        "## 2. Data Loading and Validation\n",
        "\n",
        "Load the preprocessed datasets from the data preparation notebook and validate data integrity. The datasets include hourly time series sequences, static patient features, and binary mortality outcomes.\n",
        "\n"
      ]
    },
    {
      "cell_type": "code",
      "execution_count": 6,
      "id": "a688b23c",
      "metadata": {
        "id": "a688b23c"
      },
      "outputs": [],
      "source": [
        "# Load prepared data\n",
        "data = np.load('/content/sample_data/cnn_lstm_hourly_data.npz', allow_pickle=True)\n",
        "\n",
        "# Time-series inputs\n",
        "X_train_final = data['X_train']\n",
        "X_val_final   = data['X_val']\n",
        "X_test_final  = data['X_test']\n",
        "\n",
        "# Static inputs\n",
        "static_train_final = data['static_train']\n",
        "static_val_final   = data['static_val']\n",
        "static_test_final  = data['static_test']\n",
        "\n",
        "# Labels\n",
        "y_train_final = data['y_train']\n",
        "y_val_final   = data['y_val']\n",
        "y_test_final  = data['y_test']"
      ]
    },
    {
      "cell_type": "markdown",
      "id": "12c2630e",
      "metadata": {
        "id": "12c2630e"
      },
      "source": [
        "## 3. Model Architecture: CNN-LSTM Hybrid\n",
        "\n",
        "This section defines a hybrid deep learning model that combines convolutional neural networks (CNN) and long short-term memory (LSTM) layers for ICU mortality prediction. The architecture is designed to leverage both temporal patterns in time series data and static patient features.\n",
        "\n",
        "**Key Design Choices:**\n",
        "- **CNN Layers:** Extract local temporal features from the time series input, capturing short-term dependencies and patterns.\n",
        "- **LSTM Layer:** Captures long-term dependencies and trends in the sequential data, which are important for patient outcome prediction.\n",
        "- **Static Input:** Patient static features (e.g., demographics, baseline measurements) are included as a separate input and concatenated with the sequence features after feature extraction.\n",
        "- **Dense Layers:** Combine the extracted sequence and static features to learn complex interactions.\n",
        "- **Regularization:** Dropout and L2 regularization are used to prevent overfitting and improve generalization.\n",
        "- **Output Layer:** A single neuron with sigmoid activation for binary classification (mortality prediction).\n",
        "\n",
        "**Inputs:**\n",
        "- Time series features: shape = [batch, timesteps, features]\n",
        "- Static features: shape = [batch, static_features]\n",
        "\n",
        "**Output:**\n",
        "- Binary prediction: 0 = survived, 1 = deceased\n",
        "\n",
        "\n"
      ]
    },
    {
      "cell_type": "code",
      "execution_count": 7,
      "id": "cFST_a7IkLD2",
      "metadata": {
        "colab": {
          "base_uri": "https://localhost:8080/",
          "height": 799
        },
        "id": "cFST_a7IkLD2",
        "outputId": "2678f009-6afc-48ff-9786-cfef30827b21"
      },
      "outputs": [
        {
          "data": {
            "text/html": [
              "<pre style=\"white-space:pre;overflow-x:auto;line-height:normal;font-family:Menlo,'DejaVu Sans Mono',consolas,'Courier New',monospace\"><span style=\"font-weight: bold\">Model: \"functional_1\"</span>\n",
              "</pre>\n"
            ],
            "text/plain": [
              "\u001b[1mModel: \"functional_1\"\u001b[0m\n"
            ]
          },
          "metadata": {},
          "output_type": "display_data"
        },
        {
          "data": {
            "text/html": [
              "<pre style=\"white-space:pre;overflow-x:auto;line-height:normal;font-family:Menlo,'DejaVu Sans Mono',consolas,'Courier New',monospace\">┏━━━━━━━━━━━━━━━━━━━━━┳━━━━━━━━━━━━━━━━━━━┳━━━━━━━━━━━━┳━━━━━━━━━━━━━━━━━━━┓\n",
              "┃<span style=\"font-weight: bold\"> Layer (type)        </span>┃<span style=\"font-weight: bold\"> Output Shape      </span>┃<span style=\"font-weight: bold\">    Param # </span>┃<span style=\"font-weight: bold\"> Connected to      </span>┃\n",
              "┡━━━━━━━━━━━━━━━━━━━━━╇━━━━━━━━━━━━━━━━━━━╇━━━━━━━━━━━━╇━━━━━━━━━━━━━━━━━━━┩\n",
              "│ time_series_input   │ (<span style=\"color: #00d7ff; text-decoration-color: #00d7ff\">None</span>, <span style=\"color: #00af00; text-decoration-color: #00af00\">48</span>, <span style=\"color: #00af00; text-decoration-color: #00af00\">28</span>)    │          <span style=\"color: #00af00; text-decoration-color: #00af00\">0</span> │ -                 │\n",
              "│ (<span style=\"color: #0087ff; text-decoration-color: #0087ff\">InputLayer</span>)        │                   │            │                   │\n",
              "├─────────────────────┼───────────────────┼────────────┼───────────────────┤\n",
              "│ conv1d_2 (<span style=\"color: #0087ff; text-decoration-color: #0087ff\">Conv1D</span>)   │ (<span style=\"color: #00d7ff; text-decoration-color: #00d7ff\">None</span>, <span style=\"color: #00af00; text-decoration-color: #00af00\">48</span>, <span style=\"color: #00af00; text-decoration-color: #00af00\">64</span>)    │      <span style=\"color: #00af00; text-decoration-color: #00af00\">5,440</span> │ time_series_inpu… │\n",
              "├─────────────────────┼───────────────────┼────────────┼───────────────────┤\n",
              "│ max_pooling1d_2     │ (<span style=\"color: #00d7ff; text-decoration-color: #00d7ff\">None</span>, <span style=\"color: #00af00; text-decoration-color: #00af00\">24</span>, <span style=\"color: #00af00; text-decoration-color: #00af00\">64</span>)    │          <span style=\"color: #00af00; text-decoration-color: #00af00\">0</span> │ conv1d_2[<span style=\"color: #00af00; text-decoration-color: #00af00\">0</span>][<span style=\"color: #00af00; text-decoration-color: #00af00\">0</span>]    │\n",
              "│ (<span style=\"color: #0087ff; text-decoration-color: #0087ff\">MaxPooling1D</span>)      │                   │            │                   │\n",
              "├─────────────────────┼───────────────────┼────────────┼───────────────────┤\n",
              "│ dropout_4 (<span style=\"color: #0087ff; text-decoration-color: #0087ff\">Dropout</span>) │ (<span style=\"color: #00d7ff; text-decoration-color: #00d7ff\">None</span>, <span style=\"color: #00af00; text-decoration-color: #00af00\">24</span>, <span style=\"color: #00af00; text-decoration-color: #00af00\">64</span>)    │          <span style=\"color: #00af00; text-decoration-color: #00af00\">0</span> │ max_pooling1d_2[<span style=\"color: #00af00; text-decoration-color: #00af00\">…</span> │\n",
              "├─────────────────────┼───────────────────┼────────────┼───────────────────┤\n",
              "│ conv1d_3 (<span style=\"color: #0087ff; text-decoration-color: #0087ff\">Conv1D</span>)   │ (<span style=\"color: #00d7ff; text-decoration-color: #00d7ff\">None</span>, <span style=\"color: #00af00; text-decoration-color: #00af00\">24</span>, <span style=\"color: #00af00; text-decoration-color: #00af00\">128</span>)   │     <span style=\"color: #00af00; text-decoration-color: #00af00\">24,704</span> │ dropout_4[<span style=\"color: #00af00; text-decoration-color: #00af00\">0</span>][<span style=\"color: #00af00; text-decoration-color: #00af00\">0</span>]   │\n",
              "├─────────────────────┼───────────────────┼────────────┼───────────────────┤\n",
              "│ max_pooling1d_3     │ (<span style=\"color: #00d7ff; text-decoration-color: #00d7ff\">None</span>, <span style=\"color: #00af00; text-decoration-color: #00af00\">24</span>, <span style=\"color: #00af00; text-decoration-color: #00af00\">128</span>)   │          <span style=\"color: #00af00; text-decoration-color: #00af00\">0</span> │ conv1d_3[<span style=\"color: #00af00; text-decoration-color: #00af00\">0</span>][<span style=\"color: #00af00; text-decoration-color: #00af00\">0</span>]    │\n",
              "│ (<span style=\"color: #0087ff; text-decoration-color: #0087ff\">MaxPooling1D</span>)      │                   │            │                   │\n",
              "├─────────────────────┼───────────────────┼────────────┼───────────────────┤\n",
              "│ dropout_5 (<span style=\"color: #0087ff; text-decoration-color: #0087ff\">Dropout</span>) │ (<span style=\"color: #00d7ff; text-decoration-color: #00d7ff\">None</span>, <span style=\"color: #00af00; text-decoration-color: #00af00\">24</span>, <span style=\"color: #00af00; text-decoration-color: #00af00\">128</span>)   │          <span style=\"color: #00af00; text-decoration-color: #00af00\">0</span> │ max_pooling1d_3[<span style=\"color: #00af00; text-decoration-color: #00af00\">…</span> │\n",
              "├─────────────────────┼───────────────────┼────────────┼───────────────────┤\n",
              "│ static_input        │ (<span style=\"color: #00d7ff; text-decoration-color: #00d7ff\">None</span>, <span style=\"color: #00af00; text-decoration-color: #00af00\">7</span>)         │          <span style=\"color: #00af00; text-decoration-color: #00af00\">0</span> │ -                 │\n",
              "│ (<span style=\"color: #0087ff; text-decoration-color: #0087ff\">InputLayer</span>)        │                   │            │                   │\n",
              "├─────────────────────┼───────────────────┼────────────┼───────────────────┤\n",
              "│ lstm_1 (<span style=\"color: #0087ff; text-decoration-color: #0087ff\">LSTM</span>)       │ (<span style=\"color: #00d7ff; text-decoration-color: #00d7ff\">None</span>, <span style=\"color: #00af00; text-decoration-color: #00af00\">64</span>)        │     <span style=\"color: #00af00; text-decoration-color: #00af00\">49,408</span> │ dropout_5[<span style=\"color: #00af00; text-decoration-color: #00af00\">0</span>][<span style=\"color: #00af00; text-decoration-color: #00af00\">0</span>]   │\n",
              "├─────────────────────┼───────────────────┼────────────┼───────────────────┤\n",
              "│ dense_4 (<span style=\"color: #0087ff; text-decoration-color: #0087ff\">Dense</span>)     │ (<span style=\"color: #00d7ff; text-decoration-color: #00d7ff\">None</span>, <span style=\"color: #00af00; text-decoration-color: #00af00\">32</span>)        │        <span style=\"color: #00af00; text-decoration-color: #00af00\">256</span> │ static_input[<span style=\"color: #00af00; text-decoration-color: #00af00\">0</span>][<span style=\"color: #00af00; text-decoration-color: #00af00\">…</span> │\n",
              "├─────────────────────┼───────────────────┼────────────┼───────────────────┤\n",
              "│ dropout_6 (<span style=\"color: #0087ff; text-decoration-color: #0087ff\">Dropout</span>) │ (<span style=\"color: #00d7ff; text-decoration-color: #00d7ff\">None</span>, <span style=\"color: #00af00; text-decoration-color: #00af00\">64</span>)        │          <span style=\"color: #00af00; text-decoration-color: #00af00\">0</span> │ lstm_1[<span style=\"color: #00af00; text-decoration-color: #00af00\">0</span>][<span style=\"color: #00af00; text-decoration-color: #00af00\">0</span>]      │\n",
              "├─────────────────────┼───────────────────┼────────────┼───────────────────┤\n",
              "│ dense_5 (<span style=\"color: #0087ff; text-decoration-color: #0087ff\">Dense</span>)     │ (<span style=\"color: #00d7ff; text-decoration-color: #00d7ff\">None</span>, <span style=\"color: #00af00; text-decoration-color: #00af00\">16</span>)        │        <span style=\"color: #00af00; text-decoration-color: #00af00\">528</span> │ dense_4[<span style=\"color: #00af00; text-decoration-color: #00af00\">0</span>][<span style=\"color: #00af00; text-decoration-color: #00af00\">0</span>]     │\n",
              "├─────────────────────┼───────────────────┼────────────┼───────────────────┤\n",
              "│ concatenate_1       │ (<span style=\"color: #00d7ff; text-decoration-color: #00d7ff\">None</span>, <span style=\"color: #00af00; text-decoration-color: #00af00\">80</span>)        │          <span style=\"color: #00af00; text-decoration-color: #00af00\">0</span> │ dropout_6[<span style=\"color: #00af00; text-decoration-color: #00af00\">0</span>][<span style=\"color: #00af00; text-decoration-color: #00af00\">0</span>],  │\n",
              "│ (<span style=\"color: #0087ff; text-decoration-color: #0087ff\">Concatenate</span>)       │                   │            │ dense_5[<span style=\"color: #00af00; text-decoration-color: #00af00\">0</span>][<span style=\"color: #00af00; text-decoration-color: #00af00\">0</span>]     │\n",
              "├─────────────────────┼───────────────────┼────────────┼───────────────────┤\n",
              "│ dense_6 (<span style=\"color: #0087ff; text-decoration-color: #0087ff\">Dense</span>)     │ (<span style=\"color: #00d7ff; text-decoration-color: #00d7ff\">None</span>, <span style=\"color: #00af00; text-decoration-color: #00af00\">64</span>)        │      <span style=\"color: #00af00; text-decoration-color: #00af00\">5,184</span> │ concatenate_1[<span style=\"color: #00af00; text-decoration-color: #00af00\">0</span>]… │\n",
              "├─────────────────────┼───────────────────┼────────────┼───────────────────┤\n",
              "│ dropout_7 (<span style=\"color: #0087ff; text-decoration-color: #0087ff\">Dropout</span>) │ (<span style=\"color: #00d7ff; text-decoration-color: #00d7ff\">None</span>, <span style=\"color: #00af00; text-decoration-color: #00af00\">64</span>)        │          <span style=\"color: #00af00; text-decoration-color: #00af00\">0</span> │ dense_6[<span style=\"color: #00af00; text-decoration-color: #00af00\">0</span>][<span style=\"color: #00af00; text-decoration-color: #00af00\">0</span>]     │\n",
              "├─────────────────────┼───────────────────┼────────────┼───────────────────┤\n",
              "│ dense_7 (<span style=\"color: #0087ff; text-decoration-color: #0087ff\">Dense</span>)     │ (<span style=\"color: #00d7ff; text-decoration-color: #00d7ff\">None</span>, <span style=\"color: #00af00; text-decoration-color: #00af00\">32</span>)        │      <span style=\"color: #00af00; text-decoration-color: #00af00\">2,080</span> │ dropout_7[<span style=\"color: #00af00; text-decoration-color: #00af00\">0</span>][<span style=\"color: #00af00; text-decoration-color: #00af00\">0</span>]   │\n",
              "├─────────────────────┼───────────────────┼────────────┼───────────────────┤\n",
              "│ output (<span style=\"color: #0087ff; text-decoration-color: #0087ff\">Dense</span>)      │ (<span style=\"color: #00d7ff; text-decoration-color: #00d7ff\">None</span>, <span style=\"color: #00af00; text-decoration-color: #00af00\">1</span>)         │         <span style=\"color: #00af00; text-decoration-color: #00af00\">33</span> │ dense_7[<span style=\"color: #00af00; text-decoration-color: #00af00\">0</span>][<span style=\"color: #00af00; text-decoration-color: #00af00\">0</span>]     │\n",
              "└─────────────────────┴───────────────────┴────────────┴───────────────────┘\n",
              "</pre>\n"
            ],
            "text/plain": [
              "┏━━━━━━━━━━━━━━━━━━━━━┳━━━━━━━━━━━━━━━━━━━┳━━━━━━━━━━━━┳━━━━━━━━━━━━━━━━━━━┓\n",
              "┃\u001b[1m \u001b[0m\u001b[1mLayer (type)       \u001b[0m\u001b[1m \u001b[0m┃\u001b[1m \u001b[0m\u001b[1mOutput Shape     \u001b[0m\u001b[1m \u001b[0m┃\u001b[1m \u001b[0m\u001b[1m   Param #\u001b[0m\u001b[1m \u001b[0m┃\u001b[1m \u001b[0m\u001b[1mConnected to     \u001b[0m\u001b[1m \u001b[0m┃\n",
              "┡━━━━━━━━━━━━━━━━━━━━━╇━━━━━━━━━━━━━━━━━━━╇━━━━━━━━━━━━╇━━━━━━━━━━━━━━━━━━━┩\n",
              "│ time_series_input   │ (\u001b[38;5;45mNone\u001b[0m, \u001b[38;5;34m48\u001b[0m, \u001b[38;5;34m28\u001b[0m)    │          \u001b[38;5;34m0\u001b[0m │ -                 │\n",
              "│ (\u001b[38;5;33mInputLayer\u001b[0m)        │                   │            │                   │\n",
              "├─────────────────────┼───────────────────┼────────────┼───────────────────┤\n",
              "│ conv1d_2 (\u001b[38;5;33mConv1D\u001b[0m)   │ (\u001b[38;5;45mNone\u001b[0m, \u001b[38;5;34m48\u001b[0m, \u001b[38;5;34m64\u001b[0m)    │      \u001b[38;5;34m5,440\u001b[0m │ time_series_inpu… │\n",
              "├─────────────────────┼───────────────────┼────────────┼───────────────────┤\n",
              "│ max_pooling1d_2     │ (\u001b[38;5;45mNone\u001b[0m, \u001b[38;5;34m24\u001b[0m, \u001b[38;5;34m64\u001b[0m)    │          \u001b[38;5;34m0\u001b[0m │ conv1d_2[\u001b[38;5;34m0\u001b[0m][\u001b[38;5;34m0\u001b[0m]    │\n",
              "│ (\u001b[38;5;33mMaxPooling1D\u001b[0m)      │                   │            │                   │\n",
              "├─────────────────────┼───────────────────┼────────────┼───────────────────┤\n",
              "│ dropout_4 (\u001b[38;5;33mDropout\u001b[0m) │ (\u001b[38;5;45mNone\u001b[0m, \u001b[38;5;34m24\u001b[0m, \u001b[38;5;34m64\u001b[0m)    │          \u001b[38;5;34m0\u001b[0m │ max_pooling1d_2[\u001b[38;5;34m…\u001b[0m │\n",
              "├─────────────────────┼───────────────────┼────────────┼───────────────────┤\n",
              "│ conv1d_3 (\u001b[38;5;33mConv1D\u001b[0m)   │ (\u001b[38;5;45mNone\u001b[0m, \u001b[38;5;34m24\u001b[0m, \u001b[38;5;34m128\u001b[0m)   │     \u001b[38;5;34m24,704\u001b[0m │ dropout_4[\u001b[38;5;34m0\u001b[0m][\u001b[38;5;34m0\u001b[0m]   │\n",
              "├─────────────────────┼───────────────────┼────────────┼───────────────────┤\n",
              "│ max_pooling1d_3     │ (\u001b[38;5;45mNone\u001b[0m, \u001b[38;5;34m24\u001b[0m, \u001b[38;5;34m128\u001b[0m)   │          \u001b[38;5;34m0\u001b[0m │ conv1d_3[\u001b[38;5;34m0\u001b[0m][\u001b[38;5;34m0\u001b[0m]    │\n",
              "│ (\u001b[38;5;33mMaxPooling1D\u001b[0m)      │                   │            │                   │\n",
              "├─────────────────────┼───────────────────┼────────────┼───────────────────┤\n",
              "│ dropout_5 (\u001b[38;5;33mDropout\u001b[0m) │ (\u001b[38;5;45mNone\u001b[0m, \u001b[38;5;34m24\u001b[0m, \u001b[38;5;34m128\u001b[0m)   │          \u001b[38;5;34m0\u001b[0m │ max_pooling1d_3[\u001b[38;5;34m…\u001b[0m │\n",
              "├─────────────────────┼───────────────────┼────────────┼───────────────────┤\n",
              "│ static_input        │ (\u001b[38;5;45mNone\u001b[0m, \u001b[38;5;34m7\u001b[0m)         │          \u001b[38;5;34m0\u001b[0m │ -                 │\n",
              "│ (\u001b[38;5;33mInputLayer\u001b[0m)        │                   │            │                   │\n",
              "├─────────────────────┼───────────────────┼────────────┼───────────────────┤\n",
              "│ lstm_1 (\u001b[38;5;33mLSTM\u001b[0m)       │ (\u001b[38;5;45mNone\u001b[0m, \u001b[38;5;34m64\u001b[0m)        │     \u001b[38;5;34m49,408\u001b[0m │ dropout_5[\u001b[38;5;34m0\u001b[0m][\u001b[38;5;34m0\u001b[0m]   │\n",
              "├─────────────────────┼───────────────────┼────────────┼───────────────────┤\n",
              "│ dense_4 (\u001b[38;5;33mDense\u001b[0m)     │ (\u001b[38;5;45mNone\u001b[0m, \u001b[38;5;34m32\u001b[0m)        │        \u001b[38;5;34m256\u001b[0m │ static_input[\u001b[38;5;34m0\u001b[0m][\u001b[38;5;34m…\u001b[0m │\n",
              "├─────────────────────┼───────────────────┼────────────┼───────────────────┤\n",
              "│ dropout_6 (\u001b[38;5;33mDropout\u001b[0m) │ (\u001b[38;5;45mNone\u001b[0m, \u001b[38;5;34m64\u001b[0m)        │          \u001b[38;5;34m0\u001b[0m │ lstm_1[\u001b[38;5;34m0\u001b[0m][\u001b[38;5;34m0\u001b[0m]      │\n",
              "├─────────────────────┼───────────────────┼────────────┼───────────────────┤\n",
              "│ dense_5 (\u001b[38;5;33mDense\u001b[0m)     │ (\u001b[38;5;45mNone\u001b[0m, \u001b[38;5;34m16\u001b[0m)        │        \u001b[38;5;34m528\u001b[0m │ dense_4[\u001b[38;5;34m0\u001b[0m][\u001b[38;5;34m0\u001b[0m]     │\n",
              "├─────────────────────┼───────────────────┼────────────┼───────────────────┤\n",
              "│ concatenate_1       │ (\u001b[38;5;45mNone\u001b[0m, \u001b[38;5;34m80\u001b[0m)        │          \u001b[38;5;34m0\u001b[0m │ dropout_6[\u001b[38;5;34m0\u001b[0m][\u001b[38;5;34m0\u001b[0m],  │\n",
              "│ (\u001b[38;5;33mConcatenate\u001b[0m)       │                   │            │ dense_5[\u001b[38;5;34m0\u001b[0m][\u001b[38;5;34m0\u001b[0m]     │\n",
              "├─────────────────────┼───────────────────┼────────────┼───────────────────┤\n",
              "│ dense_6 (\u001b[38;5;33mDense\u001b[0m)     │ (\u001b[38;5;45mNone\u001b[0m, \u001b[38;5;34m64\u001b[0m)        │      \u001b[38;5;34m5,184\u001b[0m │ concatenate_1[\u001b[38;5;34m0\u001b[0m]… │\n",
              "├─────────────────────┼───────────────────┼────────────┼───────────────────┤\n",
              "│ dropout_7 (\u001b[38;5;33mDropout\u001b[0m) │ (\u001b[38;5;45mNone\u001b[0m, \u001b[38;5;34m64\u001b[0m)        │          \u001b[38;5;34m0\u001b[0m │ dense_6[\u001b[38;5;34m0\u001b[0m][\u001b[38;5;34m0\u001b[0m]     │\n",
              "├─────────────────────┼───────────────────┼────────────┼───────────────────┤\n",
              "│ dense_7 (\u001b[38;5;33mDense\u001b[0m)     │ (\u001b[38;5;45mNone\u001b[0m, \u001b[38;5;34m32\u001b[0m)        │      \u001b[38;5;34m2,080\u001b[0m │ dropout_7[\u001b[38;5;34m0\u001b[0m][\u001b[38;5;34m0\u001b[0m]   │\n",
              "├─────────────────────┼───────────────────┼────────────┼───────────────────┤\n",
              "│ output (\u001b[38;5;33mDense\u001b[0m)      │ (\u001b[38;5;45mNone\u001b[0m, \u001b[38;5;34m1\u001b[0m)         │         \u001b[38;5;34m33\u001b[0m │ dense_7[\u001b[38;5;34m0\u001b[0m][\u001b[38;5;34m0\u001b[0m]     │\n",
              "└─────────────────────┴───────────────────┴────────────┴───────────────────┘\n"
            ]
          },
          "metadata": {},
          "output_type": "display_data"
        },
        {
          "data": {
            "text/html": [
              "<pre style=\"white-space:pre;overflow-x:auto;line-height:normal;font-family:Menlo,'DejaVu Sans Mono',consolas,'Courier New',monospace\"><span style=\"font-weight: bold\"> Total params: </span><span style=\"color: #00af00; text-decoration-color: #00af00\">87,633</span> (342.32 KB)\n",
              "</pre>\n"
            ],
            "text/plain": [
              "\u001b[1m Total params: \u001b[0m\u001b[38;5;34m87,633\u001b[0m (342.32 KB)\n"
            ]
          },
          "metadata": {},
          "output_type": "display_data"
        },
        {
          "data": {
            "text/html": [
              "<pre style=\"white-space:pre;overflow-x:auto;line-height:normal;font-family:Menlo,'DejaVu Sans Mono',consolas,'Courier New',monospace\"><span style=\"font-weight: bold\"> Trainable params: </span><span style=\"color: #00af00; text-decoration-color: #00af00\">87,633</span> (342.32 KB)\n",
              "</pre>\n"
            ],
            "text/plain": [
              "\u001b[1m Trainable params: \u001b[0m\u001b[38;5;34m87,633\u001b[0m (342.32 KB)\n"
            ]
          },
          "metadata": {},
          "output_type": "display_data"
        },
        {
          "data": {
            "text/html": [
              "<pre style=\"white-space:pre;overflow-x:auto;line-height:normal;font-family:Menlo,'DejaVu Sans Mono',consolas,'Courier New',monospace\"><span style=\"font-weight: bold\"> Non-trainable params: </span><span style=\"color: #00af00; text-decoration-color: #00af00\">0</span> (0.00 B)\n",
              "</pre>\n"
            ],
            "text/plain": [
              "\u001b[1m Non-trainable params: \u001b[0m\u001b[38;5;34m0\u001b[0m (0.00 B)\n"
            ]
          },
          "metadata": {},
          "output_type": "display_data"
        }
      ],
      "source": [
        "def build_cnn_lstm_model(time_series_input_shape, static_input_shape):\n",
        "    \"\"\"Builds and compiles the CNN-LSTM model.\"\"\"\n",
        "    # Time-series branch\n",
        "    time_series_input = Input(shape=time_series_input_shape, name='time_series_input')\n",
        "\n",
        "    x = Conv1D(64, 3, activation='relu', padding='same', kernel_regularizer=l2(1e-4))(time_series_input)\n",
        "    x = MaxPooling1D(pool_size=2)(x)\n",
        "    x = Dropout(0.3)(x)\n",
        "\n",
        "    x = Conv1D(128, 3, activation='relu', padding='same', kernel_regularizer=l2(1e-4))(x)\n",
        "    # Reduce pooling impact for short sequences\n",
        "    x = MaxPooling1D(pool_size=1)(x)\n",
        "    x = Dropout(0.3)(x)\n",
        "\n",
        "    x = LSTM(64, return_sequences=False, kernel_regularizer=l2(1e-4))(x)\n",
        "    x = Dropout(0.3)(x)\n",
        "\n",
        "    # Static branch\n",
        "    static_input = Input(shape=static_input_shape, name='static_input')\n",
        "    y = Dense(32, activation='relu')(static_input)\n",
        "    y = Dense(16, activation='relu')(y)\n",
        "\n",
        "    # Merge branches\n",
        "    combined = Concatenate()([x, y])\n",
        "\n",
        "    z = Dense(64, activation='relu')(combined)\n",
        "    z = Dropout(0.3)(z)\n",
        "    z = Dense(32, activation='relu')(z)\n",
        "\n",
        "    output = Dense(1, activation='sigmoid', name='output')(z)\n",
        "\n",
        "    model = Model(inputs=[time_series_input, static_input], outputs=output)\n",
        "\n",
        "    # Compile the model\n",
        "    model.compile(optimizer='adam', loss='binary_crossentropy', metrics=['AUC', 'Precision', 'Recall'])\n",
        "\n",
        "    return model\n",
        "\n",
        "# Define input shapes based on your data\n",
        "time_series_input_shape = (X_train_final.shape[1], X_train_final.shape[2])\n",
        "static_input_shape = (static_train_final.shape[1],)\n",
        "\n",
        "# Build the model using the function\n",
        "model = build_cnn_lstm_model(time_series_input_shape, static_input_shape)\n",
        "\n",
        "# Print the model summary\n",
        "model.summary()"
      ]
    },
    {
      "cell_type": "markdown",
      "id": "b44e8f67",
      "metadata": {
        "id": "b44e8f67"
      },
      "source": [
        "## 4. Model Compilation\n",
        "\n",
        "Configure the model for training by specifying the optimizer, loss function, and evaluation metrics. This step prepares the model for the training process.\n",
        "\n",
        "**Configuration Details:**\n",
        "- **Optimizer:** Adam with learning rate of 1e-3 for stable convergence\n",
        "- **Loss Function:** Binary crossentropy for binary classification\n",
        "- **Metrics:** Comprehensive evaluation including accuracy, AUC, precision, and recall\n",
        "- **Monitoring:** Multiple metrics enable comprehensive performance assessment"
      ]
    },
    {
      "cell_type": "code",
      "execution_count": 8,
      "id": "739629e5",
      "metadata": {
        "colab": {
          "base_uri": "https://localhost:8080/"
        },
        "id": "739629e5",
        "outputId": "d47ae743-2438-483b-abb9-38f17a6c7e5e"
      },
      "outputs": [
        {
          "name": "stdout",
          "output_type": "stream",
          "text": [
            "Model compiled successfully.\n"
          ]
        }
      ],
      "source": [
        "# Compile the model\n",
        "model.compile(\n",
        "    optimizer=tf.keras.optimizers.Adam(learning_rate=1e-3),\n",
        "    loss='binary_crossentropy',\n",
        "    metrics=[\n",
        "        'accuracy',\n",
        "        tf.keras.metrics.AUC(name='AUC'),\n",
        "        tf.keras.metrics.Precision(name='Precision'),\n",
        "        tf.keras.metrics.Recall(name='Recall')\n",
        "    ]\n",
        ")\n",
        "\n",
        "print(\"Model compiled successfully.\")\n"
      ]
    },
    {
      "cell_type": "markdown",
      "id": "18c3e839",
      "metadata": {
        "id": "18c3e839"
      },
      "source": [
        "## 5. Model Training\n",
        "\n",
        "Train the CNN-LSTM model using best practices to ensure robust performance and prevent overfitting. The training process includes comprehensive monitoring and automatic model saving.\n",
        "\n",
        "**Training Strategy:**\n",
        "- **Early Stopping:** Monitors validation loss with patience of 10 epochs to prevent overfitting\n",
        "- **Model Checkpointing:** Saves the best model based on validation loss for optimal performance\n",
        "- **Batch Size:** 32 samples per batch for efficient memory usage and stable gradients\n",
        "- **Epochs:** Maximum 100 epochs with early termination based on validation performance\n",
        "\n",
        "**Callbacks:**\n",
        "- **EarlyStopping:** Automatically stops training when validation loss stops improving\n",
        "- **ModelCheckpoint:** Saves the best model weights during training for later use\n",
        "\n",
        "**Monitoring:**\n",
        "- Training and validation metrics tracked throughout the training process\n",
        "- Best model state preserved for final evaluation and deployment"
      ]
    },
    {
      "cell_type": "code",
      "execution_count": 9,
      "id": "2f956eac",
      "metadata": {
        "colab": {
          "base_uri": "https://localhost:8080/"
        },
        "id": "2f956eac",
        "outputId": "9f7ba356-1498-4923-bf99-0c17905391c0"
      },
      "outputs": [
        {
          "name": "stdout",
          "output_type": "stream",
          "text": [
            "Created model save directory: ../models/\n",
            "Epoch 1/100\n",
            "\u001b[1m138/138\u001b[0m \u001b[32m━━━━━━━━━━━━━━━━━━━━\u001b[0m\u001b[37m\u001b[0m \u001b[1m0s\u001b[0m 10ms/step - AUC: 0.6843 - Precision: 0.6243 - Recall: 0.7013 - accuracy: 0.6356 - loss: 0.6514\n",
            "Epoch 1: val_loss improved from inf to 0.60852, saving model to ../models/cnn_lstm_best_model.keras\n",
            "\u001b[1m138/138\u001b[0m \u001b[32m━━━━━━━━━━━━━━━━━━━━\u001b[0m\u001b[37m\u001b[0m \u001b[1m10s\u001b[0m 16ms/step - AUC: 0.6851 - Precision: 0.6248 - Recall: 0.7017 - accuracy: 0.6361 - loss: 0.6510 - val_AUC: 0.7919 - val_Precision: 0.2780 - val_Recall: 0.7528 - val_accuracy: 0.6938 - val_loss: 0.6085\n",
            "Epoch 2/100\n",
            "\u001b[1m133/138\u001b[0m \u001b[32m━━━━━━━━━━━━━━━━━━━\u001b[0m\u001b[37m━\u001b[0m \u001b[1m0s\u001b[0m 9ms/step - AUC: 0.8460 - Precision: 0.7505 - Recall: 0.8576 - accuracy: 0.7859 - loss: 0.5032\n",
            "Epoch 2: val_loss improved from 0.60852 to 0.60030, saving model to ../models/cnn_lstm_best_model.keras\n",
            "\u001b[1m138/138\u001b[0m \u001b[32m━━━━━━━━━━━━━━━━━━━━\u001b[0m\u001b[37m\u001b[0m \u001b[1m2s\u001b[0m 11ms/step - AUC: 0.8467 - Precision: 0.7509 - Recall: 0.8576 - accuracy: 0.7862 - loss: 0.5023 - val_AUC: 0.7743 - val_Precision: 0.2759 - val_Recall: 0.7191 - val_accuracy: 0.6984 - val_loss: 0.6003\n",
            "Epoch 3/100\n",
            "\u001b[1m133/138\u001b[0m \u001b[32m━━━━━━━━━━━━━━━━━━━\u001b[0m\u001b[37m━\u001b[0m \u001b[1m0s\u001b[0m 9ms/step - AUC: 0.8758 - Precision: 0.7795 - Recall: 0.8759 - accuracy: 0.8137 - loss: 0.4573\n",
            "Epoch 3: val_loss did not improve from 0.60030\n",
            "\u001b[1m138/138\u001b[0m \u001b[32m━━━━━━━━━━━━━━━━━━━━\u001b[0m\u001b[37m\u001b[0m \u001b[1m1s\u001b[0m 10ms/step - AUC: 0.8765 - Precision: 0.7800 - Recall: 0.8758 - accuracy: 0.8140 - loss: 0.4563 - val_AUC: 0.7693 - val_Precision: 0.2838 - val_Recall: 0.7303 - val_accuracy: 0.7063 - val_loss: 0.6231\n",
            "Epoch 4/100\n",
            "\u001b[1m133/138\u001b[0m \u001b[32m━━━━━━━━━━━━━━━━━━━\u001b[0m\u001b[37m━\u001b[0m \u001b[1m0s\u001b[0m 9ms/step - AUC: 0.9014 - Precision: 0.8006 - Recall: 0.8763 - accuracy: 0.8287 - loss: 0.4133\n",
            "Epoch 4: val_loss did not improve from 0.60030\n",
            "\u001b[1m138/138\u001b[0m \u001b[32m━━━━━━━━━━━━━━━━━━━━\u001b[0m\u001b[37m\u001b[0m \u001b[1m1s\u001b[0m 10ms/step - AUC: 0.9020 - Precision: 0.8010 - Recall: 0.8765 - accuracy: 0.8291 - loss: 0.4124 - val_AUC: 0.7787 - val_Precision: 0.3069 - val_Recall: 0.6517 - val_accuracy: 0.7469 - val_loss: 0.6138\n",
            "Epoch 5/100\n",
            "\u001b[1m133/138\u001b[0m \u001b[32m━━━━━━━━━━━━━━━━━━━\u001b[0m\u001b[37m━\u001b[0m \u001b[1m0s\u001b[0m 9ms/step - AUC: 0.9137 - Precision: 0.8272 - Recall: 0.8976 - accuracy: 0.8548 - loss: 0.3946\n",
            "Epoch 5: val_loss improved from 0.60030 to 0.55426, saving model to ../models/cnn_lstm_best_model.keras\n",
            "\u001b[1m138/138\u001b[0m \u001b[32m━━━━━━━━━━━━━━━━━━━━\u001b[0m\u001b[37m\u001b[0m \u001b[1m1s\u001b[0m 11ms/step - AUC: 0.9142 - Precision: 0.8276 - Recall: 0.8975 - accuracy: 0.8550 - loss: 0.3934 - val_AUC: 0.7850 - val_Precision: 0.3354 - val_Recall: 0.5955 - val_accuracy: 0.7797 - val_loss: 0.5543\n",
            "Epoch 6/100\n",
            "\u001b[1m137/138\u001b[0m \u001b[32m━━━━━━━━━━━━━━━━━━━\u001b[0m\u001b[37m━\u001b[0m \u001b[1m0s\u001b[0m 9ms/step - AUC: 0.9317 - Precision: 0.8401 - Recall: 0.8965 - accuracy: 0.8627 - loss: 0.3542\n",
            "Epoch 6: val_loss did not improve from 0.55426\n",
            "\u001b[1m138/138\u001b[0m \u001b[32m━━━━━━━━━━━━━━━━━━━━\u001b[0m\u001b[37m\u001b[0m \u001b[1m1s\u001b[0m 10ms/step - AUC: 0.9318 - Precision: 0.8403 - Recall: 0.8965 - accuracy: 0.8628 - loss: 0.3539 - val_AUC: 0.7796 - val_Precision: 0.3155 - val_Recall: 0.5955 - val_accuracy: 0.7641 - val_loss: 0.5883\n",
            "Epoch 7/100\n",
            "\u001b[1m134/138\u001b[0m \u001b[32m━━━━━━━━━━━━━━━━━━━\u001b[0m\u001b[37m━\u001b[0m \u001b[1m0s\u001b[0m 10ms/step - AUC: 0.9463 - Precision: 0.8684 - Recall: 0.9164 - accuracy: 0.8887 - loss: 0.3135\n",
            "Epoch 7: val_loss did not improve from 0.55426\n",
            "\u001b[1m138/138\u001b[0m \u001b[32m━━━━━━━━━━━━━━━━━━━━\u001b[0m\u001b[37m\u001b[0m \u001b[1m2s\u001b[0m 11ms/step - AUC: 0.9466 - Precision: 0.8686 - Recall: 0.9164 - accuracy: 0.8888 - loss: 0.3129 - val_AUC: 0.7567 - val_Precision: 0.3287 - val_Recall: 0.5281 - val_accuracy: 0.7844 - val_loss: 0.5834\n",
            "Epoch 8/100\n",
            "\u001b[1m135/138\u001b[0m \u001b[32m━━━━━━━━━━━━━━━━━━━\u001b[0m\u001b[37m━\u001b[0m \u001b[1m0s\u001b[0m 9ms/step - AUC: 0.9481 - Precision: 0.8771 - Recall: 0.9211 - accuracy: 0.8958 - loss: 0.3087\n",
            "Epoch 8: val_loss did not improve from 0.55426\n",
            "\u001b[1m138/138\u001b[0m \u001b[32m━━━━━━━━━━━━━━━━━━━━\u001b[0m\u001b[37m\u001b[0m \u001b[1m1s\u001b[0m 10ms/step - AUC: 0.9484 - Precision: 0.8772 - Recall: 0.9212 - accuracy: 0.8960 - loss: 0.3080 - val_AUC: 0.7613 - val_Precision: 0.3154 - val_Recall: 0.5281 - val_accuracy: 0.7750 - val_loss: 0.6209\n",
            "Epoch 9/100\n",
            "\u001b[1m133/138\u001b[0m \u001b[32m━━━━━━━━━━━━━━━━━━━\u001b[0m\u001b[37m━\u001b[0m \u001b[1m0s\u001b[0m 9ms/step - AUC: 0.9563 - Precision: 0.8918 - Recall: 0.9154 - accuracy: 0.9021 - loss: 0.2881\n",
            "Epoch 9: val_loss did not improve from 0.55426\n",
            "\u001b[1m138/138\u001b[0m \u001b[32m━━━━━━━━━━━━━━━━━━━━\u001b[0m\u001b[37m\u001b[0m \u001b[1m1s\u001b[0m 10ms/step - AUC: 0.9566 - Precision: 0.8921 - Recall: 0.9157 - accuracy: 0.9023 - loss: 0.2874 - val_AUC: 0.7774 - val_Precision: 0.3241 - val_Recall: 0.5281 - val_accuracy: 0.7812 - val_loss: 0.5672\n",
            "Epoch 10/100\n",
            "\u001b[1m133/138\u001b[0m \u001b[32m━━━━━━━━━━━━━━━━━━━\u001b[0m\u001b[37m━\u001b[0m \u001b[1m0s\u001b[0m 9ms/step - AUC: 0.9603 - Precision: 0.8891 - Recall: 0.9173 - accuracy: 0.9013 - loss: 0.2768\n",
            "Epoch 10: val_loss did not improve from 0.55426\n",
            "\u001b[1m138/138\u001b[0m \u001b[32m━━━━━━━━━━━━━━━━━━━━\u001b[0m\u001b[37m\u001b[0m \u001b[1m1s\u001b[0m 10ms/step - AUC: 0.9607 - Precision: 0.8895 - Recall: 0.9175 - accuracy: 0.9016 - loss: 0.2758 - val_AUC: 0.7513 - val_Precision: 0.3092 - val_Recall: 0.5281 - val_accuracy: 0.7703 - val_loss: 0.6312\n",
            "Epoch 11/100\n",
            "\u001b[1m133/138\u001b[0m \u001b[32m━━━━━━━━━━━━━━━━━━━\u001b[0m\u001b[37m━\u001b[0m \u001b[1m0s\u001b[0m 9ms/step - AUC: 0.9665 - Precision: 0.8989 - Recall: 0.9286 - accuracy: 0.9119 - loss: 0.2550\n",
            "Epoch 11: val_loss did not improve from 0.55426\n",
            "\u001b[1m138/138\u001b[0m \u001b[32m━━━━━━━━━━━━━━━━━━━━\u001b[0m\u001b[37m\u001b[0m \u001b[1m1s\u001b[0m 10ms/step - AUC: 0.9667 - Precision: 0.8993 - Recall: 0.9285 - accuracy: 0.9121 - loss: 0.2544 - val_AUC: 0.7459 - val_Precision: 0.3129 - val_Recall: 0.5730 - val_accuracy: 0.7656 - val_loss: 0.7392\n",
            "Epoch 12/100\n",
            "\u001b[1m133/138\u001b[0m \u001b[32m━━━━━━━━━━━━━━━━━━━\u001b[0m\u001b[37m━\u001b[0m \u001b[1m0s\u001b[0m 9ms/step - AUC: 0.9694 - Precision: 0.9141 - Recall: 0.9369 - accuracy: 0.9243 - loss: 0.2415\n",
            "Epoch 12: val_loss did not improve from 0.55426\n",
            "\u001b[1m138/138\u001b[0m \u001b[32m━━━━━━━━━━━━━━━━━━━━\u001b[0m\u001b[37m\u001b[0m \u001b[1m1s\u001b[0m 10ms/step - AUC: 0.9697 - Precision: 0.9145 - Recall: 0.9371 - accuracy: 0.9246 - loss: 0.2406 - val_AUC: 0.7539 - val_Precision: 0.3386 - val_Recall: 0.4831 - val_accuracy: 0.7969 - val_loss: 0.6199\n",
            "Epoch 13/100\n",
            "\u001b[1m133/138\u001b[0m \u001b[32m━━━━━━━━━━━━━━━━━━━\u001b[0m\u001b[37m━\u001b[0m \u001b[1m0s\u001b[0m 9ms/step - AUC: 0.9757 - Precision: 0.9079 - Recall: 0.9331 - accuracy: 0.9191 - loss: 0.2253\n",
            "Epoch 13: val_loss did not improve from 0.55426\n",
            "\u001b[1m138/138\u001b[0m \u001b[32m━━━━━━━━━━━━━━━━━━━━\u001b[0m\u001b[37m\u001b[0m \u001b[1m1s\u001b[0m 10ms/step - AUC: 0.9759 - Precision: 0.9081 - Recall: 0.9333 - accuracy: 0.9193 - loss: 0.2248 - val_AUC: 0.7733 - val_Precision: 0.3588 - val_Recall: 0.5281 - val_accuracy: 0.8031 - val_loss: 0.5798\n",
            "Epoch 14/100\n",
            "\u001b[1m137/138\u001b[0m \u001b[32m━━━━━━━━━━━━━━━━━━━\u001b[0m\u001b[37m━\u001b[0m \u001b[1m0s\u001b[0m 9ms/step - AUC: 0.9717 - Precision: 0.9054 - Recall: 0.9334 - accuracy: 0.9178 - loss: 0.2400\n",
            "Epoch 14: val_loss did not improve from 0.55426\n",
            "\u001b[1m138/138\u001b[0m \u001b[32m━━━━━━━━━━━━━━━━━━━━\u001b[0m\u001b[37m\u001b[0m \u001b[1m1s\u001b[0m 10ms/step - AUC: 0.9718 - Precision: 0.9056 - Recall: 0.9334 - accuracy: 0.9179 - loss: 0.2396 - val_AUC: 0.7700 - val_Precision: 0.3551 - val_Recall: 0.5506 - val_accuracy: 0.7984 - val_loss: 0.6364\n",
            "Epoch 15/100\n",
            "\u001b[1m134/138\u001b[0m \u001b[32m━━━━━━━━━━━━━━━━━━━\u001b[0m\u001b[37m━\u001b[0m \u001b[1m0s\u001b[0m 10ms/step - AUC: 0.9818 - Precision: 0.9300 - Recall: 0.9458 - accuracy: 0.9372 - loss: 0.1993\n",
            "Epoch 15: val_loss did not improve from 0.55426\n",
            "\u001b[1m138/138\u001b[0m \u001b[32m━━━━━━━━━━━━━━━━━━━━\u001b[0m\u001b[37m\u001b[0m \u001b[1m1s\u001b[0m 11ms/step - AUC: 0.9819 - Precision: 0.9303 - Recall: 0.9458 - accuracy: 0.9374 - loss: 0.1986 - val_AUC: 0.7371 - val_Precision: 0.3082 - val_Recall: 0.5056 - val_accuracy: 0.7734 - val_loss: 0.7495\n",
            "Model training finished.\n"
          ]
        }
      ],
      "source": [
        "\n",
        "\n",
        "# EarlyStopping callback\n",
        "early_stopping = EarlyStopping(\n",
        "    monitor='val_loss',\n",
        "    patience=10,\n",
        "    restore_best_weights=True\n",
        ")\n",
        "\n",
        "# Directory for saving models\n",
        "model_save_dir = '../models/'\n",
        "if not os.path.exists(model_save_dir):\n",
        "    os.makedirs(model_save_dir)\n",
        "    print(f\"Created model save directory: {model_save_dir}\")\n",
        "\n",
        "# ModelCheckpoint callback\n",
        "model_checkpoint = ModelCheckpoint(\n",
        "    filepath=os.path.join(model_save_dir, 'cnn_lstm_best_model.keras'),\n",
        "    monitor='val_loss',\n",
        "    save_best_only=True,\n",
        "    save_weights_only=False,  # Save the entire model\n",
        "    mode='min',               # Lower val_loss is better\n",
        "    verbose=1\n",
        ")\n",
        "\n",
        "# Train the model with 1-hour sequence data\n",
        "history = model.fit(\n",
        "    x=[X_train_final, static_train_final],\n",
        "    y=y_train_final,\n",
        "    epochs=100,  # EarlyStopping will stop before this if no improvement\n",
        "    batch_size=32,\n",
        "    validation_data=([X_val_final, static_val_final], y_val_final),\n",
        "    callbacks=[early_stopping, model_checkpoint],\n",
        "    verbose=1\n",
        ")\n",
        "\n",
        "print(\"Model training finished.\")\n"
      ]
    },
    {
      "cell_type": "markdown",
      "id": "5c896457",
      "metadata": {
        "id": "5c896457"
      },
      "source": [
        "## 6. Model Evaluation\n",
        "\n",
        "Load the best trained model and evaluate its performance on the test dataset. This comprehensive evaluation provides insights into model accuracy and generalization capabilities.\n",
        "\n",
        "**Evaluation Process:**\n",
        "- **Best Model Loading:** Load the optimal model weights saved during training\n",
        "- **Test Data Prediction:** Generate predictions on unseen test data\n",
        "- **Performance Metrics:** Calculate accuracy, precision, recall, and F1-score\n",
        "- **Prediction Analysis:** Examine prediction probabilities and thresholds\n",
        "\n",
        "**Key Metrics:**\n",
        "- **Test Accuracy:** Overall classification accuracy on test set\n",
        "- **Binary Classification:** Mortality prediction performance (0: Survived, 1: Died)\n",
        "- **Probability Thresholds:** Analysis of prediction confidence levels\n",
        "- **Model Confidence:** Distribution of prediction probabilities\n",
        "\n",
        "This evaluation ensures the model performs well on new, unseen ICU patient data and provides reliable mortality predictions for clinical decision support."
      ]
    },
    {
      "cell_type": "code",
      "execution_count": 10,
      "id": "d01186a1",
      "metadata": {
        "colab": {
          "base_uri": "https://localhost:8080/"
        },
        "id": "d01186a1",
        "outputId": "121e53db-bde2-4631-b91c-bc90bf71c2dd"
      },
      "outputs": [
        {
          "name": "stdout",
          "output_type": "stream",
          "text": [
            "Test Loss: 0.4834\n",
            "Test Accuracy: 0.7850\n",
            "Test AUC: 0.8374\n",
            "Test Precision: 0.3512\n",
            "Test Recall: 0.6486\n"
          ]
        }
      ],
      "source": [
        "# Evaluate the model on the 1-hour sequence test set\n",
        "loss, accuracy, auc, precision, recall = model.evaluate(\n",
        "    x=[X_test_final, static_test_final],\n",
        "    y=y_test_final,\n",
        "    verbose=0\n",
        ")\n",
        "\n",
        "print(f\"Test Loss: {loss:.4f}\")\n",
        "print(f\"Test Accuracy: {accuracy:.4f}\")\n",
        "print(f\"Test AUC: {auc:.4f}\")\n",
        "print(f\"Test Precision: {precision:.4f}\")\n",
        "print(f\"Test Recall: {recall:.4f}\")\n"
      ]
    },
    {
      "cell_type": "markdown",
      "id": "7bf0f91b",
      "metadata": {
        "id": "7bf0f91b"
      },
      "source": [
        "## 7. Training History Visualization\n",
        "\n",
        "Visualize the training progress to understand model learning patterns and identify potential overfitting or underfitting issues.\n",
        "\n",
        "**Training Metrics Plots:**\n",
        "- **Loss Curves:** Training and validation loss progression over epochs\n",
        "- **Accuracy Curves:** Training and validation accuracy improvement trends\n",
        "- **Performance Analysis:** Comparison between training and validation metrics\n",
        "\n",
        "**Key Insights:**\n",
        "- **Convergence:** How quickly the model learns the patterns\n",
        "- **Overfitting Detection:** Gap between training and validation performance\n",
        "- **Optimal Epochs:** Best training duration based on validation metrics\n",
        "- **Learning Stability:** Smoothness of learning curves and metric consistency\n",
        "\n",
        "These visualizations help validate the training process and ensure the model has learned effectively without overfitting to the training data."
      ]
    },
    {
      "cell_type": "code",
      "execution_count": 11,
      "id": "615c3677",
      "metadata": {
        "colab": {
          "base_uri": "https://localhost:8080/",
          "height": 507
        },
        "id": "615c3677",
        "outputId": "5487505c-5e20-401f-f387-1fe825066503"
      },
      "outputs": [
        {
          "data": {
            "image/png": "[encoded data removed]",
            "text/plain": [
              "<Figure size 1400x500 with 2 Axes>"
            ]
          },
          "metadata": {},
          "output_type": "display_data"
        }
      ],
      "source": [
        "# Plot loss and accuracy\n",
        "plt.figure(figsize=(14, 5))\n",
        "plt.subplot(1, 2, 1)\n",
        "plt.plot(history.history['loss'], label='Train Loss')\n",
        "plt.plot(history.history['val_loss'], label='Validation Loss')\n",
        "plt.title('Loss')\n",
        "plt.xlabel('Epochs')\n",
        "plt.ylabel('Loss')\n",
        "plt.legend()\n",
        "plt.subplot(1, 2, 2)\n",
        "plt.plot(history.history['accuracy'], label='Train Accuracy')\n",
        "plt.plot(history.history['val_accuracy'], label='Validation Accuracy')\n",
        "plt.title('Accuracy')\n",
        "plt.xlabel('Epochs')\n",
        "plt.ylabel('Accuracy')\n",
        "plt.legend()\n",
        "plt.tight_layout()\n",
        "plt.show()\n"
      ]
    },
    {
      "cell_type": "markdown",
      "id": "9d333eb7",
      "metadata": {
        "id": "9d333eb7"
      },
      "source": [
        "# 8.Model Classification report"
      ]
    },
    {
      "cell_type": "code",
      "execution_count": 12,
      "id": "4c70ad11",
      "metadata": {
        "colab": {
          "base_uri": "https://localhost:8080/",
          "height": 772
        },
        "id": "4c70ad11",
        "outputId": "244f5868-8ae9-43a6-d549-4a41d30ec40a"
      },
      "outputs": [
        {
          "name": "stdout",
          "output_type": "stream",
          "text": [
            "Classification Report:\n",
            "              precision    recall  f1-score   support\n",
            "\n",
            "No Mortality       0.93      0.81      0.87       689\n",
            "   Mortality       0.35      0.65      0.46       111\n",
            "\n",
            "    accuracy                           0.79       800\n",
            "   macro avg       0.64      0.73      0.66       800\n",
            "weighted avg       0.85      0.79      0.81       800\n",
            "\n",
            "\n",
            "Confusion Matrix:\n"
          ]
        },
        {
          "data": {
            "image/png": "[encoded data removed]",
            "text/plain": [
              "<Figure size 800x600 with 1 Axes>"
            ]
          },
          "metadata": {},
          "output_type": "display_data"
        }
      ],
      "source": [
        "y_pred_prob = model.predict(x=[X_test_final, static_test_final], verbose=0)\n",
        "\n",
        "y_pred_binary = (y_pred_prob > 0.5).astype(int)\n",
        "\n",
        "# --- Classification Report ---\n",
        "print(\"Classification Report:\")\n",
        "print(classification_report(y_test_final, y_pred_binary, target_names=['No Mortality', 'Mortality']))\n",
        "\n",
        "# --- Confusion Matrix ---\n",
        "cm = confusion_matrix(y_test_final, y_pred_binary)\n",
        "print(\"\\nConfusion Matrix:\")\n",
        "plt.figure(figsize=(8, 6))\n",
        "sns.heatmap(cm, annot=True, fmt='d', cmap='Blues', cbar=False,\n",
        "            xticklabels=['Predicted 0', 'Predicted 1'],\n",
        "            yticklabels=['Actual 0', 'Actual 1'])\n",
        "plt.xlabel('Predicted Label')\n",
        "plt.ylabel('True Label')\n",
        "plt.title('Confusion Matrix')\n",
        "plt.show()\n",
        "\n",
        "\n",
        "# --- ROC AUC Curve ---\n",
        "fpr, tpr, thresholds = roc_curve(y_test_final, y_pred_prob)\n",
        "\n",
        "\n"
      ]
    },
    {
      "cell_type": "code",
      "execution_count": 13,
      "id": "7bb1aeec",
      "metadata": {
        "colab": {
          "base_uri": "https://localhost:8080/"
        },
        "id": "7bb1aeec",
        "outputId": "b1326767-d33c-4b28-f3d6-9d03c9c118ad"
      },
      "outputs": [
        {
          "name": "stdout",
          "output_type": "stream",
          "text": [
            "Model and training history saved to ../models/\n"
          ]
        }
      ],
      "source": [
        "# Save model and training history\n",
        "model.save(os.path.join(model_save_dir, '../models/cnn_lstm_best_model.keras'))\n",
        "with open(os.path.join(model_save_dir, 'cnn_lstm_training_history.pkl'), 'wb') as f:\n",
        "    pickle.dump(history.history, f)\n",
        "print(\"Model and training history saved to\", model_save_dir)\n"
      ]
    },
    {
      "cell_type": "markdown",
      "id": "7f018586",
      "metadata": {
        "id": "7f018586"
      },
      "source": [
        "## Base line Model Evaluation and Training Analysis\n",
        "\n",
        "This section provides a detailed interpretation of the model's performance on the test set and an analysis of the training process based on the loss and accuracy curves.\n",
        "\n",
        "**Test Set Evaluation Interpretation:**\n",
        "\n",
        "The evaluation metrics on the test set provide a crucial assessment of how well the trained model generalizes to unseen data.\n",
        "\n",
        "- **Test Loss (0.4834):** This value represents the average binary crossentropy loss on the test set. A lower loss indicates better model performance in terms of predicting the correct class probabilities.\n",
        "- **Test Accuracy (0.7850):** This is the proportion of correctly classified instances in the test set. An accuracy of 78.50% means the model correctly predicted the mortality outcome for 78.50% of the patients in the test set.\n",
        "- **Test AUC (0.8374):** The Area Under the ROC Curve is a robust metric for evaluating binary classifiers, especially on imbalanced datasets. An AUC of 0.8374 suggests that the model has good discriminatory power, meaning it can effectively distinguish between patients who will survive and those who will not.\n",
        "- **Test Precision (0.3512):** Precision measures the accuracy of the positive predictions. A precision of 0.3512 means that when the model predicts mortality, it is correct about 35.12% of the time. This indicates a relatively high rate of false positives.\n",
        "- **Test Recall (0.6486):** Recall measures the model's ability to find all the positive instances. A recall of 0.6486 means that the model correctly identifies 64.86% of the actual mortality cases. This is important for not missing high-risk patients.\n",
        "\n",
        "The **classification report** and **confusion matrix** provide a more granular view of these metrics, showing the breakdown for each class (No Mortality and Mortality). The confusion matrix visually highlights the number of true positives, true negatives, false positives, and false negatives.\n",
        "\n",
        "**Training Curve Analysis:**\n",
        "\n",
        "The training and validation loss and accuracy curves (shown in the plots above) offer insights into the model's learning process and potential issues.\n",
        "\n",
        "- **Loss Curves:** The training loss consistently decreases over epochs, indicating that the model is learning to fit the training data. However, the validation loss decreases initially but then starts to increase after a certain number of epochs (around epoch 5 in the provided plot). This divergence between training and validation loss is a strong indicator of **overfitting**. The model is learning the training data too well, including its noise and specific patterns, which hurts its performance on unseen validation data.\n",
        "- **Accuracy Curves:** Similarly, the training accuracy steadily increases, while the validation accuracy increases initially but then fluctuates and generally shows less improvement or even slight decrease after the point where validation loss starts increasing. This further supports the observation of overfitting.\n",
        "\n",
        "**Potential Issues and Further Steps:**\n",
        "\n",
        "The observed overfitting suggests that the model's complexity might be too high for the amount of training data, or that the regularization (Dropout and L2) is not sufficient.\n",
        "\n",
        "- **Overfitting:** The model is performing significantly better on the training data than on the validation data. This is a common problem in deep learning and needs to be addressed to improve the model's generalization ability.\n",
        "- **Data Leakage:** While less likely if the data splitting was done correctly, it's always worth double-checking that there is no data leakage between the training, validation, and test sets, as this can lead to overly optimistic validation/test results. However, the overfitting observed here points more towards model complexity or insufficient regularization.\n",
        "\n",
        "**To mitigate overfitting and potentially improve performance-\n",
        "\n",
        "- **More Aggressive Regularization:** Increase the dropout rates or L2 regularization strength.\n",
        "- **Model Simplification:** Reduce the number of layers or neurons in the model.\n",
        "- **Early Stopping:** The Early Stopping callback used in training is designed to stop training when validation performance degrades, which helps to prevent severe overfitting by restoring the best weights. The training stopped at epoch 15, which aligns with the validation loss starting to increase.\n",
        "- **Cross-Validation:** Using cross-validation during the development phase can provide a more robust estimate of model performance and help in hyperparameter tuning."
      ]
    },
    {
      "cell_type": "markdown",
      "id": "1bacb34e",
      "metadata": {
        "id": "1bacb34e"
      },
      "source": [
        "## Prepare data for cross-validation\n"
      ]
    },
    {
      "cell_type": "code",
      "execution_count": 14,
      "id": "4aVsS2KESvWK",
      "metadata": {
        "colab": {
          "base_uri": "https://localhost:8080/"
        },
        "id": "4aVsS2KESvWK",
        "outputId": "9b5197e7-b0a0-4020-ef10-014530e8c06d"
      },
      "outputs": [
        {
          "name": "stdout",
          "output_type": "stream",
          "text": [
            "Shape of combined time-series data: (5046, 48, 28)\n",
            "Shape of combined static data: (5046, 7)\n",
            "Shape of combined target variable: (5046, 1)\n"
          ]
        }
      ],
      "source": [
        "# Reshape y arrays to be 2D for vertical stacking\n",
        "y_train_final_reshaped = y_train_final.reshape(-1, 1)\n",
        "y_val_final_reshaped = y_val_final.reshape(-1, 1)\n",
        "\n",
        "# Combine training and validation data for cross-validation\n",
        "X_combined = np.vstack((X_train_final, X_val_final))\n",
        "static_combined = np.vstack((static_train_final, static_val_final))\n",
        "y_combined = np.vstack((y_train_final_reshaped, y_val_final_reshaped))\n",
        "\n",
        "# Verify the shapes\n",
        "print(\"Shape of combined time-series data:\", X_combined.shape)\n",
        "print(\"Shape of combined static data:\", static_combined.shape)\n",
        "print(\"Shape of combined target variable:\", y_combined.shape)"
      ]
    },
    {
      "cell_type": "code",
      "execution_count": 18,
      "id": "49ab4133",
      "metadata": {
        "colab": {
          "base_uri": "https://localhost:8080/"
        },
        "id": "49ab4133",
        "outputId": "34dd0e5d-cff9-4c59-fb6c-80fe56a44fc8"
      },
      "outputs": [
        {
          "name": "stdout",
          "output_type": "stream",
          "text": [
            "Number of splits for k-fold cross-validation: 5\n",
            "\n",
            "--- Starting Fold 1/5 ---\n",
            "Training model for current fold...\n",
            "Training finished for current fold.\n",
            "Evaluating model for current fold...\n",
            "Fold 1 - Loss: 0.3191, Accuracy: 0.8832, AUC: 0.9473, Precision: 0.8501, Recall: 0.9020\n",
            "\n",
            "--- Starting Fold 2/5 ---\n",
            "Training model for current fold...\n",
            "Training finished for current fold.\n",
            "Evaluating model for current fold...\n",
            "Fold 2 - Loss: 0.3048, Accuracy: 0.9068, AUC: 0.9610, Precision: 0.8957, Recall: 0.8996\n",
            "\n",
            "--- Starting Fold 3/5 ---\n",
            "Training model for current fold...\n",
            "Training finished for current fold.\n",
            "Evaluating model for current fold...\n",
            "Fold 3 - Loss: 0.3027, Accuracy: 0.9019, AUC: 0.9627, Precision: 0.8795, Recall: 0.9083\n",
            "\n",
            "--- Starting Fold 4/5 ---\n",
            "Training model for current fold...\n",
            "Training finished for current fold.\n",
            "Evaluating model for current fold...\n",
            "Fold 4 - Loss: 0.3070, Accuracy: 0.9068, AUC: 0.9638, Precision: 0.8669, Recall: 0.9389\n",
            "\n",
            "--- Starting Fold 5/5 ---\n",
            "Training model for current fold...\n",
            "Training finished for current fold.\n",
            "Evaluating model for current fold...\n",
            "Fold 5 - Loss: 0.3616, Accuracy: 0.8593, AUC: 0.9371, Precision: 0.8151, Recall: 0.8932\n",
            "\n",
            "--- Cross-validation finished ---\n"
          ]
        }
      ],
      "source": [
        "# Define the number of splits for k-fold cross-validation\n",
        "n_splits = 5\n",
        "print(f\"Number of splits for k-fold cross-validation: {n_splits}\")\n",
        "\n",
        "# Instantiate StratifiedKFold\n",
        "kf = StratifiedKFold(n_splits=n_splits, shuffle=True, random_state=42)\n",
        "\n",
        "# Initialize empty lists to store the evaluation metrics for each fold\n",
        "fold_loss = []\n",
        "fold_accuracy = []\n",
        "fold_auc = []\n",
        "fold_precision = []\n",
        "fold_recall = []\n",
        "\n",
        "#  Start a loop that iterates through the splits\n",
        "for fold, (train_index, val_index) in enumerate(kf.split(X_combined, y_combined)):\n",
        "    #  Print the current fold number\n",
        "    print(f\"\\n--- Starting Fold {fold + 1}/{n_splits} ---\")\n",
        "\n",
        "    # Split data into training and validation sets for the current fold\n",
        "    X_train_fold, X_val_fold = X_combined[train_index], X_combined[val_index]\n",
        "    static_train_fold, static_val_fold = static_combined[train_index], static_combined[val_index]\n",
        "    y_train_fold, y_val_fold = y_combined[train_index], y_combined[val_index]\n",
        "\n",
        "    # Build a fresh model for the current fold\n",
        "    model = build_cnn_lstm_model(time_series_input_shape, static_input_shape)\n",
        "\n",
        "    # Define callbacks for the current fold\n",
        "    fold_early_stopping = EarlyStopping(\n",
        "        monitor='val_loss',\n",
        "        patience=10,\n",
        "        restore_best_weights=True\n",
        "    )\n",
        "\n",
        "    # Train the model on the training data for the current fold\n",
        "    print(\"Training model for current fold...\")\n",
        "    history_fold = model.fit(\n",
        "        x=[X_train_fold, static_train_fold],\n",
        "        y=y_train_fold,\n",
        "        epochs=100, # Use a sufficiently large number of epochs, EarlyStopping will manage the actual number\n",
        "        batch_size=32,\n",
        "        validation_data=([X_val_fold, static_val_fold], y_val_fold),\n",
        "        callbacks=[fold_early_stopping],\n",
        "        verbose=0 # Set to 1 to see training progress per epoch\n",
        "    )\n",
        "    print(\"Training finished for current fold.\")\n",
        "\n",
        "    # Evaluate the model on the validation data for the current fold\n",
        "    print(\"Evaluating model for current fold...\")\n",
        "    loss, accuracy, auc, precision, recall = model.evaluate(\n",
        "        x=[X_val_fold, static_val_fold],\n",
        "        y=y_val_fold,\n",
        "        verbose=0\n",
        "    )\n",
        "    print(f\"Fold {fold + 1} - Loss: {loss:.4f}, Accuracy: {accuracy:.4f}, AUC: {auc:.4f}, Precision: {precision:.4f}, Recall: {recall:.4f}\")\n",
        "\n",
        "    # Store the metrics\n",
        "    fold_loss.append(loss)\n",
        "    fold_accuracy.append(accuracy)\n",
        "    fold_auc.append(auc)\n",
        "    fold_precision.append(precision)\n",
        "    fold_recall.append(recall)\n",
        "\n",
        "print(\"\\n--- Cross-validation finished ---\")"
      ]
    },
    {
      "cell_type": "markdown",
      "id": "fa11ec6d",
      "metadata": {
        "id": "fa11ec6d"
      },
      "source": [
        "## 9. Aggregate and Report Cross-Validation Results\n",
        "\n",
        "Calculate and report the average and standard deviation of the evaluation metrics (Loss, Accuracy, AUC, Precision, Recall) across all cross-validation folds. This provides a more robust estimate of the model's performance."
      ]
    },
    {
      "cell_type": "code",
      "execution_count": 19,
      "id": "38f8c380",
      "metadata": {
        "colab": {
          "base_uri": "https://localhost:8080/"
        },
        "id": "38f8c380",
        "outputId": "8122b290-d3aa-4c57-bfcc-82746955cb03"
      },
      "outputs": [
        {
          "name": "stdout",
          "output_type": "stream",
          "text": [
            "\n",
            "--- Cross-validation Results (Mean +/- Std Dev) ---\n",
            "Average Loss: 0.3191 +/- 0.0220\n",
            "Average Accuracy: 0.8916 +/- 0.0184\n",
            "Average AUC: 0.9544 +/- 0.0105\n",
            "Average Precision: 0.8615 +/- 0.0276\n",
            "Average Recall: 0.9084 +/- 0.0160\n",
            "\n",
            "--- Detailed Fold Results ---\n",
            "Fold 1: Loss=0.3191, Accuracy=0.8832, AUC=0.9473, Precision=0.8501, Recall=0.9020\n",
            "Fold 2: Loss=0.3048, Accuracy=0.9068, AUC=0.9610, Precision=0.8957, Recall=0.8996\n",
            "Fold 3: Loss=0.3027, Accuracy=0.9019, AUC=0.9627, Precision=0.8795, Recall=0.9083\n",
            "Fold 4: Loss=0.3070, Accuracy=0.9068, AUC=0.9638, Precision=0.8669, Recall=0.9389\n",
            "Fold 5: Loss=0.3616, Accuracy=0.8593, AUC=0.9371, Precision=0.8151, Recall=0.8932\n"
          ]
        }
      ],
      "source": [
        "# Aggregate and report the cross-validation results\n",
        "print(\"\\n--- Cross-validation Results (Mean +/- Std Dev) ---\")\n",
        "print(f\"Average Loss: {np.mean(fold_loss):.4f} +/- {np.std(fold_loss):.4f}\")\n",
        "print(f\"Average Accuracy: {np.mean(fold_accuracy):.4f} +/- {np.std(fold_accuracy):.4f}\")\n",
        "print(f\"Average AUC: {np.mean(fold_auc):.4f} +/- {np.std(fold_auc):.4f}\")\n",
        "print(f\"Average Precision: {np.mean(fold_precision):.4f} +/- {np.std(fold_precision):.4f}\")\n",
        "print(f\"Average Recall: {np.mean(fold_recall):.4f} +/- {np.std(fold_recall):.4f}\")\n",
        "\n",
        "print(\"\\n--- Detailed Fold Results ---\")\n",
        "for i in range(len(fold_loss)):\n",
        "    print(f\"Fold {i+1}: Loss={fold_loss[i]:.4f}, Accuracy={fold_accuracy[i]:.4f}, AUC={fold_auc[i]:.4f}, Precision={fold_precision[i]:.4f}, Recall={fold_recall[i]:.4f}\")"
      ]
    },
    {
      "cell_type": "markdown",
      "id": "c85f5ded",
      "metadata": {
        "id": "c85f5ded"
      },
      "source": [
        "## 10. Train Final Model on Combined Data\n",
        "\n",
        "Train the final CNN-LSTM model on the entire combined training and validation dataset. This model will use the insights gained from the cross-validation (e.g., average number of epochs before early stopping) to potentially improve performance."
      ]
    },
    {
      "cell_type": "code",
      "execution_count": 20,
      "id": "e685d755",
      "metadata": {
        "colab": {
          "base_uri": "https://localhost:8080/"
        },
        "id": "e685d755",
        "outputId": "42ada04a-6099-44c7-ca2b-c94745b23014"
      },
      "outputs": [
        {
          "name": "stdout",
          "output_type": "stream",
          "text": [
            "Training final model on combined training and validation data...\n",
            "Epoch 1/25\n",
            "\u001b[1m158/158\u001b[0m \u001b[32m━━━━━━━━━━━━━━━━━━━━\u001b[0m\u001b[37m\u001b[0m \u001b[1m5s\u001b[0m 9ms/step - AUC: 0.7251 - Precision: 0.6910 - Recall: 0.5289 - accuracy: 0.6844 - loss: 0.6298\n",
            "Epoch 2/25\n",
            "\u001b[1m158/158\u001b[0m \u001b[32m━━━━━━━━━━━━━━━━━━━━\u001b[0m\u001b[37m\u001b[0m \u001b[1m2s\u001b[0m 9ms/step - AUC: 0.8610 - Precision: 0.7454 - Recall: 0.7997 - accuracy: 0.7865 - loss: 0.4881\n",
            "Epoch 3/25\n",
            "\u001b[1m158/158\u001b[0m \u001b[32m━━━━━━━━━━━━━━━━━━━━\u001b[0m\u001b[37m\u001b[0m \u001b[1m2s\u001b[0m 9ms/step - AUC: 0.8847 - Precision: 0.7683 - Recall: 0.8216 - accuracy: 0.8080 - loss: 0.4506\n",
            "Epoch 4/25\n",
            "\u001b[1m158/158\u001b[0m \u001b[32m━━━━━━━━━━━━━━━━━━━━\u001b[0m\u001b[37m\u001b[0m \u001b[1m1s\u001b[0m 9ms/step - AUC: 0.8996 - Precision: 0.7787 - Recall: 0.8407 - accuracy: 0.8203 - loss: 0.4243\n",
            "Epoch 5/25\n",
            "\u001b[1m158/158\u001b[0m \u001b[32m━━━━━━━━━━━━━━━━━━━━\u001b[0m\u001b[37m\u001b[0m \u001b[1m1s\u001b[0m 9ms/step - AUC: 0.9132 - Precision: 0.8108 - Recall: 0.8440 - accuracy: 0.8407 - loss: 0.3970\n",
            "Epoch 6/25\n",
            "\u001b[1m158/158\u001b[0m \u001b[32m━━━━━━━━━━━━━━━━━━━━\u001b[0m\u001b[37m\u001b[0m \u001b[1m1s\u001b[0m 9ms/step - AUC: 0.9248 - Precision: 0.8121 - Recall: 0.8602 - accuracy: 0.8472 - loss: 0.3718\n",
            "Epoch 7/25\n",
            "\u001b[1m158/158\u001b[0m \u001b[32m━━━━━━━━━━━━━━━━━━━━\u001b[0m\u001b[37m\u001b[0m \u001b[1m2s\u001b[0m 9ms/step - AUC: 0.9351 - Precision: 0.8268 - Recall: 0.8716 - accuracy: 0.8597 - loss: 0.3452\n",
            "Epoch 8/25\n",
            "\u001b[1m158/158\u001b[0m \u001b[32m━━━━━━━━━━━━━━━━━━━━\u001b[0m\u001b[37m\u001b[0m \u001b[1m1s\u001b[0m 9ms/step - AUC: 0.9420 - Precision: 0.8335 - Recall: 0.8956 - accuracy: 0.8720 - loss: 0.3298\n",
            "Epoch 9/25\n",
            "\u001b[1m158/158\u001b[0m \u001b[32m━━━━━━━━━━━━━━━━━━━━\u001b[0m\u001b[37m\u001b[0m \u001b[1m1s\u001b[0m 9ms/step - AUC: 0.9456 - Precision: 0.8376 - Recall: 0.8885 - accuracy: 0.8719 - loss: 0.3215\n",
            "Epoch 10/25\n",
            "\u001b[1m158/158\u001b[0m \u001b[32m━━━━━━━━━━━━━━━━━━━━\u001b[0m\u001b[37m\u001b[0m \u001b[1m2s\u001b[0m 9ms/step - AUC: 0.9530 - Precision: 0.8587 - Recall: 0.8955 - accuracy: 0.8864 - loss: 0.3028\n",
            "Epoch 11/25\n",
            "\u001b[1m158/158\u001b[0m \u001b[32m━━━━━━━━━━━━━━━━━━━━\u001b[0m\u001b[37m\u001b[0m \u001b[1m1s\u001b[0m 9ms/step - AUC: 0.9583 - Precision: 0.8749 - Recall: 0.8842 - accuracy: 0.8909 - loss: 0.2861\n",
            "Epoch 12/25\n",
            "\u001b[1m158/158\u001b[0m \u001b[32m━━━━━━━━━━━━━━━━━━━━\u001b[0m\u001b[37m\u001b[0m \u001b[1m1s\u001b[0m 9ms/step - AUC: 0.9657 - Precision: 0.8951 - Recall: 0.8946 - accuracy: 0.9051 - loss: 0.2628\n",
            "Epoch 13/25\n",
            "\u001b[1m158/158\u001b[0m \u001b[32m━━━━━━━━━━━━━━━━━━━━\u001b[0m\u001b[37m\u001b[0m \u001b[1m1s\u001b[0m 9ms/step - AUC: 0.9670 - Precision: 0.8927 - Recall: 0.9047 - accuracy: 0.9080 - loss: 0.2588\n",
            "Epoch 14/25\n",
            "\u001b[1m158/158\u001b[0m \u001b[32m━━━━━━━━━━━━━━━━━━━━\u001b[0m\u001b[37m\u001b[0m \u001b[1m1s\u001b[0m 9ms/step - AUC: 0.9680 - Precision: 0.9017 - Recall: 0.8977 - accuracy: 0.9098 - loss: 0.2537\n",
            "Epoch 15/25\n",
            "\u001b[1m158/158\u001b[0m \u001b[32m━━━━━━━━━━━━━━━━━━━━\u001b[0m\u001b[37m\u001b[0m \u001b[1m1s\u001b[0m 9ms/step - AUC: 0.9736 - Precision: 0.9098 - Recall: 0.9136 - accuracy: 0.9202 - loss: 0.2356\n",
            "Epoch 16/25\n",
            "\u001b[1m158/158\u001b[0m \u001b[32m━━━━━━━━━━━━━━━━━━━━\u001b[0m\u001b[37m\u001b[0m \u001b[1m1s\u001b[0m 9ms/step - AUC: 0.9765 - Precision: 0.9158 - Recall: 0.9183 - accuracy: 0.9252 - loss: 0.2231\n",
            "Epoch 17/25\n",
            "\u001b[1m158/158\u001b[0m \u001b[32m━━━━━━━━━━━━━━━━━━━━\u001b[0m\u001b[37m\u001b[0m \u001b[1m1s\u001b[0m 9ms/step - AUC: 0.9724 - Precision: 0.9060 - Recall: 0.9172 - accuracy: 0.9198 - loss: 0.2401\n",
            "Epoch 18/25\n",
            "\u001b[1m158/158\u001b[0m \u001b[32m━━━━━━━━━━━━━━━━━━━━\u001b[0m\u001b[37m\u001b[0m \u001b[1m2s\u001b[0m 10ms/step - AUC: 0.9801 - Precision: 0.9230 - Recall: 0.9042 - accuracy: 0.9230 - loss: 0.2104\n",
            "Epoch 19/25\n",
            "\u001b[1m158/158\u001b[0m \u001b[32m━━━━━━━━━━━━━━━━━━━━\u001b[0m\u001b[37m\u001b[0m \u001b[1m1s\u001b[0m 9ms/step - AUC: 0.9820 - Precision: 0.9363 - Recall: 0.9180 - accuracy: 0.9349 - loss: 0.2016\n",
            "Epoch 20/25\n",
            "\u001b[1m158/158\u001b[0m \u001b[32m━━━━━━━━━━━━━━━━━━━━\u001b[0m\u001b[37m\u001b[0m \u001b[1m1s\u001b[0m 9ms/step - AUC: 0.9812 - Precision: 0.9323 - Recall: 0.9204 - accuracy: 0.9339 - loss: 0.2038\n",
            "Epoch 21/25\n",
            "\u001b[1m158/158\u001b[0m \u001b[32m━━━━━━━━━━━━━━━━━━━━\u001b[0m\u001b[37m\u001b[0m \u001b[1m1s\u001b[0m 9ms/step - AUC: 0.9841 - Precision: 0.9414 - Recall: 0.9315 - accuracy: 0.9430 - loss: 0.1869\n",
            "Epoch 22/25\n",
            "\u001b[1m158/158\u001b[0m \u001b[32m━━━━━━━━━━━━━━━━━━━━\u001b[0m\u001b[37m\u001b[0m \u001b[1m1s\u001b[0m 9ms/step - AUC: 0.9852 - Precision: 0.9485 - Recall: 0.9338 - accuracy: 0.9472 - loss: 0.1822\n",
            "Epoch 23/25\n",
            "\u001b[1m158/158\u001b[0m \u001b[32m━━━━━━━━━━━━━━━━━━━━\u001b[0m\u001b[37m\u001b[0m \u001b[1m1s\u001b[0m 9ms/step - AUC: 0.9856 - Precision: 0.9378 - Recall: 0.9239 - accuracy: 0.9382 - loss: 0.1854\n",
            "Epoch 24/25\n",
            "\u001b[1m158/158\u001b[0m \u001b[32m━━━━━━━━━━━━━━━━━━━━\u001b[0m\u001b[37m\u001b[0m \u001b[1m1s\u001b[0m 9ms/step - AUC: 0.9829 - Precision: 0.9443 - Recall: 0.9266 - accuracy: 0.9423 - loss: 0.1965\n",
            "Epoch 25/25\n",
            "\u001b[1m158/158\u001b[0m \u001b[32m━━━━━━━━━━━━━━━━━━━━\u001b[0m\u001b[37m\u001b[0m \u001b[1m2s\u001b[0m 9ms/step - AUC: 0.9879 - Precision: 0.9487 - Recall: 0.9357 - accuracy: 0.9482 - loss: 0.1743\n",
            "Final model training finished.\n"
          ]
        }
      ],
      "source": [
        "final_model = build_cnn_lstm_model(time_series_input_shape, static_input_shape)\n",
        "\n",
        "# Define Early Stopping callback for the final training\n",
        "final_early_stopping = EarlyStopping(\n",
        "    monitor='val_loss',\n",
        "    patience=10,\n",
        "    restore_best_weights=True\n",
        ")\n",
        "\n",
        "print(\"Training final model on combined training and validation data...\")\n",
        "\n",
        "epochs_for_final_training = 25\n",
        "\n",
        "\n",
        "history_final = final_model.fit(\n",
        "    x=[X_combined, static_combined],\n",
        "    y=y_combined,\n",
        "    epochs=epochs_for_final_training,\n",
        "    batch_size=32,\n",
        "    verbose=1\n",
        ")\n",
        "\n",
        "print(\"Final model training finished.\")"
      ]
    },
    {
      "cell_type": "markdown",
      "id": "643be4f6",
      "metadata": {
        "id": "643be4f6"
      },
      "source": [
        "## 11. Evaluate Final Model on Test Data\n",
        "\n",
        "Evaluate the performance of the final trained model on the independent test dataset using the same metrics as in the cross-validation. This provides the final assessment of the model's generalization ability on unseen data."
      ]
    },
    {
      "cell_type": "code",
      "execution_count": 21,
      "id": "288c293c",
      "metadata": {
        "colab": {
          "base_uri": "https://localhost:8080/"
        },
        "id": "288c293c",
        "outputId": "654cad70-d631-4d89-8781-dfc3dcab1750"
      },
      "outputs": [
        {
          "name": "stdout",
          "output_type": "stream",
          "text": [
            "--- Final Model Evaluation on Test Data ---\n",
            "Test Loss: 0.5828\n",
            "Test Accuracy: 0.8300\n",
            "Test AUC: 0.7858\n",
            "Test Precision: 0.3762\n",
            "Test Recall: 0.3423\n"
          ]
        }
      ],
      "source": [
        "# Evaluate the final model on the test set\n",
        "loss_final, accuracy_final, auc_final, precision_final, recall_final = final_model.evaluate(\n",
        "    x=[X_test_final, static_test_final],\n",
        "    y=y_test_final,\n",
        "    verbose=0\n",
        ")\n",
        "\n",
        "print(\"--- Final Model Evaluation on Test Data ---\")\n",
        "print(f\"Test Loss: {loss_final:.4f}\")\n",
        "print(f\"Test Accuracy: {accuracy_final:.4f}\")\n",
        "print(f\"Test AUC: {auc_final:.4f}\")\n",
        "print(f\"Test Precision: {precision_final:.4f}\")\n",
        "print(f\"Test Recall: {recall_final:.4f}\")"
      ]
    },
    {
      "cell_type": "markdown",
      "id": "0cbc3cef",
      "metadata": {
        "id": "0cbc3cef"
      },
      "source": [
        "## 12. Analyze and Interpret Results\n",
        "\n",
        "Analyze and compare the results from the k-fold cross-validation and the final evaluation on the independent test set. Interpret the performance metrics and discuss the model's generalization ability and any insights gained from the cross-validation process.\n",
        "\n",
        "**Comparison of Results:**\n",
        "\n",
        "Compare the average metrics from the cross-validation with the metrics from the final model evaluation on the test set:\n",
        "\n",
        "- **Cross-Validation (Mean +/- Std Dev):**\n",
        "    - Loss: 0.3191 +/- 0.0220\n",
        "    - Accuracy: 0.8916 +/- 0.0184\n",
        "    - AUC: 0.9544 +/- 0.0105\n",
        "    - Precision: 0.8615 +/- 0.0276\n",
        "    - Recall: 0.9084 +/- 0.0160\n",
        "\n",
        "- **Final Test Set Evaluation:**\n",
        "    - Test Loss: 0.5828\n",
        "    - Test Accuracy: 0.8300\n",
        "    - Test AUC: 0.7858\n",
        "    - Test Precision: 0.3762\n",
        "    - Test Recall: 0.3423\n",
        "\n",
        "**Interpretation:**\n",
        "\n",
        "- **Consistency:** The results show a significant difference between the average cross-validation performance and the final test set evaluation. The model performed much better on the cross-validation folds (which were splits of the combined training and validation data) compared to the independent test set. This suggests that the model might still be overfitting to the training/validation data, or there might be a difference in the distribution of the independent test set compared to the training/validation data.\n",
        "- **Generalization:** The lower performance on the test set (especially in AUC, Precision, and Recall) indicates that the model does not generalize as well to completely unseen data as the cross-validation results might suggest. The test set evaluation provides a more realistic estimate of the model's performance in a real-world scenario.\n",
        "- **Strengths and Weaknesses:** The cross-validation results showed high precision and recall, indicating a good balance in identifying positive cases and having a low rate of false positives within the training/validation distribution. However, the test set results show a much lower precision (0.3762) and recall (0.3423), indicating a higher rate of false positives and a reduced ability to identify actual mortality cases on unseen data. The model's ability to generalize in identifying positive cases is a significant weakness.\n",
        "- **Impact of Cross-Validation:** Cross-validation provided a more optimistic estimate of the model's performance than the final test set evaluation. While it helped in getting a sense of the model's performance variability across different data splits within the combined training/validation set, it did not fully capture the potential drop in performance on a truly independent test set.\n"
      ]
    }
  ],
  "metadata": {
    "accelerator": "GPU",
    "colab": {
      "gpuType": "L4",
      "include_colab_link": true,
      "machine_shape": "hm",
      "provenance": []
    },
    "kernelspec": {
      "display_name": "Python 3",
      "name": "python3"
    },
    "language_info": {
      "codemirror_mode": {
        "name": "ipython",
        "version": 3
      },
      "file_extension": ".py",
      "mimetype": "text/x-python",
      "name": "python",
      "nbconvert_exporter": "python",
      "pygments_lexer": "ipython3",
      "version": "3.11.7"
    }
  },
  "nbformat": 4,
  "nbformat_minor": 5
}
