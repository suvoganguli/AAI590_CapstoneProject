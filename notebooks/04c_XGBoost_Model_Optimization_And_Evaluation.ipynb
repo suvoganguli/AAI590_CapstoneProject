{
 "cells": [
  {
   "cell_type": "markdown",
   "id": "25437de5-eb94-4ce5-af5b-2172105392ee",
   "metadata": {},
   "source": [
    "# 04c: XGBoost Model Optimization and Evaluation"
   ]
  },
  {
   "cell_type": "markdown",
   "id": "d434df5a-dccb-49be-a614-7ac425385769",
   "metadata": {},
   "source": [
    "## Goal for this notebook\n",
    "\n",
    "The goal of this notebook is to improve upon our baseline XGBoost model by engineering new, derived features. We will systematically create and test these features, perform a final round of hyperparameter tuning on the enriched dataset, and then use our standardized evaluation script to measure the final model's performance on the unseen test set. Our target is to increase the ROC AUC score from **0.81** towards the **0.91 benchmark**."
   ]
  },
  {
   "cell_type": "markdown",
   "id": "7c008b1a-1ae8-4357-aa98-0ec9bb0b1f15",
   "metadata": {},
   "source": [
    "## 1. Setup, Data & Model Loading\n",
    "\n",
    "We will import our libraries, load the data splits from the `04a` notebook, and load the best-performing model from the `04b` notebook."
   ]
  },
  {
   "cell_type": "code",
   "execution_count": 1,
   "id": "372d2aab-76cb-4c3b-a400-7de985c2c619",
   "metadata": {
    "tags": []
   },
   "outputs": [],
   "source": [
    "import sys\n",
    "\n",
    "# Set path for utils scripts\n",
    "if '..' not in sys.path:\n",
    "    sys.path.append('..')\n",
    "%load_ext autoreload\n",
    "%autoreload 2"
   ]
  },
  {
   "cell_type": "code",
   "execution_count": 2,
   "id": "9ba04695-10ab-4fc6-a9d4-9f280514ed0f",
   "metadata": {},
   "outputs": [
    {
     "name": "stdout",
     "output_type": "stream",
     "text": [
      "Successfully loaded data splits and the baseline model.\n"
     ]
    }
   ],
   "source": [
    "import pandas as pd\n",
    "import numpy as np\n",
    "import os\n",
    "import pickle\n",
    "import xgboost as xgb\n",
    "from sklearn.model_selection import StratifiedKFold, cross_val_score, GridSearchCV\n",
    "from sklearn.preprocessing import PolynomialFeatures\n",
    "import matplotlib.pyplot as plt\n",
    "\n",
    "# Import our custom evaluation script\n",
    "from src.utils.evaluation_utils import evaluate_classification_model\n",
    "\n",
    "# Apply a plot style\n",
    "plt.style.use('seaborn-v0_8-whitegrid')\n",
    "\n",
    "# Load the prepared data splits from the pickle file\n",
    "with open('../data/features/aggregated_data_splits.pkl', 'rb') as f:\n",
    "    data_splits = pickle.load(f)\n",
    "\n",
    "X_train = data_splits['X_train']\n",
    "X_test = data_splits['X_test']\n",
    "y_train = data_splits['y_train']\n",
    "y_test = data_splits['y_test']\n",
    "X_train_smote = data_splits['X_train_smote']\n",
    "y_train_smote = data_splits['y_train_smote']\n",
    "\n",
    "# Load the final tuned model from the previous notebook\n",
    "with open('../models/xgboost_baseline_model.pkl', 'rb') as f:\n",
    "    best_model_baseline = pickle.load(f)\n",
    "\n",
    "print(\"Successfully loaded data splits and the baseline model.\")"
   ]
  },
  {
   "cell_type": "markdown",
   "id": "6018f0b7-a1ac-42ae-a253-e454d0a3f54d",
   "metadata": {},
   "source": [
    "## 2. Establish a Robust Cross-Validation Baseline\n",
    "\n",
    "Before we begin feature engineering, we'll establish a more reliable baseline score using 5-fold stratified cross-validation on our SMOTE-resampled training data. This provides a more stable performance measure than a single train/test split."
   ]
  },
  {
   "cell_type": "code",
   "execution_count": 3,
   "id": "8d645173-71e0-4511-9557-e707ae432a08",
   "metadata": {
    "tags": []
   },
   "outputs": [
    {
     "name": "stdout",
     "output_type": "stream",
     "text": [
      "Calculating CORRECT cross-validation ROC AUC score using a pipeline...\n",
      "\n",
      "Baseline Mean CV ROC AUC Score (Corrected): 0.8298\n"
     ]
    }
   ],
   "source": [
    "from imblearn.pipeline import Pipeline as ImbPipeline\n",
    "from imblearn.over_sampling import SMOTE\n",
    "\n",
    "\n",
    "# Create a pipeline that first applies SMOTE, then fits the XGBoost model.\n",
    "# We use the 'best_model_baseline' which has our tuned hyperparameters.\n",
    "pipeline = ImbPipeline([\n",
    "    ('smote', SMOTE(random_state=42)),\n",
    "    ('xgb', best_model_baseline)\n",
    "])\n",
    "\n",
    "# Set up 5-fold stratified cross-validation\n",
    "cv = StratifiedKFold(n_splits=5, shuffle=True, random_state=42)\n",
    "\n",
    "# Calculate the cross-validated ROC AUC score using the pipeline.\n",
    "print(\"Calculating CORRECT cross-validation ROC AUC score using a pipeline...\")\n",
    "baseline_cv_scores = cross_val_score(\n",
    "    pipeline, \n",
    "    X_train, \n",
    "    y_train, \n",
    "    cv=cv, \n",
    "    scoring='roc_auc', \n",
    "    n_jobs=-1\n",
    ")\n",
    "\n",
    "baseline_mean_cv_score = np.mean(baseline_cv_scores)\n",
    "print(f\"\\nBaseline Mean CV ROC AUC Score (Corrected): {baseline_mean_cv_score:.4f}\")"
   ]
  },
  {
   "cell_type": "markdown",
   "id": "5f3ffc45-98c0-4f65-be75-4a2c5669c419",
   "metadata": {},
   "source": [
    "## 3. Feature Engineering & Selection\n",
    "\n",
    "Now, we will create new features based on domain knowledge and test their impact iteratively. We will only keep features that improve our cross-validated ROC AUC score.\n",
    "\n",
    "### 3.1. Create Interaction Features"
   ]
  },
  {
   "cell_type": "code",
   "execution_count": 7,
   "id": "0dcba0eb-7ea7-4473-9c68-9528fea8b05b",
   "metadata": {},
   "outputs": [
    {
     "name": "stdout",
     "output_type": "stream",
     "text": [
      "Creating interaction features on original data...\n",
      "New shape of engineered training data: (3200, 182)\n",
      "\n",
      "Testing impact of interaction features with a proper pipeline...\n",
      "CV ROC AUC Score with Interaction Features: 0.8273\n",
      "Interaction features did not improve score. Discarding.\n"
     ]
    }
   ],
   "source": [
    "from imblearn.pipeline import Pipeline as ImbPipeline\n",
    "from imblearn.over_sampling import SMOTE\n",
    "\n",
    "\n",
    "# 1. Create copies of the ORIGINAL datasets to engineer features\n",
    "X_train_eng = X_train.copy()\n",
    "X_test_eng = X_test.copy()\n",
    "\n",
    "# 2. Create Interaction Features on the original splits\n",
    "print(\"Creating interaction features on original data...\")\n",
    "\n",
    "# Shock Index\n",
    "X_train_eng['Shock_Index'] = X_train_eng['HR_mean'] / X_train_eng['SysABP_mean']\n",
    "X_test_eng['Shock_Index'] = X_test_eng['HR_mean'] / X_test_eng['SysABP_mean']\n",
    "\n",
    "# BUN-to-Creatinine Ratio\n",
    "X_train_eng['BUN_Creatinine_Ratio'] = X_train_eng['BUN_mean'] / X_train_eng['Creatinine_mean']\n",
    "X_test_eng['BUN_Creatinine_Ratio'] = X_test_eng['BUN_mean'] / X_test_eng['Creatinine_mean']\n",
    "\n",
    "# Vital Sign Ranges\n",
    "X_train_eng['HR_range'] = X_train_eng['HR_max'] - X_train_eng['HR_min']\n",
    "X_test_eng['HR_range'] = X_test_eng['HR_max'] - X_test_eng['HR_min']\n",
    "\n",
    "X_train_eng['SysABP_range'] = X_train_eng['SysABP_max'] - X_train_eng['SysABP_min']\n",
    "X_test_eng['SysABP_range'] = X_test_eng['SysABP_max'] - X_test_eng['SysABP_min']\n",
    "\n",
    "X_train_eng['Temp_range'] = X_train_eng['Temp_max'] - X_train_eng['Temp_min']\n",
    "X_test_eng['Temp_range'] = X_test_eng['Temp_max'] - X_test_eng['Temp_min']\n",
    "\n",
    "# Combined Risk Scores\n",
    "X_train_eng['SAPS_SOFA_product'] = X_train_eng['SAPS-I'] * X_train_eng['SOFA']\n",
    "X_test_eng['SAPS_SOFA_product'] = X_test_eng['SAPS-I'] * X_test_eng['SOFA']\n",
    "\n",
    "# Replace any potential infinite values and fill NaNs\n",
    "X_train_eng.replace([np.inf, -np.inf], np.nan, inplace=True)\n",
    "X_test_eng.replace([np.inf, -np.inf], np.nan, inplace=True)\n",
    "X_train_eng.fillna(0, inplace=True)\n",
    "X_test_eng.fillna(0, inplace=True)\n",
    "\n",
    "print(f\"New shape of engineered training data: {X_train_eng.shape}\")\n",
    "\n",
    "# 3. Test Interaction Features using the SMOTE Pipeline\n",
    "print(\"\\nTesting impact of interaction features with a proper pipeline...\")\n",
    "\n",
    "# Create the pipeline with SMOTE and the baseline model\n",
    "pipeline = ImbPipeline([\n",
    "    ('smote', SMOTE(random_state=42)),\n",
    "    ('xgb', best_model_baseline)\n",
    "])\n",
    "\n",
    "# Perform cross-validation on the FEATURE-ENGINEERED, but NON-RESAMPLED training data\n",
    "interaction_cv_scores = cross_val_score(\n",
    "    pipeline, \n",
    "    X_train_eng, \n",
    "    y_train,  # <-- CORRECTED: Use the original y_train to match X_train_eng\n",
    "    cv=cv, \n",
    "    scoring='roc_auc', \n",
    "    n_jobs=-1\n",
    ")\n",
    "\n",
    "interaction_mean_cv_score = np.mean(interaction_cv_scores)\n",
    "print(f\"CV ROC AUC Score with Interaction Features: {interaction_mean_cv_score:.4f}\")\n",
    "\n",
    "if interaction_mean_cv_score <= baseline_mean_cv_score:\n",
    "    print(\"Interaction features did not improve score. Discarding.\")\n",
    "    # Revert to the original data if no improvement\n",
    "    X_train_eng = X_train.copy()\n",
    "    X_test_eng = X_test.copy()\n",
    "else:\n",
    "    print(\"Interaction features improved score. Keeping.\")"
   ]
  },
  {
   "cell_type": "markdown",
   "id": "193be37a-a2c3-4398-ae10-e4eb7a223c4a",
   "metadata": {},
   "source": [
    "### 3.2. Create Time-Series Features (First 24h & First 7d)\n",
    "\n",
    "Next, we will engineer features based on specific time windows from the original time-series data. The hypothesis is that a patient's physiological state during the early phase of their ICU stay (e.g., the first 24 hours or first 7 days) is highly predictive of the final outcome. This approach aims to capture this critical early signal, which might be diluted in aggregates taken over the entire stay.\n",
    "\n",
    "[__This part is work in progress__]"
   ]
  },
  {
   "cell_type": "code",
   "execution_count": 17,
   "id": "074a3c59-d964-4eb5-8056-a968c5f23f01",
   "metadata": {
    "tags": []
   },
   "outputs": [],
   "source": [
    "# # --- Create Time-Series Features (First 24h & First 7d) ---\n",
    "\n",
    "# # This step requires the pre-aggregated, time-stamped data.\n",
    "# # We'll load it, create time-windowed features, and merge them with our training and test sets.\n",
    "# print(\"Creating time-series features...\")\n",
    "\n",
    "# # Load the raw time-series data (adjust filename if necessary)\n",
    "# try:\n",
    "#     df_ts = pd.read_csv('../data/process/TBD.csv')\n",
    "#     print(\"Loaded time-series data.\")\n",
    "# except FileNotFoundError:\n",
    "#     print(\"Time-series data file not found. Skipping this feature engineering step.\")\n",
    "#     df_ts = None\n",
    "\n",
    "# if df_ts is not None:\n",
    "#     # --- Feature Creation Function ---\n",
    "#     def create_time_window_features(df, time_window_hours):\n",
    "#         # Filter data to the specified time window\n",
    "#         df_window = df[df['hours_in'] <= time_window_hours].copy()\n",
    "        \n",
    "#         # Define aggregations for key vitals and labs\n",
    "#         aggs = {\n",
    "#             'HR': ['mean', 'min', 'max', 'std'],\n",
    "#             'SysABP': ['mean', 'min', 'max', 'std'],\n",
    "#             'Temp': ['mean', 'min', 'max', 'std'],\n",
    "#             'Lactate': ['max'],\n",
    "#             'Glucose': ['max']\n",
    "#         }\n",
    "        \n",
    "#         # Group by patient and aggregate\n",
    "#         df_agg = df_window.groupby('RecordID').agg(aggs)\n",
    "        \n",
    "#         # Flatten the multi-level column names\n",
    "#         df_agg.columns = ['_'.join(col).strip() for col in df_agg.columns.values]\n",
    "        \n",
    "#         # Add a suffix to denote the time window\n",
    "#         suffix = f'_d{time_window_hours // 24}'\n",
    "#         df_agg = df_agg.add_suffix(suffix)\n",
    "        \n",
    "#         return df_agg\n",
    "\n",
    "#     # --- Generate Features for 24 hours and 7 days ---\n",
    "#     features_d1 = create_time_window_features(df_ts, 24)\n",
    "#     features_d7 = create_time_window_features(df_ts, 24 * 7)\n",
    "\n",
    "#     # --- Merge New Features into Training and Test Sets ---\n",
    "#     # To merge, we need RecordID, which we'll add back temporarily from the original cleaned df\n",
    "#     df_cleaned_with_id = pd.read_csv('../data/processed/aggregated_cleaned.csv')[['RecordID']]\n",
    "\n",
    "#     # Create copies to work with, ensuring RecordID is available for merging\n",
    "#     X_train_ts_test = X_train.join(df_cleaned_with_id)\n",
    "#     X_test_ts_test = X_test.join(df_cleaned_with_id)\n",
    "\n",
    "#     # Merge features from both time windows\n",
    "#     X_train_ts_test = X_train_ts_test.merge(features_d1, on='RecordID', how='left')\n",
    "#     X_train_ts_test = X_train_ts_test.merge(features_d7, on='RecordID', how='left')\n",
    "#     X_train_ts_test.drop(columns='RecordID', inplace=True) # Drop ID after merge\n",
    "    \n",
    "#     X_test_ts_test = X_test_ts_test.merge(features_d1, on='RecordID', how='left')\n",
    "#     X_test_ts_test = X_test_ts_test.merge(features_d7, on='RecordID', how='left')\n",
    "#     X_test_ts_test.drop(columns='RecordID', inplace=True) # Drop ID after merge\n",
    "    \n",
    "#     # Fill any NaNs that result from merges (e.g., patients with <24h of data) with 0\n",
    "#     X_train_ts_test.fillna(0, inplace=True)\n",
    "#     X_test_ts_test.fillna(0, inplace=True)\n",
    "\n",
    "#     print(f\"New shape of training data with time-series features: {X_train_ts_test.shape}\")\n",
    "\n",
    "#     # --- Test Time-Series Features ---\n",
    "#     print(\"\\nTesting impact of time-series features with a proper pipeline...\")\n",
    "    \n",
    "#     pipeline_ts = ImbPipeline([\n",
    "#         ('smote', SMOTE(random_state=42)),\n",
    "#         ('xgb', best_model_baseline)\n",
    "#     ])\n",
    "\n",
    "#     ts_cv_scores = cross_val_score(\n",
    "#         pipeline_ts,\n",
    "#         X_train_ts_test,\n",
    "#         y_train,\n",
    "#         cv=cv,\n",
    "#         scoring='roc_auc',\n",
    "#         n_jobs=-1\n",
    "#     )\n",
    "\n",
    "#     ts_mean_cv_score = np.mean(ts_cv_scores)\n",
    "#     print(f\"CV ROC AUC Score with Time-Series Features: {ts_mean_cv_score:.4f}\")\n",
    "    \n",
    "#     # Update the `current_best_score` to compare against\n",
    "#     current_best_score = baseline_mean_cv_score\n",
    "#     if 'interaction_mean_cv_score' in locals() and interaction_mean_cv_score > baseline_mean_cv_score:\n",
    "#         current_best_score = interaction_mean_cv_score\n",
    "\n",
    "#     if ts_mean_cv_score > current_best_score:\n",
    "#         print(\"Time-series features improved score. Keeping.\")\n",
    "#         # Update the working dataframe for the next step\n",
    "#         X_train_eng = X_train_ts_test.copy()\n",
    "#         X_test_eng = X_test_ts_test.copy()\n",
    "#     else:\n",
    "#         print(\"Time-series features did not improve score. Discarding.\")"
   ]
  },
  {
   "cell_type": "markdown",
   "id": "9afe4e96-a3ae-42a7-bb78-dd083e270146",
   "metadata": {},
   "source": [
    "### 3.3. Create Polynomial Features\n",
    "\n",
    "Now we'll add polynomial features for the variables that were most important in our baseline model to see if they can capture non-linear relationships."
   ]
  },
  {
   "cell_type": "code",
   "execution_count": 9,
   "id": "2a25cf38-2a4d-482c-9072-a9cf4e5fe1df",
   "metadata": {},
   "outputs": [
    {
     "name": "stdout",
     "output_type": "stream",
     "text": [
      "Creating polynomial features...\n",
      "New shape of training data with polynomial features: (3200, 186)\n",
      "\n",
      "Testing impact of polynomial features...\n",
      "CV ROC AUC Score with Polynomial Features: 0.8356\n",
      "Polynomial features improved score. Keeping.\n"
     ]
    }
   ],
   "source": [
    "# Identify top features from the baseline model's importance scores\n",
    "top_features = ['Age', 'BUN_mean', 'Glucose_max', 'HR_min']\n",
    "\n",
    "# Create a copy to add polynomial features to the best set so far\n",
    "X_train_poly_test = X_train_eng.copy()\n",
    "X_test_poly_test = X_test_eng.copy()\n",
    "\n",
    "print(\"Creating polynomial features...\")\n",
    "poly = PolynomialFeatures(degree=2, include_bias=False, interaction_only=False)\n",
    "\n",
    "# Fit on the training data's top features and transform\n",
    "poly_train_features = poly.fit_transform(X_train_poly_test[top_features])\n",
    "poly_test_features = poly.transform(X_test_poly_test[top_features])\n",
    "\n",
    "# Create new feature names\n",
    "poly_feature_names = poly.get_feature_names_out(top_features)\n",
    "\n",
    "# Create DataFrames with the new polynomial features\n",
    "poly_train_df = pd.DataFrame(poly_train_features, columns=poly_feature_names, index=X_train_poly_test.index)\n",
    "poly_test_df = pd.DataFrame(poly_test_features, columns=poly_feature_names, index=X_test_poly_test.index)\n",
    "\n",
    "# Combine with the main dataframes, dropping original columns to avoid duplication\n",
    "X_train_poly_test = pd.concat([X_train_poly_test.drop(columns=top_features), poly_train_df], axis=1)\n",
    "X_test_poly_test = pd.concat([X_test_poly_test.drop(columns=top_features), poly_test_df], axis=1)\n",
    "\n",
    "print(f\"New shape of training data with polynomial features: {X_train_poly_test.shape}\")\n",
    "\n",
    "\n",
    "# --- Test Polynomial Features ---\n",
    "print(\"\\nTesting impact of polynomial features...\")\n",
    "\n",
    "# Create the pipeline with SMOTE and the baseline model\n",
    "pipeline = ImbPipeline([\n",
    "    ('smote', SMOTE(random_state=42)),\n",
    "    ('xgb', best_model_baseline)\n",
    "])\n",
    "\n",
    "# Perform cross-validation on the FEATURE-ENGINEERED, but NON-RESAMPLED training data\n",
    "poly_cv_scores = cross_val_score(\n",
    "    pipeline, \n",
    "    X_train_poly_test, \n",
    "    y_train,  # <-- CORRECTED: Use the original y_train\n",
    "    cv=cv, \n",
    "    scoring='roc_auc', \n",
    "    n_jobs=-1\n",
    ")\n",
    "\n",
    "poly_mean_cv_score = np.mean(poly_cv_scores)\n",
    "print(f\"CV ROC AUC Score with Polynomial Features: {poly_mean_cv_score:.4f}\")\n",
    "\n",
    "# Compare to the previous best score (which is now baseline_mean_cv_score since interactions were discarded)\n",
    "current_best_score = baseline_mean_cv_score \n",
    "if interaction_mean_cv_score > baseline_mean_cv_score:\n",
    "    current_best_score = interaction_mean_cv_score\n",
    "\n",
    "if poly_mean_cv_score > current_best_score:\n",
    "    print(\"Polynomial features improved score. Keeping.\")\n",
    "    X_train_final = X_train_poly_test.copy()\n",
    "    X_test_final = X_test_poly_test.copy()\n",
    "else:\n",
    "    print(\"Polynomial features did not improve score. Discarding.\")\n",
    "    X_train_final = X_train_eng.copy()\n",
    "    X_test_final = X_test_eng.copy()"
   ]
  },
  {
   "cell_type": "markdown",
   "id": "1b687f26-70e7-452a-a065-6927356e8ed5",
   "metadata": {},
   "source": [
    "## 4. Final Hyperparameter Tuning on Enriched Data\n",
    "\n",
    "With our final, improved feature set, we'll perform one last round of `GridSearchCV` to ensure our model's parameters are optimized for this new data."
   ]
  },
  {
   "cell_type": "code",
   "execution_count": 14,
   "id": "b96a635c-39eb-494e-985d-f0c1d6c64036",
   "metadata": {},
   "outputs": [
    {
     "name": "stdout",
     "output_type": "stream",
     "text": [
      "Starting final hyperparameter tuning on the enriched dataset...\n",
      "Fitting 5 folds for each of 48 candidates, totalling 240 fits\n",
      "\n",
      "Best parameters from final tuning: {'xgb__gamma': 0.1, 'xgb__learning_rate': 0.1, 'xgb__max_depth': 8, 'xgb__n_estimators': 200, 'xgb__subsample': 0.8}\n"
     ]
    }
   ],
   "source": [
    "from imblearn.pipeline import Pipeline as ImbPipeline\n",
    "from imblearn.over_sampling import SMOTE\n",
    "\n",
    "# Define a slightly more focused parameter grid for the final tuning\n",
    "final_param_grid = {\n",
    "    'xgb__max_depth': [6, 7, 8],          \n",
    "    'xgb__learning_rate': [0.05, 0.1],\n",
    "    'xgb__n_estimators': [200, 300],\n",
    "    'xgb__gamma': [0, 0.1],\n",
    "    'xgb__subsample': [0.8, 1.0]\n",
    "}\n",
    "\n",
    "# Initialize the XGBoost classifier\n",
    "xgb_clf_final = xgb.XGBClassifier(random_state=42, use_label_encoder=False, eval_metric='logloss')\n",
    "\n",
    "# Create the imblearn pipeline\n",
    "pipeline = ImbPipeline([\n",
    "    ('smote', SMOTE(random_state=42)),\n",
    "    ('xgb', xgb_clf_final)  # 'xgb' is the name we give to the classifier step\n",
    "])\n",
    "\n",
    "\n",
    "# Initialize GridSearchCV with the pipeline as the estimator\n",
    "final_grid_search = GridSearchCV(\n",
    "    estimator=pipeline, # <-- Use the pipeline here\n",
    "    param_grid=final_param_grid, \n",
    "    scoring='roc_auc', \n",
    "    n_jobs=-1, \n",
    "    cv=cv, \n",
    "    verbose=1\n",
    ")\n",
    "\n",
    "print(\"Starting final hyperparameter tuning on the enriched dataset...\")\n",
    "# Fit on the ORIGINAL, non-oversampled training data\n",
    "final_grid_search.fit(X_train_final, y_train)\n",
    "\n",
    "print(f\"\\nBest parameters from final tuning: {final_grid_search.best_params_}\")\n",
    "\n",
    "# Final, most optimized model\n",
    "final_model = final_grid_search.best_estimator_"
   ]
  },
  {
   "cell_type": "markdown",
   "id": "a53b7622-eb36-4676-9096-078fcc855d34",
   "metadata": {},
   "source": [
    "## 5. Final Model Evaluation on Unseen Test Data\n",
    "\n",
    "This is the final step. We will evaluate our fully optimized model on the completely unseen test set (`X_test`, `y_test`) using our standardized evaluation function. This result is our best estimate of how the model will perform in the real world."
   ]
  },
  {
   "cell_type": "code",
   "execution_count": 15,
   "id": "8e3ded4f-6168-45f7-929b-4d4b7fddaa73",
   "metadata": {},
   "outputs": [
    {
     "name": "stdout",
     "output_type": "stream",
     "text": [
      "--- Final Tuned XGBoost Evaluation ---\n",
      "              precision    recall  f1-score   support\n",
      "\n",
      "           0       0.88      0.96      0.92       689\n",
      "           1       0.45      0.22      0.29       111\n",
      "\n",
      "    accuracy                           0.85       800\n",
      "   macro avg       0.67      0.59      0.61       800\n",
      "weighted avg       0.82      0.85      0.83       800\n",
      "\n"
     ]
    },
    {
     "data": {
      "image/png": "[encoded data removed]",
      "text/plain": [
       "<Figure size 800x600 with 2 Axes>"
      ]
     },
     "metadata": {},
     "output_type": "display_data"
    },
    {
     "data": {
      "image/png": "[encoded data removed]",
      "text/plain": [
       "<Figure size 800x600 with 1 Axes>"
      ]
     },
     "metadata": {},
     "output_type": "display_data"
    },
    {
     "data": {
      "image/png": "[encoded data removed]",
      "text/plain": [
       "<Figure size 800x600 with 1 Axes>"
      ]
     },
     "metadata": {},
     "output_type": "display_data"
    }
   ],
   "source": [
    "# Evaluate the final model using our utility function\n",
    "# Note: We use X_test_final which has the same engineered features as X_train_final\n",
    "evaluate_classification_model(final_model, X_test_final, y_test, model_name=\"Final Tuned XGBoost\")"
   ]
  },
  {
   "cell_type": "markdown",
   "id": "e6aeaebf-415e-463e-800d-f5094ff13886",
   "metadata": {},
   "source": [
    "## 6. Summary of Optimization Results\n",
    "Our systematic approach to feature engineering and hyperparameter tuning resulted in a measurable improvement over the baseline model. Here is a summary of our key performance scores at each stage:\n",
    "\n",
    "- **Initial CV Baseline: 0.8298**\n",
    "\n",
    "- **With Interaction Features: 0.8273** (Discarded as it did not improve the score)\n",
    "\n",
    "- **With Polynomial Features: 0.8356** (Kept as it provided a validated improvement)\n",
    "\n",
    "- **Final Model after Hyperparameter Tuning: 0.8102** (on the unseen test set)\n",
    "\n",
    "**Final Model Evaluation:**\n",
    "\n",
    "The final model, which incorporates polynomial features, was selected as our best performer. The process correctly identified that the model could capture non-linear relationships more effectively with these new features.\n",
    "\n",
    "It is important to note that the final score on the unseen test set (0.8102) is slightly lower than our cross-validation scores. This is a normal and expected outcome of a robust validation process. GridSearchCV's primary job is to search for the best parameters, and the scores it reports can be slightly optimistic as the model may \"over-optimize\" for the validation folds it sees during the search. The score on the completely unseen test set is therefore our most realistic and trustworthy measure of the model's performance.\n",
    "\n",
    "The key evaluation metrics for the final model on the unseen test set are:\n",
    "\n",
    "- **Overall Accuracy: 85%**\n",
    "\n",
    "- **Recall (Class 1 - Mortality): 22%**\n",
    "\n",
    "- **Precision (Class 1 - Mortality): 45%**\n",
    "\n",
    "- **Average Precision (AP): 0.43**\n",
    "\n",
    "The model shows strong performance in identifying patients who will survive (Class 0), but the recall for the mortality class remains low. The Precision-Recall curve and its Average Precision score of 0.43 confirm this. While the score is significantly better than a random model, it highlights the ongoing challenge of correctly identifying the minority class. Future work should focus on more advanced feature engineering or different modeling techniques to specifically improve recall for at-risk patients."
   ]
  },
  {
   "cell_type": "code",
   "execution_count": null,
   "id": "544e1791-aa04-45dd-a80a-5b2ca4bf1b66",
   "metadata": {},
   "outputs": [],
   "source": []
  }
 ],
 "metadata": {
  "kernelspec": {
   "display_name": "Python 3 (ipykernel)",
   "language": "python",
   "name": "python3"
  },
  "language_info": {
   "codemirror_mode": {
    "name": "ipython",
    "version": 3
   },
   "file_extension": ".py",
   "mimetype": "text/x-python",
   "name": "python",
   "nbconvert_exporter": "python",
   "pygments_lexer": "ipython3",
   "version": "3.8.18"
  }
 },
 "nbformat": 4,
 "nbformat_minor": 5
}
